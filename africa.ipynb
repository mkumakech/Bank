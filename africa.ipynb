{
 "cells": [
  {
   "cell_type": "markdown",
   "metadata": {
    "collapsed": true
   },
   "source": [
    "<h2>Models to Predict  Population in  Countries of the World</h2>"
   ]
  },
  {
   "cell_type": "markdown",
   "metadata": {},
   "source": [
    "<h2> By Michael Kumakech (Eng.) </h2>"
   ]
  },
  {
   "cell_type": "markdown",
   "metadata": {},
   "source": [
    "<b> Import Libaries</b>"
   ]
  },
  {
   "cell_type": "code",
   "execution_count": 12,
   "metadata": {},
   "outputs": [],
   "source": [
    "import requests\n",
    "import lxml.html as lh\n",
    "import pandas as pd"
   ]
  },
  {
   "cell_type": "markdown",
   "metadata": {},
   "source": [
    "<b> Remove the website to be put in the notebook</b>"
   ]
  },
  {
   "cell_type": "markdown",
   "metadata": {},
   "source": [
    "<b> Check the table headers</b>"
   ]
  },
  {
   "cell_type": "code",
   "execution_count": 13,
   "metadata": {},
   "outputs": [
    {
     "data": {
      "text/plain": [
       "[6, 6, 6, 6, 6, 6, 6, 6, 6, 6, 6, 6]"
      ]
     },
     "execution_count": 13,
     "metadata": {},
     "output_type": "execute_result"
    }
   ],
   "source": [
    "wiki_url = 'https://en.wikipedia.org/wiki/List_of_countries_by_population_(United_Nations)' #assign the wiki page\n",
    "#wiki_url = 'https://en.wikipedia.org/wiki/List_of_countries_by_past_and_projected_future_population'\n",
    "\n",
    "page = requests.get(wiki_url) # create a handle to for contents of the wiki page\n",
    "\n",
    "doc = lh.fromstring(page.content) # store content of the wiki page under doc\n",
    "\n",
    "tr_elements = doc.xpath('//tr') # parse data stored between tr in the html\n",
    "\n",
    "[len(T) for T in tr_elements[:12]] # check the length of the first 12 rows"
   ]
  },
  {
   "cell_type": "code",
   "execution_count": 14,
   "metadata": {},
   "outputs": [
    {
     "name": "stdout",
     "output_type": "stream",
     "text": [
      "1:Country/Territory\n",
      "\n",
      "2:UN continentalregion[4]\n",
      "\n",
      "3:UN statisticalsubregion[4]\n",
      "\n",
      "4:Population(1 July 2018)\n",
      "\n",
      "5:Population(1 July 2019)\n",
      "\n",
      "6:Change\n",
      "\n"
     ]
    }
   ],
   "source": [
    "tr_elements = doc.xpath('//tr') # parse first row as header\n",
    "\n",
    "col = [] # create empty list\n",
    "i = 0\n",
    "\n",
    "for t in tr_elements[0]: # for each row, store each first element (header) and an empty list\n",
    "    i+=1\n",
    "    name=t.text_content()\n",
    "    print(\"%d:%s\" % (i,name))\n",
    "    col.append((name,[]))"
   ]
  },
  {
   "cell_type": "markdown",
   "metadata": {},
   "source": [
    "<b> \n",
    "Check the data in other Row</b>"
   ]
  },
  {
   "cell_type": "code",
   "execution_count": 15,
   "metadata": {},
   "outputs": [],
   "source": [
    "for j in range(1,len(tr_elements)): # Because header is the first row, data would be store in the subsequent rows.\n",
    "    T = tr_elements[j] #T is j'th row\n",
    "    \n",
    "    if len(T)!=6: #if row is not size 3, //tr data is not from the table.\n",
    "        break\n",
    "        \n",
    "    i = 0 #i is the index of the first column\n",
    "    \n",
    "    for t in T.iterchildren(): #iterate through each element of the row\n",
    "        data=t.text_content()\n",
    "            \n",
    "        col[i][1].append(data) #append the data to the empty list of the i'th column\n",
    "            \n",
    "        i+=1 #increment i for the next column"
   ]
  },
  {
   "cell_type": "markdown",
   "metadata": {},
   "source": [
    "<b> \n",
    "What about the numbers of rows and columns</b>"
   ]
  },
  {
   "cell_type": "code",
   "execution_count": 16,
   "metadata": {},
   "outputs": [
    {
     "data": {
      "text/plain": [
       "[234, 234, 234, 234, 234, 234]"
      ]
     },
     "execution_count": 16,
     "metadata": {},
     "output_type": "execute_result"
    }
   ],
   "source": [
    "[len(C) for (title,C) in col]"
   ]
  },
  {
   "cell_type": "markdown",
   "metadata": {},
   "source": [
    "<b> \n",
    "Displays the data frame with three columns.</b>"
   ]
  },
  {
   "cell_type": "code",
   "execution_count": 17,
   "metadata": {},
   "outputs": [],
   "source": [
    "Dict = {title:column for (title,column) in col}\n",
    "df = pd.DataFrame(Dict)"
   ]
  },
  {
   "cell_type": "markdown",
   "metadata": {},
   "source": [
    "<b> Population Estimates between the years 1950 and 1980 (in thousands)</b>"
   ]
  },
  {
   "cell_type": "code",
   "execution_count": 18,
   "metadata": {},
   "outputs": [
    {
     "data": {
      "text/html": [
       "<div>\n",
       "<style scoped>\n",
       "    .dataframe tbody tr th:only-of-type {\n",
       "        vertical-align: middle;\n",
       "    }\n",
       "\n",
       "    .dataframe tbody tr th {\n",
       "        vertical-align: top;\n",
       "    }\n",
       "\n",
       "    .dataframe thead th {\n",
       "        text-align: right;\n",
       "    }\n",
       "</style>\n",
       "<table border=\"1\" class=\"dataframe\">\n",
       "  <thead>\n",
       "    <tr style=\"text-align: right;\">\n",
       "      <th></th>\n",
       "      <th>Country/Territory\\n</th>\n",
       "      <th>UN continentalregion[4]\\n</th>\n",
       "      <th>UN statisticalsubregion[4]\\n</th>\n",
       "      <th>Population(1 July 2018)\\n</th>\n",
       "      <th>Population(1 July 2019)\\n</th>\n",
       "      <th>Change\\n</th>\n",
       "    </tr>\n",
       "  </thead>\n",
       "  <tbody>\n",
       "    <tr>\n",
       "      <th>0</th>\n",
       "      <td>China[a]</td>\n",
       "      <td>Asia</td>\n",
       "      <td>Eastern Asia</td>\n",
       "      <td>1,427,647,786</td>\n",
       "      <td>1,433,783,686</td>\n",
       "      <td>+0.43%\\n</td>\n",
       "    </tr>\n",
       "    <tr>\n",
       "      <th>1</th>\n",
       "      <td>India</td>\n",
       "      <td>Asia</td>\n",
       "      <td>Southern Asia</td>\n",
       "      <td>1,352,642,280</td>\n",
       "      <td>1,366,417,754</td>\n",
       "      <td>+1.02%\\n</td>\n",
       "    </tr>\n",
       "    <tr>\n",
       "      <th>2</th>\n",
       "      <td>United States</td>\n",
       "      <td>Americas</td>\n",
       "      <td>Northern America</td>\n",
       "      <td>327,096,265</td>\n",
       "      <td>329,064,917</td>\n",
       "      <td>+0.60%\\n</td>\n",
       "    </tr>\n",
       "    <tr>\n",
       "      <th>3</th>\n",
       "      <td>Indonesia</td>\n",
       "      <td>Asia</td>\n",
       "      <td>South-eastern Asia</td>\n",
       "      <td>267,670,543</td>\n",
       "      <td>270,625,568</td>\n",
       "      <td>+1.10%\\n</td>\n",
       "    </tr>\n",
       "    <tr>\n",
       "      <th>4</th>\n",
       "      <td>Pakistan</td>\n",
       "      <td>Asia</td>\n",
       "      <td>Southern Asia</td>\n",
       "      <td>212,228,286</td>\n",
       "      <td>216,565,318</td>\n",
       "      <td>+2.04%\\n</td>\n",
       "    </tr>\n",
       "  </tbody>\n",
       "</table>\n",
       "</div>"
      ],
      "text/plain": [
       "  Country/Territory\\n UN continentalregion[4]\\n UN statisticalsubregion[4]\\n  \\\n",
       "0            China[a]                      Asia                 Eastern Asia   \n",
       "1               India                      Asia                Southern Asia   \n",
       "2       United States                  Americas             Northern America   \n",
       "3           Indonesia                      Asia           South-eastern Asia   \n",
       "4            Pakistan                      Asia                Southern Asia   \n",
       "\n",
       "  Population(1 July 2018)\\n Population(1 July 2019)\\n  Change\\n  \n",
       "0             1,427,647,786             1,433,783,686  +0.43%\\n  \n",
       "1             1,352,642,280             1,366,417,754  +1.02%\\n  \n",
       "2               327,096,265               329,064,917  +0.60%\\n  \n",
       "3               267,670,543               270,625,568  +1.10%\\n  \n",
       "4               212,228,286               216,565,318  +2.04%\\n  "
      ]
     },
     "execution_count": 18,
     "metadata": {},
     "output_type": "execute_result"
    }
   ],
   "source": [
    "df.head()"
   ]
  },
  {
   "cell_type": "code",
   "execution_count": 69,
   "metadata": {},
   "outputs": [
    {
     "data": {
      "text/html": [
       "<div>\n",
       "<style scoped>\n",
       "    .dataframe tbody tr th:only-of-type {\n",
       "        vertical-align: middle;\n",
       "    }\n",
       "\n",
       "    .dataframe tbody tr th {\n",
       "        vertical-align: top;\n",
       "    }\n",
       "\n",
       "    .dataframe thead th {\n",
       "        text-align: right;\n",
       "    }\n",
       "</style>\n",
       "<table border=\"1\" class=\"dataframe\">\n",
       "  <thead>\n",
       "    <tr style=\"text-align: right;\">\n",
       "      <th></th>\n",
       "      <th>Country/Territory\\n</th>\n",
       "      <th>UN continentalregion[4]\\n</th>\n",
       "      <th>UN statisticalsubregion[4]\\n</th>\n",
       "      <th>Population(1 July 2018)\\n</th>\n",
       "      <th>Population(1 July 2019)\\n</th>\n",
       "      <th>Change\\n</th>\n",
       "    </tr>\n",
       "  </thead>\n",
       "  <tbody>\n",
       "    <tr>\n",
       "      <th>229</th>\n",
       "      <td>Falkland Islands (United Kingdom)</td>\n",
       "      <td>Americas</td>\n",
       "      <td>South America</td>\n",
       "      <td>3,234</td>\n",
       "      <td>3,377</td>\n",
       "      <td>+4.42%\\n</td>\n",
       "    </tr>\n",
       "    <tr>\n",
       "      <th>230</th>\n",
       "      <td>Niue (New Zealand)</td>\n",
       "      <td>Oceania</td>\n",
       "      <td>Polynesia</td>\n",
       "      <td>1,620</td>\n",
       "      <td>1,615</td>\n",
       "      <td>−0.31%\\n</td>\n",
       "    </tr>\n",
       "    <tr>\n",
       "      <th>231</th>\n",
       "      <td>Tokelau (New Zealand)</td>\n",
       "      <td>Oceania</td>\n",
       "      <td>Polynesia</td>\n",
       "      <td>1,319</td>\n",
       "      <td>1,340</td>\n",
       "      <td>+1.59%\\n</td>\n",
       "    </tr>\n",
       "    <tr>\n",
       "      <th>232</th>\n",
       "      <td>Vatican City[z]</td>\n",
       "      <td>Europe</td>\n",
       "      <td>Southern Europe</td>\n",
       "      <td>801</td>\n",
       "      <td>799</td>\n",
       "      <td>−0.25%\\n</td>\n",
       "    </tr>\n",
       "    <tr>\n",
       "      <th>233</th>\n",
       "      <td>World</td>\n",
       "      <td></td>\n",
       "      <td></td>\n",
       "      <td>7,631,091,040</td>\n",
       "      <td>7,713,468,100</td>\n",
       "      <td>+1.08%\\n</td>\n",
       "    </tr>\n",
       "  </tbody>\n",
       "</table>\n",
       "</div>"
      ],
      "text/plain": [
       "                    Country/Territory\\n UN continentalregion[4]\\n  \\\n",
       "229   Falkland Islands (United Kingdom)                  Americas   \n",
       "230                  Niue (New Zealand)                   Oceania   \n",
       "231               Tokelau (New Zealand)                   Oceania   \n",
       "232                     Vatican City[z]                    Europe   \n",
       "233                               World                             \n",
       "\n",
       "    UN statisticalsubregion[4]\\n Population(1 July 2018)\\n  \\\n",
       "229                South America                     3,234   \n",
       "230                    Polynesia                     1,620   \n",
       "231                    Polynesia                     1,319   \n",
       "232              Southern Europe                       801   \n",
       "233                                          7,631,091,040   \n",
       "\n",
       "    Population(1 July 2019)\\n  Change\\n  \n",
       "229                     3,377  +4.42%\\n  \n",
       "230                     1,615  −0.31%\\n  \n",
       "231                     1,340  +1.59%\\n  \n",
       "232                       799  −0.25%\\n  \n",
       "233             7,713,468,100  +1.08%\\n  "
      ]
     },
     "execution_count": 69,
     "metadata": {},
     "output_type": "execute_result"
    }
   ],
   "source": [
    "df.tail()"
   ]
  },
  {
   "cell_type": "markdown",
   "metadata": {},
   "source": [
    "<h2> Clean the dataframe</h2>"
   ]
  },
  {
   "cell_type": "code",
   "execution_count": 70,
   "metadata": {},
   "outputs": [],
   "source": [
    "import pandas as pd\n",
    "import numpy as np"
   ]
  },
  {
   "cell_type": "markdown",
   "metadata": {},
   "source": [
    "<b> Remove Row 233 with World toral Records</b>"
   ]
  },
  {
   "cell_type": "code",
   "execution_count": 71,
   "metadata": {},
   "outputs": [],
   "source": [
    "# Delete row at index position 233\n",
    "df2 = df.drop([df.index[233]])\n"
   ]
  },
  {
   "cell_type": "code",
   "execution_count": 72,
   "metadata": {},
   "outputs": [
    {
     "data": {
      "text/html": [
       "<div>\n",
       "<style scoped>\n",
       "    .dataframe tbody tr th:only-of-type {\n",
       "        vertical-align: middle;\n",
       "    }\n",
       "\n",
       "    .dataframe tbody tr th {\n",
       "        vertical-align: top;\n",
       "    }\n",
       "\n",
       "    .dataframe thead th {\n",
       "        text-align: right;\n",
       "    }\n",
       "</style>\n",
       "<table border=\"1\" class=\"dataframe\">\n",
       "  <thead>\n",
       "    <tr style=\"text-align: right;\">\n",
       "      <th></th>\n",
       "      <th>Country/Territory\\n</th>\n",
       "      <th>UN continentalregion[4]\\n</th>\n",
       "      <th>UN statisticalsubregion[4]\\n</th>\n",
       "      <th>Population(1 July 2018)\\n</th>\n",
       "      <th>Population(1 July 2019)\\n</th>\n",
       "      <th>Change\\n</th>\n",
       "    </tr>\n",
       "  </thead>\n",
       "  <tbody>\n",
       "    <tr>\n",
       "      <th>228</th>\n",
       "      <td>Montserrat (United Kingdom)</td>\n",
       "      <td>Americas</td>\n",
       "      <td>Caribbean</td>\n",
       "      <td>4,993</td>\n",
       "      <td>4,989</td>\n",
       "      <td>−0.08%\\n</td>\n",
       "    </tr>\n",
       "    <tr>\n",
       "      <th>229</th>\n",
       "      <td>Falkland Islands (United Kingdom)</td>\n",
       "      <td>Americas</td>\n",
       "      <td>South America</td>\n",
       "      <td>3,234</td>\n",
       "      <td>3,377</td>\n",
       "      <td>+4.42%\\n</td>\n",
       "    </tr>\n",
       "    <tr>\n",
       "      <th>230</th>\n",
       "      <td>Niue (New Zealand)</td>\n",
       "      <td>Oceania</td>\n",
       "      <td>Polynesia</td>\n",
       "      <td>1,620</td>\n",
       "      <td>1,615</td>\n",
       "      <td>−0.31%\\n</td>\n",
       "    </tr>\n",
       "    <tr>\n",
       "      <th>231</th>\n",
       "      <td>Tokelau (New Zealand)</td>\n",
       "      <td>Oceania</td>\n",
       "      <td>Polynesia</td>\n",
       "      <td>1,319</td>\n",
       "      <td>1,340</td>\n",
       "      <td>+1.59%\\n</td>\n",
       "    </tr>\n",
       "    <tr>\n",
       "      <th>232</th>\n",
       "      <td>Vatican City[z]</td>\n",
       "      <td>Europe</td>\n",
       "      <td>Southern Europe</td>\n",
       "      <td>801</td>\n",
       "      <td>799</td>\n",
       "      <td>−0.25%\\n</td>\n",
       "    </tr>\n",
       "  </tbody>\n",
       "</table>\n",
       "</div>"
      ],
      "text/plain": [
       "                    Country/Territory\\n UN continentalregion[4]\\n  \\\n",
       "228         Montserrat (United Kingdom)                  Americas   \n",
       "229   Falkland Islands (United Kingdom)                  Americas   \n",
       "230                  Niue (New Zealand)                   Oceania   \n",
       "231               Tokelau (New Zealand)                   Oceania   \n",
       "232                     Vatican City[z]                    Europe   \n",
       "\n",
       "    UN statisticalsubregion[4]\\n Population(1 July 2018)\\n  \\\n",
       "228                    Caribbean                     4,993   \n",
       "229                South America                     3,234   \n",
       "230                    Polynesia                     1,620   \n",
       "231                    Polynesia                     1,319   \n",
       "232              Southern Europe                       801   \n",
       "\n",
       "    Population(1 July 2019)\\n  Change\\n  \n",
       "228                     4,989  −0.08%\\n  \n",
       "229                     3,377  +4.42%\\n  \n",
       "230                     1,615  −0.31%\\n  \n",
       "231                     1,340  +1.59%\\n  \n",
       "232                       799  −0.25%\\n  "
      ]
     },
     "execution_count": 72,
     "metadata": {},
     "output_type": "execute_result"
    }
   ],
   "source": [
    "df2.tail()"
   ]
  },
  {
   "cell_type": "code",
   "execution_count": 73,
   "metadata": {},
   "outputs": [
    {
     "data": {
      "text/html": [
       "<div>\n",
       "<style scoped>\n",
       "    .dataframe tbody tr th:only-of-type {\n",
       "        vertical-align: middle;\n",
       "    }\n",
       "\n",
       "    .dataframe tbody tr th {\n",
       "        vertical-align: top;\n",
       "    }\n",
       "\n",
       "    .dataframe thead th {\n",
       "        text-align: right;\n",
       "    }\n",
       "</style>\n",
       "<table border=\"1\" class=\"dataframe\">\n",
       "  <thead>\n",
       "    <tr style=\"text-align: right;\">\n",
       "      <th></th>\n",
       "      <th>Country/Territory\\n</th>\n",
       "      <th>UN continentalregion[4]\\n</th>\n",
       "      <th>UN statisticalsubregion[4]\\n</th>\n",
       "      <th>Population(1 July 2018)\\n</th>\n",
       "      <th>Population(1 July 2019)\\n</th>\n",
       "      <th>Change\\n</th>\n",
       "    </tr>\n",
       "  </thead>\n",
       "  <tbody>\n",
       "    <tr>\n",
       "      <th>count</th>\n",
       "      <td>233</td>\n",
       "      <td>233</td>\n",
       "      <td>233</td>\n",
       "      <td>233</td>\n",
       "      <td>233</td>\n",
       "      <td>233</td>\n",
       "    </tr>\n",
       "    <tr>\n",
       "      <th>unique</th>\n",
       "      <td>233</td>\n",
       "      <td>5</td>\n",
       "      <td>22</td>\n",
       "      <td>233</td>\n",
       "      <td>233</td>\n",
       "      <td>187</td>\n",
       "    </tr>\n",
       "    <tr>\n",
       "      <th>top</th>\n",
       "      <td>Paraguay</td>\n",
       "      <td>Africa</td>\n",
       "      <td>Caribbean</td>\n",
       "      <td>627,809</td>\n",
       "      <td>1,179,551</td>\n",
       "      <td>+0.73%\\n</td>\n",
       "    </tr>\n",
       "    <tr>\n",
       "      <th>freq</th>\n",
       "      <td>1</td>\n",
       "      <td>58</td>\n",
       "      <td>26</td>\n",
       "      <td>1</td>\n",
       "      <td>1</td>\n",
       "      <td>4</td>\n",
       "    </tr>\n",
       "  </tbody>\n",
       "</table>\n",
       "</div>"
      ],
      "text/plain": [
       "       Country/Territory\\n UN continentalregion[4]\\n  \\\n",
       "count                  233                       233   \n",
       "unique                 233                         5   \n",
       "top               Paraguay                    Africa   \n",
       "freq                     1                        58   \n",
       "\n",
       "       UN statisticalsubregion[4]\\n Population(1 July 2018)\\n  \\\n",
       "count                           233                       233   \n",
       "unique                           22                       233   \n",
       "top                       Caribbean                   627,809   \n",
       "freq                             26                         1   \n",
       "\n",
       "       Population(1 July 2019)\\n  Change\\n  \n",
       "count                        233       233  \n",
       "unique                       233       187  \n",
       "top                    1,179,551  +0.73%\\n  \n",
       "freq                           1         4  "
      ]
     },
     "execution_count": 73,
     "metadata": {},
     "output_type": "execute_result"
    }
   ],
   "source": [
    "df2.describe()"
   ]
  },
  {
   "cell_type": "code",
   "execution_count": 74,
   "metadata": {},
   "outputs": [
    {
     "data": {
      "text/plain": [
       "Country/Territory\\n             object\n",
       "UN continentalregion[4]\\n       object\n",
       "UN statisticalsubregion[4]\\n    object\n",
       "Population(1 July 2018)\\n       object\n",
       "Population(1 July 2019)\\n       object\n",
       "Change\\n                        object\n",
       "dtype: object"
      ]
     },
     "execution_count": 74,
     "metadata": {},
     "output_type": "execute_result"
    }
   ],
   "source": [
    "df2.dtypes"
   ]
  },
  {
   "cell_type": "code",
   "execution_count": 75,
   "metadata": {},
   "outputs": [
    {
     "data": {
      "text/html": [
       "<div>\n",
       "<style scoped>\n",
       "    .dataframe tbody tr th:only-of-type {\n",
       "        vertical-align: middle;\n",
       "    }\n",
       "\n",
       "    .dataframe tbody tr th {\n",
       "        vertical-align: top;\n",
       "    }\n",
       "\n",
       "    .dataframe thead th {\n",
       "        text-align: right;\n",
       "    }\n",
       "</style>\n",
       "<table border=\"1\" class=\"dataframe\">\n",
       "  <thead>\n",
       "    <tr style=\"text-align: right;\">\n",
       "      <th></th>\n",
       "      <th>Population(1 July 2018)\\n</th>\n",
       "      <th>Population(1 July 2019)\\n</th>\n",
       "    </tr>\n",
       "  </thead>\n",
       "  <tbody>\n",
       "    <tr>\n",
       "      <th>0</th>\n",
       "      <td>1,427,647,786</td>\n",
       "      <td>1,433,783,686</td>\n",
       "    </tr>\n",
       "    <tr>\n",
       "      <th>1</th>\n",
       "      <td>1,352,642,280</td>\n",
       "      <td>1,366,417,754</td>\n",
       "    </tr>\n",
       "    <tr>\n",
       "      <th>2</th>\n",
       "      <td>327,096,265</td>\n",
       "      <td>329,064,917</td>\n",
       "    </tr>\n",
       "    <tr>\n",
       "      <th>3</th>\n",
       "      <td>267,670,543</td>\n",
       "      <td>270,625,568</td>\n",
       "    </tr>\n",
       "    <tr>\n",
       "      <th>4</th>\n",
       "      <td>212,228,286</td>\n",
       "      <td>216,565,318</td>\n",
       "    </tr>\n",
       "    <tr>\n",
       "      <th>...</th>\n",
       "      <td>...</td>\n",
       "      <td>...</td>\n",
       "    </tr>\n",
       "    <tr>\n",
       "      <th>228</th>\n",
       "      <td>4,993</td>\n",
       "      <td>4,989</td>\n",
       "    </tr>\n",
       "    <tr>\n",
       "      <th>229</th>\n",
       "      <td>3,234</td>\n",
       "      <td>3,377</td>\n",
       "    </tr>\n",
       "    <tr>\n",
       "      <th>230</th>\n",
       "      <td>1,620</td>\n",
       "      <td>1,615</td>\n",
       "    </tr>\n",
       "    <tr>\n",
       "      <th>231</th>\n",
       "      <td>1,319</td>\n",
       "      <td>1,340</td>\n",
       "    </tr>\n",
       "    <tr>\n",
       "      <th>232</th>\n",
       "      <td>801</td>\n",
       "      <td>799</td>\n",
       "    </tr>\n",
       "  </tbody>\n",
       "</table>\n",
       "<p>233 rows × 2 columns</p>\n",
       "</div>"
      ],
      "text/plain": [
       "    Population(1 July 2018)\\n Population(1 July 2019)\\n\n",
       "0               1,427,647,786             1,433,783,686\n",
       "1               1,352,642,280             1,366,417,754\n",
       "2                 327,096,265               329,064,917\n",
       "3                 267,670,543               270,625,568\n",
       "4                 212,228,286               216,565,318\n",
       "..                        ...                       ...\n",
       "228                     4,993                     4,989\n",
       "229                     3,234                     3,377\n",
       "230                     1,620                     1,615\n",
       "231                     1,319                     1,340\n",
       "232                       801                       799\n",
       "\n",
       "[233 rows x 2 columns]"
      ]
     },
     "execution_count": 75,
     "metadata": {},
     "output_type": "execute_result"
    }
   ],
   "source": [
    "df2_ = df2[['Population(1 July 2018)\\n', 'Population(1 July 2019)\\n']]\n",
    "#df22_ = df2_.replace('[^\\d.]','', regex = True).astype(float)\n",
    "df2_"
   ]
  },
  {
   "cell_type": "code",
   "execution_count": 76,
   "metadata": {},
   "outputs": [
    {
     "data": {
      "text/html": [
       "<div>\n",
       "<style scoped>\n",
       "    .dataframe tbody tr th:only-of-type {\n",
       "        vertical-align: middle;\n",
       "    }\n",
       "\n",
       "    .dataframe tbody tr th {\n",
       "        vertical-align: top;\n",
       "    }\n",
       "\n",
       "    .dataframe thead th {\n",
       "        text-align: right;\n",
       "    }\n",
       "</style>\n",
       "<table border=\"1\" class=\"dataframe\">\n",
       "  <thead>\n",
       "    <tr style=\"text-align: right;\">\n",
       "      <th></th>\n",
       "      <th>Population(1 July 2018)\\n</th>\n",
       "      <th>Population(1 July 2019)\\n</th>\n",
       "    </tr>\n",
       "  </thead>\n",
       "  <tbody>\n",
       "    <tr>\n",
       "      <th>0</th>\n",
       "      <td>1.427648e+09</td>\n",
       "      <td>1.433784e+09</td>\n",
       "    </tr>\n",
       "    <tr>\n",
       "      <th>1</th>\n",
       "      <td>1.352642e+09</td>\n",
       "      <td>1.366418e+09</td>\n",
       "    </tr>\n",
       "    <tr>\n",
       "      <th>2</th>\n",
       "      <td>3.270963e+08</td>\n",
       "      <td>3.290649e+08</td>\n",
       "    </tr>\n",
       "    <tr>\n",
       "      <th>3</th>\n",
       "      <td>2.676705e+08</td>\n",
       "      <td>2.706256e+08</td>\n",
       "    </tr>\n",
       "    <tr>\n",
       "      <th>4</th>\n",
       "      <td>2.122283e+08</td>\n",
       "      <td>2.165653e+08</td>\n",
       "    </tr>\n",
       "    <tr>\n",
       "      <th>...</th>\n",
       "      <td>...</td>\n",
       "      <td>...</td>\n",
       "    </tr>\n",
       "    <tr>\n",
       "      <th>228</th>\n",
       "      <td>4.993000e+03</td>\n",
       "      <td>4.989000e+03</td>\n",
       "    </tr>\n",
       "    <tr>\n",
       "      <th>229</th>\n",
       "      <td>3.234000e+03</td>\n",
       "      <td>3.377000e+03</td>\n",
       "    </tr>\n",
       "    <tr>\n",
       "      <th>230</th>\n",
       "      <td>1.620000e+03</td>\n",
       "      <td>1.615000e+03</td>\n",
       "    </tr>\n",
       "    <tr>\n",
       "      <th>231</th>\n",
       "      <td>1.319000e+03</td>\n",
       "      <td>1.340000e+03</td>\n",
       "    </tr>\n",
       "    <tr>\n",
       "      <th>232</th>\n",
       "      <td>8.010000e+02</td>\n",
       "      <td>7.990000e+02</td>\n",
       "    </tr>\n",
       "  </tbody>\n",
       "</table>\n",
       "<p>233 rows × 2 columns</p>\n",
       "</div>"
      ],
      "text/plain": [
       "     Population(1 July 2018)\\n  Population(1 July 2019)\\n\n",
       "0                 1.427648e+09               1.433784e+09\n",
       "1                 1.352642e+09               1.366418e+09\n",
       "2                 3.270963e+08               3.290649e+08\n",
       "3                 2.676705e+08               2.706256e+08\n",
       "4                 2.122283e+08               2.165653e+08\n",
       "..                         ...                        ...\n",
       "228               4.993000e+03               4.989000e+03\n",
       "229               3.234000e+03               3.377000e+03\n",
       "230               1.620000e+03               1.615000e+03\n",
       "231               1.319000e+03               1.340000e+03\n",
       "232               8.010000e+02               7.990000e+02\n",
       "\n",
       "[233 rows x 2 columns]"
      ]
     },
     "execution_count": 76,
     "metadata": {},
     "output_type": "execute_result"
    }
   ],
   "source": [
    "df22_ = df2_.replace('[^\\d.]','', regex = True).astype(float)\n",
    "df22_"
   ]
  },
  {
   "cell_type": "code",
   "execution_count": 78,
   "metadata": {},
   "outputs": [
    {
     "data": {
      "text/plain": [
       "Population(1 July 2018)\\n    float64\n",
       "Population(1 July 2019)\\n    float64\n",
       "dtype: object"
      ]
     },
     "execution_count": 78,
     "metadata": {},
     "output_type": "execute_result"
    }
   ],
   "source": [
    "\n",
    "df22_.dtypes\n"
   ]
  },
  {
   "cell_type": "code",
   "execution_count": 79,
   "metadata": {},
   "outputs": [
    {
     "data": {
      "text/html": [
       "<div>\n",
       "<style scoped>\n",
       "    .dataframe tbody tr th:only-of-type {\n",
       "        vertical-align: middle;\n",
       "    }\n",
       "\n",
       "    .dataframe tbody tr th {\n",
       "        vertical-align: top;\n",
       "    }\n",
       "\n",
       "    .dataframe thead th {\n",
       "        text-align: right;\n",
       "    }\n",
       "</style>\n",
       "<table border=\"1\" class=\"dataframe\">\n",
       "  <thead>\n",
       "    <tr style=\"text-align: right;\">\n",
       "      <th></th>\n",
       "      <th>Population(1 July 2018)\\n</th>\n",
       "      <th>Population(1 July 2019)\\n</th>\n",
       "    </tr>\n",
       "  </thead>\n",
       "  <tbody>\n",
       "    <tr>\n",
       "      <th>0</th>\n",
       "      <td>1.427648e+09</td>\n",
       "      <td>1.433784e+09</td>\n",
       "    </tr>\n",
       "    <tr>\n",
       "      <th>1</th>\n",
       "      <td>1.352642e+09</td>\n",
       "      <td>1.366418e+09</td>\n",
       "    </tr>\n",
       "    <tr>\n",
       "      <th>2</th>\n",
       "      <td>3.270963e+08</td>\n",
       "      <td>3.290649e+08</td>\n",
       "    </tr>\n",
       "    <tr>\n",
       "      <th>3</th>\n",
       "      <td>2.676705e+08</td>\n",
       "      <td>2.706256e+08</td>\n",
       "    </tr>\n",
       "    <tr>\n",
       "      <th>4</th>\n",
       "      <td>2.122283e+08</td>\n",
       "      <td>2.165653e+08</td>\n",
       "    </tr>\n",
       "    <tr>\n",
       "      <th>...</th>\n",
       "      <td>...</td>\n",
       "      <td>...</td>\n",
       "    </tr>\n",
       "    <tr>\n",
       "      <th>228</th>\n",
       "      <td>4.993000e+03</td>\n",
       "      <td>4.989000e+03</td>\n",
       "    </tr>\n",
       "    <tr>\n",
       "      <th>229</th>\n",
       "      <td>3.234000e+03</td>\n",
       "      <td>3.377000e+03</td>\n",
       "    </tr>\n",
       "    <tr>\n",
       "      <th>230</th>\n",
       "      <td>1.620000e+03</td>\n",
       "      <td>1.615000e+03</td>\n",
       "    </tr>\n",
       "    <tr>\n",
       "      <th>231</th>\n",
       "      <td>1.319000e+03</td>\n",
       "      <td>1.340000e+03</td>\n",
       "    </tr>\n",
       "    <tr>\n",
       "      <th>232</th>\n",
       "      <td>8.010000e+02</td>\n",
       "      <td>7.990000e+02</td>\n",
       "    </tr>\n",
       "  </tbody>\n",
       "</table>\n",
       "<p>233 rows × 2 columns</p>\n",
       "</div>"
      ],
      "text/plain": [
       "     Population(1 July 2018)\\n  Population(1 July 2019)\\n\n",
       "0                 1.427648e+09               1.433784e+09\n",
       "1                 1.352642e+09               1.366418e+09\n",
       "2                 3.270963e+08               3.290649e+08\n",
       "3                 2.676705e+08               2.706256e+08\n",
       "4                 2.122283e+08               2.165653e+08\n",
       "..                         ...                        ...\n",
       "228               4.993000e+03               4.989000e+03\n",
       "229               3.234000e+03               3.377000e+03\n",
       "230               1.620000e+03               1.615000e+03\n",
       "231               1.319000e+03               1.340000e+03\n",
       "232               8.010000e+02               7.990000e+02\n",
       "\n",
       "[233 rows x 2 columns]"
      ]
     },
     "execution_count": 79,
     "metadata": {},
     "output_type": "execute_result"
    }
   ],
   "source": [
    "df22_"
   ]
  },
  {
   "cell_type": "code",
   "execution_count": 58,
   "metadata": {},
   "outputs": [
    {
     "name": "stdout",
     "output_type": "stream",
     "text": [
      "number of NaN values for the column Country : 0\n",
      "number of NaN values for the column Population in 2018: 0\n",
      "number of NaN values for the column Population in 2019 : 0\n",
      "number of NaN values for the column Change : 0\n"
     ]
    }
   ],
   "source": [
    "print(\"number of NaN values for the column Country :\", df['Country/Territory\\n'].isnull().sum())\n",
    "print(\"number of NaN values for the column Population in 2018:\", df['Population(1 July 2018)\\n'].isnull().sum())\n",
    "print(\"number of NaN values for the column Population in 2019 :\", df['Population(1 July 2019)\\n'].isnull().sum())\n",
    "print(\"number of NaN values for the column Change :\", df['Change\\n'].isnull().sum())"
   ]
  },
  {
   "cell_type": "code",
   "execution_count": 60,
   "metadata": {},
   "outputs": [
    {
     "data": {
      "text/plain": [
       "Country/Territory\\n             object\n",
       "UN continentalregion[4]\\n       object\n",
       "UN statisticalsubregion[4]\\n    object\n",
       "Population(1 July 2018)\\n       object\n",
       "Population(1 July 2019)\\n       object\n",
       "Change\\n                        object\n",
       "dtype: object"
      ]
     },
     "execution_count": 60,
     "metadata": {},
     "output_type": "execute_result"
    }
   ],
   "source": [
    "df.dtypes"
   ]
  },
  {
   "cell_type": "code",
   "execution_count": 80,
   "metadata": {},
   "outputs": [
    {
     "data": {
      "text/html": [
       "<div>\n",
       "<style scoped>\n",
       "    .dataframe tbody tr th:only-of-type {\n",
       "        vertical-align: middle;\n",
       "    }\n",
       "\n",
       "    .dataframe tbody tr th {\n",
       "        vertical-align: top;\n",
       "    }\n",
       "\n",
       "    .dataframe thead th {\n",
       "        text-align: right;\n",
       "    }\n",
       "</style>\n",
       "<table border=\"1\" class=\"dataframe\">\n",
       "  <thead>\n",
       "    <tr style=\"text-align: right;\">\n",
       "      <th></th>\n",
       "      <th>Population(1 July 2018)\\n</th>\n",
       "      <th>Population(1 July 2019)\\n</th>\n",
       "    </tr>\n",
       "  </thead>\n",
       "  <tbody>\n",
       "    <tr>\n",
       "      <th>count</th>\n",
       "      <td>2.330000e+02</td>\n",
       "      <td>2.330000e+02</td>\n",
       "    </tr>\n",
       "    <tr>\n",
       "      <th>mean</th>\n",
       "      <td>3.273913e+07</td>\n",
       "      <td>3.309244e+07</td>\n",
       "    </tr>\n",
       "    <tr>\n",
       "      <th>std</th>\n",
       "      <td>1.337221e+08</td>\n",
       "      <td>1.347199e+08</td>\n",
       "    </tr>\n",
       "    <tr>\n",
       "      <th>min</th>\n",
       "      <td>8.010000e+02</td>\n",
       "      <td>7.990000e+02</td>\n",
       "    </tr>\n",
       "    <tr>\n",
       "      <th>25%</th>\n",
       "      <td>4.392480e+05</td>\n",
       "      <td>4.403720e+05</td>\n",
       "    </tr>\n",
       "    <tr>\n",
       "      <th>50%</th>\n",
       "      <td>5.453014e+06</td>\n",
       "      <td>5.457013e+06</td>\n",
       "    </tr>\n",
       "    <tr>\n",
       "      <th>75%</th>\n",
       "      <td>1.975147e+07</td>\n",
       "      <td>2.032138e+07</td>\n",
       "    </tr>\n",
       "    <tr>\n",
       "      <th>max</th>\n",
       "      <td>1.427648e+09</td>\n",
       "      <td>1.433784e+09</td>\n",
       "    </tr>\n",
       "  </tbody>\n",
       "</table>\n",
       "</div>"
      ],
      "text/plain": [
       "       Population(1 July 2018)\\n  Population(1 July 2019)\\n\n",
       "count               2.330000e+02               2.330000e+02\n",
       "mean                3.273913e+07               3.309244e+07\n",
       "std                 1.337221e+08               1.347199e+08\n",
       "min                 8.010000e+02               7.990000e+02\n",
       "25%                 4.392480e+05               4.403720e+05\n",
       "50%                 5.453014e+06               5.457013e+06\n",
       "75%                 1.975147e+07               2.032138e+07\n",
       "max                 1.427648e+09               1.433784e+09"
      ]
     },
     "execution_count": 80,
     "metadata": {},
     "output_type": "execute_result"
    }
   ],
   "source": [
    "df22_.describe()"
   ]
  },
  {
   "cell_type": "code",
   "execution_count": null,
   "metadata": {},
   "outputs": [],
   "source": []
  },
  {
   "cell_type": "code",
   "execution_count": 81,
   "metadata": {},
   "outputs": [],
   "source": [
    "import pandas as pd\n",
    "import numpy as np\n",
    "import matplotlib.pyplot as plt"
   ]
  },
  {
   "cell_type": "code",
   "execution_count": 82,
   "metadata": {},
   "outputs": [],
   "source": [
    "# import the visualization package: seaborn\n",
    "import seaborn as sns\n",
    "%matplotlib inline"
   ]
  },
  {
   "cell_type": "code",
   "execution_count": 84,
   "metadata": {},
   "outputs": [
    {
     "data": {
      "text/plain": [
       "(0.0, 1518910144.6538002)"
      ]
     },
     "execution_count": 84,
     "metadata": {},
     "output_type": "execute_result"
    },
    {
     "data": {
      "image/png": "[encoded data removed]",
      "text/plain": [
       "<Figure size 864x720 with 1 Axes>"
      ]
     },
     "metadata": {
      "needs_background": "light"
     },
     "output_type": "display_data"
    }
   ],
   "source": [
    "width = 12\n",
    "height = 10\n",
    "plt.figure(figsize=(width, height))\n",
    "sns.regplot(x=\"Population(1 July 2018)\\n\", y=\"Population(1 July 2019)\\n\", data=df22_)\n",
    "plt.ylim(0,)"
   ]
  },
  {
   "cell_type": "code",
   "execution_count": 86,
   "metadata": {},
   "outputs": [
    {
     "data": {
      "text/html": [
       "<div>\n",
       "<style scoped>\n",
       "    .dataframe tbody tr th:only-of-type {\n",
       "        vertical-align: middle;\n",
       "    }\n",
       "\n",
       "    .dataframe tbody tr th {\n",
       "        vertical-align: top;\n",
       "    }\n",
       "\n",
       "    .dataframe thead th {\n",
       "        text-align: right;\n",
       "    }\n",
       "</style>\n",
       "<table border=\"1\" class=\"dataframe\">\n",
       "  <thead>\n",
       "    <tr style=\"text-align: right;\">\n",
       "      <th></th>\n",
       "      <th>Population(1 July 2018)\\n</th>\n",
       "      <th>Population(1 July 2019)\\n</th>\n",
       "    </tr>\n",
       "  </thead>\n",
       "  <tbody>\n",
       "    <tr>\n",
       "      <th>Population(1 July 2018)\\n</th>\n",
       "      <td>1.000000</td>\n",
       "      <td>0.999991</td>\n",
       "    </tr>\n",
       "    <tr>\n",
       "      <th>Population(1 July 2019)\\n</th>\n",
       "      <td>0.999991</td>\n",
       "      <td>1.000000</td>\n",
       "    </tr>\n",
       "  </tbody>\n",
       "</table>\n",
       "</div>"
      ],
      "text/plain": [
       "                           Population(1 July 2018)\\n  \\\n",
       "Population(1 July 2018)\\n                   1.000000   \n",
       "Population(1 July 2019)\\n                   0.999991   \n",
       "\n",
       "                           Population(1 July 2019)\\n  \n",
       "Population(1 July 2018)\\n                   0.999991  \n",
       "Population(1 July 2019)\\n                   1.000000  "
      ]
     },
     "execution_count": 86,
     "metadata": {},
     "output_type": "execute_result"
    }
   ],
   "source": [
    "df22_[[\"Population(1 July 2018)\\n\", \"Population(1 July 2019)\\n\"]].corr()"
   ]
  },
  {
   "cell_type": "markdown",
   "metadata": {},
   "source": [
    "<h2> Model Development</h2>"
   ]
  },
  {
   "cell_type": "code",
   "execution_count": 88,
   "metadata": {},
   "outputs": [],
   "source": [
    "#Import libraries \n",
    "import matplotlib.pyplot as plt\n",
    "import numpy as np\n",
    "from sklearn.linear_model import LinearRegression \n",
    "%matplotlib inline"
   ]
  },
  {
   "cell_type": "markdown",
   "metadata": {},
   "source": [
    "<b> We can Fit a linear regression model using the Population(1 July 2018)  feature and caculate the R^2 for Population(1 July 2019)</b>"
   ]
  },
  {
   "cell_type": "code",
   "execution_count": 91,
   "metadata": {},
   "outputs": [
    {
     "data": {
      "text/plain": [
       "0.999981282177034"
      ]
     },
     "execution_count": 91,
     "metadata": {},
     "output_type": "execute_result"
    }
   ],
   "source": [
    "X = df22_[['Population(1 July 2018)\\n']] \n",
    "Y = df22_['Population(1 July 2019)\\n'] \n",
    "lm = LinearRegression() \n",
    "lm \n",
    "lm.fit(X,Y)\n",
    "lm.score(X, Y)"
   ]
  },
  {
   "cell_type": "markdown",
   "metadata": {},
   "source": [
    "\n",
    "<b>How could identified Population(1 July 2018) help us predict Population(1 July 2019)?</b>"
   ]
  },
  {
   "cell_type": "code",
   "execution_count": 92,
   "metadata": {},
   "outputs": [
    {
     "data": {
      "text/plain": [
       "array([1.43839669e+09, 1.36283221e+09, 3.29643275e+08, 2.69774681e+08,\n",
       "       2.13919239e+08])"
      ]
     },
     "execution_count": 92,
     "metadata": {},
     "output_type": "execute_result"
    }
   ],
   "source": [
    "X = df22_[['Population(1 July 2018)\\n']] \n",
    "Y = df22_['Population(1 July 2019)\\n'] \n",
    "lm = LinearRegression() \n",
    "lm \n",
    "lm.fit(X,Y)\n",
    "\n",
    "Yhat=lm.predict(X)\n",
    "Yhat[0:5]"
   ]
  },
  {
   "cell_type": "markdown",
   "metadata": {},
   "source": [
    "<b> What is the value of the intercept ?</b>"
   ]
  },
  {
   "cell_type": "code",
   "execution_count": 93,
   "metadata": {},
   "outputs": [
    {
     "data": {
      "text/plain": [
       "109314.30204887688"
      ]
     },
     "execution_count": 93,
     "metadata": {},
     "output_type": "execute_result"
    }
   ],
   "source": [
    "lm.intercept_"
   ]
  },
  {
   "cell_type": "markdown",
   "metadata": {},
   "source": [
    "<b> What is the value of the Slope ?</b>"
   ]
  },
  {
   "cell_type": "code",
   "execution_count": 94,
   "metadata": {},
   "outputs": [
    {
     "data": {
      "text/plain": [
       "array([1.00745253])"
      ]
     },
     "execution_count": 94,
     "metadata": {},
     "output_type": "execute_result"
    }
   ],
   "source": [
    "lm.coef_"
   ]
  },
  {
   "cell_type": "markdown",
   "metadata": {},
   "source": [
    "<h2>What is the final estimated linear model we get?</h2>\n",
    "As we saw above, we should get a final linear model with the structure:$$ Yhat = a + b X $$\n",
    "\n",
    "Plugging in the actual values we get:"
   ]
  },
  {
   "cell_type": "markdown",
   "metadata": {},
   "source": [
    "<h2>$$ Population(1  July  2019) = 109314 +  Population(1  July  2018) $$</h2>"
   ]
  },
  {
   "cell_type": "markdown",
   "metadata": {},
   "source": [
    "<h2> Thank you for completing this notebook</h2>"
   ]
  },
  {
   "cell_type": "markdown",
   "metadata": {},
   "source": [
    "<h2>About the Author:</h2> \n"
   ]
  },
  {
   "cell_type": "markdown",
   "metadata": {},
   "source": [
    "This notebook was written by Michael Kumakech. Michael Kumakech is an Instructor at Makerere University, College of Computing and Information Sciences and holds a Professional Certificate in IBM Data Science, a MSc in Data Communication and Software Engineering. His research focused on using Machine Learning, Deep Learning, Signal Processing, and Computer Vision to determine how videos impact human cognition. Michael has been working for Makerere  University in Uganda since 2007."
   ]
  },
  {
   "cell_type": "code",
   "execution_count": null,
   "metadata": {},
   "outputs": [],
   "source": []
  }
 ],
 "metadata": {
  "kernelspec": {
   "display_name": "Python 3.7",
   "language": "python",
   "name": "python3"
  },
  "language_info": {
   "codemirror_mode": {
    "name": "ipython",
    "version": 3
   },
   "file_extension": ".py",
   "mimetype": "text/x-python",
   "name": "python",
   "nbconvert_exporter": "python",
   "pygments_lexer": "ipython3",
   "version": "3.7.10"
  }
 },
 "nbformat": 4,
 "nbformat_minor": 1
}
