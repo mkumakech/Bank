{
 "cells": [
  {
   "cell_type": "code",
   "execution_count": null,
   "id": "bf2319a4",
   "metadata": {},
   "outputs": [],
   "source": []
  },
  {
   "cell_type": "code",
   "execution_count": null,
   "id": "6387fc31",
   "metadata": {},
   "outputs": [],
   "source": [
    "Name: TIBI ABDALLAH DAVID\n",
    "Reg. No: SEP21/COMP/756S"
   ]
  },
  {
   "cell_type": "markdown",
   "id": "4d7c898b",
   "metadata": {},
   "source": [
    "<h2>Question Three</h2>"
   ]
  },
  {
   "cell_type": "code",
   "execution_count": 15,
   "id": "70e9039e",
   "metadata": {},
   "outputs": [],
   "source": [
    "import pandas as pd\n",
    "import numpy as np\n",
    "import matplotlib.pyplot as plt\n",
    "from sklearn.neighbors import KNeighborsClassifier\n",
    "from sklearn import preprocessing\n",
    "from sklearn.model_selection import train_test_split"
   ]
  },
  {
   "cell_type": "markdown",
   "id": "3d2b0068",
   "metadata": {},
   "source": [
    "Read the Dataset"
   ]
  },
  {
   "cell_type": "code",
   "execution_count": 16,
   "id": "3b5e73fc",
   "metadata": {},
   "outputs": [
    {
     "data": {
      "text/html": [
       "<div>\n",
       "<style scoped>\n",
       "    .dataframe tbody tr th:only-of-type {\n",
       "        vertical-align: middle;\n",
       "    }\n",
       "\n",
       "    .dataframe tbody tr th {\n",
       "        vertical-align: top;\n",
       "    }\n",
       "\n",
       "    .dataframe thead th {\n",
       "        text-align: right;\n",
       "    }\n",
       "</style>\n",
       "<table border=\"1\" class=\"dataframe\">\n",
       "  <thead>\n",
       "    <tr style=\"text-align: right;\">\n",
       "      <th></th>\n",
       "      <th>sepalLength\\t</th>\n",
       "      <th>sepalWidth</th>\n",
       "      <th>petalLength</th>\n",
       "      <th>petalWidth</th>\n",
       "      <th>class</th>\n",
       "      <th>Unnamed: 5</th>\n",
       "    </tr>\n",
       "  </thead>\n",
       "  <tbody>\n",
       "    <tr>\n",
       "      <th>0</th>\n",
       "      <td>5.1</td>\n",
       "      <td>3.5</td>\n",
       "      <td>1.4</td>\n",
       "      <td>0.2</td>\n",
       "      <td>setosa</td>\n",
       "      <td>NaN</td>\n",
       "    </tr>\n",
       "    <tr>\n",
       "      <th>1</th>\n",
       "      <td>4.9</td>\n",
       "      <td>3.0</td>\n",
       "      <td>1.4</td>\n",
       "      <td>0.2</td>\n",
       "      <td>setosa</td>\n",
       "      <td>NaN</td>\n",
       "    </tr>\n",
       "    <tr>\n",
       "      <th>2</th>\n",
       "      <td>4.7</td>\n",
       "      <td>3.2</td>\n",
       "      <td>1.3</td>\n",
       "      <td>0.2</td>\n",
       "      <td>setosa</td>\n",
       "      <td>NaN</td>\n",
       "    </tr>\n",
       "    <tr>\n",
       "      <th>3</th>\n",
       "      <td>4.6</td>\n",
       "      <td>3.1</td>\n",
       "      <td>1.5</td>\n",
       "      <td>0.2</td>\n",
       "      <td>setosa</td>\n",
       "      <td>NaN</td>\n",
       "    </tr>\n",
       "    <tr>\n",
       "      <th>4</th>\n",
       "      <td>5.0</td>\n",
       "      <td>3.6</td>\n",
       "      <td>1.4</td>\n",
       "      <td>0.2</td>\n",
       "      <td>setosa</td>\n",
       "      <td>NaN</td>\n",
       "    </tr>\n",
       "  </tbody>\n",
       "</table>\n",
       "</div>"
      ],
      "text/plain": [
       "   sepalLength\\t  sepalWidth  petalLength  petalWidth   class  Unnamed: 5\n",
       "0            5.1         3.5          1.4         0.2  setosa         NaN\n",
       "1            4.9         3.0          1.4         0.2  setosa         NaN\n",
       "2            4.7         3.2          1.3         0.2  setosa         NaN\n",
       "3            4.6         3.1          1.5         0.2  setosa         NaN\n",
       "4            5.0         3.6          1.4         0.2  setosa         NaN"
      ]
     },
     "execution_count": 16,
     "metadata": {},
     "output_type": "execute_result"
    }
   ],
   "source": [
    "iris=pd.read_csv('iris.csv')\n",
    "iris.head()"
   ]
  },
  {
   "cell_type": "code",
   "execution_count": 17,
   "id": "aa6702a3",
   "metadata": {},
   "outputs": [
    {
     "data": {
      "text/plain": [
       "(100, 6)"
      ]
     },
     "execution_count": 17,
     "metadata": {},
     "output_type": "execute_result"
    }
   ],
   "source": [
    "iris.shape"
   ]
  },
  {
   "cell_type": "code",
   "execution_count": 18,
   "id": "96f2bd96",
   "metadata": {},
   "outputs": [],
   "source": [
    "iris.drop('Unnamed: 5', axis=1, inplace=True)"
   ]
  },
  {
   "cell_type": "code",
   "execution_count": 19,
   "id": "aba3aa51",
   "metadata": {},
   "outputs": [
    {
     "data": {
      "text/html": [
       "<div>\n",
       "<style scoped>\n",
       "    .dataframe tbody tr th:only-of-type {\n",
       "        vertical-align: middle;\n",
       "    }\n",
       "\n",
       "    .dataframe tbody tr th {\n",
       "        vertical-align: top;\n",
       "    }\n",
       "\n",
       "    .dataframe thead th {\n",
       "        text-align: right;\n",
       "    }\n",
       "</style>\n",
       "<table border=\"1\" class=\"dataframe\">\n",
       "  <thead>\n",
       "    <tr style=\"text-align: right;\">\n",
       "      <th></th>\n",
       "      <th>sepalLength\\t</th>\n",
       "      <th>sepalWidth</th>\n",
       "      <th>petalLength</th>\n",
       "      <th>petalWidth</th>\n",
       "      <th>class</th>\n",
       "    </tr>\n",
       "  </thead>\n",
       "  <tbody>\n",
       "    <tr>\n",
       "      <th>0</th>\n",
       "      <td>5.1</td>\n",
       "      <td>3.5</td>\n",
       "      <td>1.4</td>\n",
       "      <td>0.2</td>\n",
       "      <td>setosa</td>\n",
       "    </tr>\n",
       "    <tr>\n",
       "      <th>1</th>\n",
       "      <td>4.9</td>\n",
       "      <td>3.0</td>\n",
       "      <td>1.4</td>\n",
       "      <td>0.2</td>\n",
       "      <td>setosa</td>\n",
       "    </tr>\n",
       "    <tr>\n",
       "      <th>2</th>\n",
       "      <td>4.7</td>\n",
       "      <td>3.2</td>\n",
       "      <td>1.3</td>\n",
       "      <td>0.2</td>\n",
       "      <td>setosa</td>\n",
       "    </tr>\n",
       "    <tr>\n",
       "      <th>3</th>\n",
       "      <td>4.6</td>\n",
       "      <td>3.1</td>\n",
       "      <td>1.5</td>\n",
       "      <td>0.2</td>\n",
       "      <td>setosa</td>\n",
       "    </tr>\n",
       "    <tr>\n",
       "      <th>4</th>\n",
       "      <td>5.0</td>\n",
       "      <td>3.6</td>\n",
       "      <td>1.4</td>\n",
       "      <td>0.2</td>\n",
       "      <td>setosa</td>\n",
       "    </tr>\n",
       "  </tbody>\n",
       "</table>\n",
       "</div>"
      ],
      "text/plain": [
       "   sepalLength\\t  sepalWidth  petalLength  petalWidth   class\n",
       "0            5.1         3.5          1.4         0.2  setosa\n",
       "1            4.9         3.0          1.4         0.2  setosa\n",
       "2            4.7         3.2          1.3         0.2  setosa\n",
       "3            4.6         3.1          1.5         0.2  setosa\n",
       "4            5.0         3.6          1.4         0.2  setosa"
      ]
     },
     "execution_count": 19,
     "metadata": {},
     "output_type": "execute_result"
    }
   ],
   "source": [
    "iris.head()"
   ]
  },
  {
   "cell_type": "code",
   "execution_count": 20,
   "id": "08ab927a",
   "metadata": {},
   "outputs": [
    {
     "data": {
      "text/plain": [
       "(100, 5)"
      ]
     },
     "execution_count": 20,
     "metadata": {},
     "output_type": "execute_result"
    }
   ],
   "source": [
    "iris.shape"
   ]
  },
  {
   "cell_type": "code",
   "execution_count": 21,
   "id": "e25c749a",
   "metadata": {},
   "outputs": [
    {
     "data": {
      "text/plain": [
       "versicolor    34\n",
       "virginica     34\n",
       "setosa        32\n",
       "Name: class, dtype: int64"
      ]
     },
     "execution_count": 21,
     "metadata": {},
     "output_type": "execute_result"
    }
   ],
   "source": [
    "iris['class'].value_counts()"
   ]
  },
  {
   "cell_type": "code",
   "execution_count": 22,
   "id": "ba979584",
   "metadata": {},
   "outputs": [
    {
     "data": {
      "text/plain": [
       "Index(['sepalLength\\t', 'sepalWidth', 'petalLength', 'petalWidth', 'class'], dtype='object')"
      ]
     },
     "execution_count": 22,
     "metadata": {},
     "output_type": "execute_result"
    }
   ],
   "source": [
    "iris.columns"
   ]
  },
  {
   "cell_type": "code",
   "execution_count": 23,
   "id": "cf26cf39",
   "metadata": {},
   "outputs": [
    {
     "data": {
      "text/plain": [
       "array([[5.1, 3.5, 1.4, 0.2, 'setosa'],\n",
       "       [4.9, 3.0, 1.4, 0.2, 'setosa'],\n",
       "       [4.7, 3.2, 1.3, 0.2, 'setosa'],\n",
       "       [4.6, 3.1, 1.5, 0.2, 'setosa'],\n",
       "       [5.0, 3.6, 1.4, 0.2, 'setosa'],\n",
       "       [5.4, 3.9, 1.7, 0.4, 'setosa'],\n",
       "       [4.6, 3.4, 1.4, 0.3, 'setosa'],\n",
       "       [5.0, 3.4, 1.5, 0.2, 'setosa'],\n",
       "       [4.4, 2.9, 1.4, 0.2, 'setosa'],\n",
       "       [4.9, 3.1, 1.5, 0.1, 'setosa'],\n",
       "       [5.4, 3.7, 1.5, 0.2, 'setosa'],\n",
       "       [4.8, 3.4, 1.6, 0.2, 'setosa'],\n",
       "       [4.8, 3.0, 1.4, 0.1, 'setosa'],\n",
       "       [4.3, 3.0, 1.1, 0.1, 'setosa'],\n",
       "       [5.8, 4.0, 1.2, 0.2, 'setosa'],\n",
       "       [5.7, 4.4, 1.5, 0.4, 'setosa'],\n",
       "       [5.4, 3.9, 1.3, 0.4, 'setosa'],\n",
       "       [5.1, 3.5, 1.4, 0.3, 'setosa'],\n",
       "       [5.7, 3.8, 1.7, 0.3, 'setosa'],\n",
       "       [5.1, 3.8, 1.5, 0.3, 'setosa'],\n",
       "       [5.4, 3.4, 1.7, 0.2, 'setosa'],\n",
       "       [5.1, 3.7, 1.5, 0.4, 'setosa'],\n",
       "       [4.6, 3.6, 1.0, 0.2, 'setosa'],\n",
       "       [5.1, 3.3, 1.7, 0.5, 'setosa'],\n",
       "       [4.8, 3.4, 1.9, 0.2, 'setosa'],\n",
       "       [5.0, 3.0, 1.6, 0.2, 'setosa'],\n",
       "       [5.0, 3.4, 1.6, 0.4, 'setosa'],\n",
       "       [5.2, 3.5, 1.5, 0.2, 'setosa'],\n",
       "       [5.2, 3.4, 1.4, 0.2, 'setosa'],\n",
       "       [4.7, 3.2, 1.6, 0.2, 'setosa'],\n",
       "       [4.8, 3.1, 1.6, 0.2, 'setosa'],\n",
       "       [5.4, 3.4, 1.5, 0.4, 'setosa'],\n",
       "       [7.0, 3.2, 4.7, 1.4, 'versicolor'],\n",
       "       [6.4, 3.2, 4.5, 1.5, 'versicolor'],\n",
       "       [6.9, 3.1, 4.9, 1.5, 'versicolor'],\n",
       "       [5.5, 2.3, 4.0, 1.3, 'versicolor'],\n",
       "       [6.5, 2.8, 4.6, 1.5, 'versicolor'],\n",
       "       [5.7, 2.8, 4.5, 1.3, 'versicolor'],\n",
       "       [6.3, 3.3, 4.7, 1.6, 'versicolor'],\n",
       "       [4.9, 2.4, 3.3, 1.0, 'versicolor'],\n",
       "       [6.6, 2.9, 4.6, 1.3, 'versicolor'],\n",
       "       [5.2, 2.7, 3.9, 1.4, 'versicolor'],\n",
       "       [5.0, 2.0, 3.5, 1.0, 'versicolor'],\n",
       "       [5.9, 3.0, 4.2, 1.5, 'versicolor'],\n",
       "       [6.0, 2.2, 4.0, 1.0, 'versicolor'],\n",
       "       [6.1, 2.9, 4.7, 1.4, 'versicolor'],\n",
       "       [5.6, 2.9, 3.6, 1.3, 'versicolor'],\n",
       "       [6.7, 3.1, 4.4, 1.4, 'versicolor'],\n",
       "       [5.6, 3.0, 4.5, 1.5, 'versicolor'],\n",
       "       [5.8, 2.7, 4.1, 1.0, 'versicolor'],\n",
       "       [6.2, 2.2, 4.5, 1.5, 'versicolor'],\n",
       "       [5.6, 2.5, 3.9, 1.1, 'versicolor'],\n",
       "       [5.9, 3.2, 4.8, 1.8, 'versicolor'],\n",
       "       [6.1, 2.8, 4.0, 1.3, 'versicolor'],\n",
       "       [6.3, 2.5, 4.9, 1.5, 'versicolor'],\n",
       "       [6.1, 2.8, 4.7, 1.2, 'versicolor'],\n",
       "       [6.4, 2.9, 4.3, 1.3, 'versicolor'],\n",
       "       [6.6, 3.0, 4.4, 1.4, 'versicolor'],\n",
       "       [6.8, 2.8, 4.8, 1.4, 'versicolor'],\n",
       "       [6.7, 3.0, 5.0, 1.7, 'versicolor'],\n",
       "       [6.0, 2.9, 4.5, 1.5, 'versicolor'],\n",
       "       [5.7, 2.6, 3.5, 1.0, 'versicolor'],\n",
       "       [5.5, 2.4, 3.8, 1.1, 'versicolor'],\n",
       "       [5.5, 2.4, 3.7, 1.0, 'versicolor'],\n",
       "       [5.8, 2.7, 3.9, 1.2, 'versicolor'],\n",
       "       [6.0, 2.7, 5.1, 1.6, 'versicolor'],\n",
       "       [6.3, 3.3, 6.0, 2.5, 'virginica'],\n",
       "       [5.8, 2.7, 5.1, 1.9, 'virginica'],\n",
       "       [7.1, 3.0, 5.9, 2.1, 'virginica'],\n",
       "       [6.3, 2.9, 5.6, 1.8, 'virginica'],\n",
       "       [6.5, 3.0, 5.8, 2.2, 'virginica'],\n",
       "       [7.6, 3.0, 6.6, 2.1, 'virginica'],\n",
       "       [4.9, 2.5, 4.5, 1.7, 'virginica'],\n",
       "       [7.3, 2.9, 6.3, 1.8, 'virginica'],\n",
       "       [6.7, 2.5, 5.8, 1.8, 'virginica'],\n",
       "       [7.2, 3.6, 6.1, 2.5, 'virginica'],\n",
       "       [6.5, 3.2, 5.1, 2.0, 'virginica'],\n",
       "       [6.4, 2.7, 5.3, 1.9, 'virginica'],\n",
       "       [6.8, 3.0, 5.5, 2.1, 'virginica'],\n",
       "       [5.7, 2.5, 5.0, 2.0, 'virginica'],\n",
       "       [5.8, 2.8, 5.1, 2.4, 'virginica'],\n",
       "       [6.4, 3.2, 5.3, 2.3, 'virginica'],\n",
       "       [6.5, 3.0, 5.5, 1.8, 'virginica'],\n",
       "       [7.7, 3.8, 6.7, 2.2, 'virginica'],\n",
       "       [7.7, 2.6, 6.9, 2.3, 'virginica'],\n",
       "       [6.0, 2.2, 5.0, 1.5, 'virginica'],\n",
       "       [6.9, 3.2, 5.7, 2.3, 'virginica'],\n",
       "       [5.6, 2.8, 4.9, 2.0, 'virginica'],\n",
       "       [7.7, 2.8, 6.7, 2.0, 'virginica'],\n",
       "       [6.3, 2.7, 4.9, 1.8, 'virginica'],\n",
       "       [6.7, 3.3, 5.7, 2.1, 'virginica'],\n",
       "       [7.2, 3.2, 6.0, 1.8, 'virginica'],\n",
       "       [6.2, 2.8, 4.8, 1.8, 'virginica'],\n",
       "       [6.1, 3.0, 4.9, 1.8, 'virginica'],\n",
       "       [6.4, 2.8, 5.6, 2.1, 'virginica'],\n",
       "       [7.2, 3.0, 5.8, 1.6, 'virginica'],\n",
       "       [7.4, 2.8, 6.1, 1.9, 'virginica'],\n",
       "       [7.9, 3.8, 6.4, 2.0, 'virginica'],\n",
       "       [6.4, 2.8, 5.6, 2.2, 'virginica'],\n",
       "       [6.3, 2.8, 5.1, 1.5, 'virginica']], dtype=object)"
      ]
     },
     "execution_count": 23,
     "metadata": {},
     "output_type": "execute_result"
    }
   ],
   "source": [
    "iris.values"
   ]
  },
  {
   "cell_type": "code",
   "execution_count": 24,
   "id": "531a6f45",
   "metadata": {},
   "outputs": [
    {
     "name": "stdout",
     "output_type": "stream",
     "text": [
      "<class 'pandas.core.frame.DataFrame'>\n",
      "RangeIndex: 100 entries, 0 to 99\n",
      "Data columns (total 5 columns):\n",
      " #   Column        Non-Null Count  Dtype  \n",
      "---  ------        --------------  -----  \n",
      " 0   sepalLength\t  100 non-null    float64\n",
      " 1   sepalWidth    100 non-null    float64\n",
      " 2   petalLength   100 non-null    float64\n",
      " 3   petalWidth    100 non-null    float64\n",
      " 4   class         100 non-null    object \n",
      "dtypes: float64(4), object(1)\n",
      "memory usage: 4.0+ KB\n"
     ]
    }
   ],
   "source": [
    "iris.info()"
   ]
  },
  {
   "cell_type": "code",
   "execution_count": 25,
   "id": "63636a7e",
   "metadata": {},
   "outputs": [
    {
     "data": {
      "text/html": [
       "<div>\n",
       "<style scoped>\n",
       "    .dataframe tbody tr th:only-of-type {\n",
       "        vertical-align: middle;\n",
       "    }\n",
       "\n",
       "    .dataframe tbody tr th {\n",
       "        vertical-align: top;\n",
       "    }\n",
       "\n",
       "    .dataframe thead th {\n",
       "        text-align: right;\n",
       "    }\n",
       "</style>\n",
       "<table border=\"1\" class=\"dataframe\">\n",
       "  <thead>\n",
       "    <tr style=\"text-align: right;\">\n",
       "      <th></th>\n",
       "      <th>sepalLength\\t</th>\n",
       "      <th>sepalWidth</th>\n",
       "      <th>petalLength</th>\n",
       "      <th>petalWidth</th>\n",
       "      <th>class</th>\n",
       "    </tr>\n",
       "  </thead>\n",
       "  <tbody>\n",
       "    <tr>\n",
       "      <th>count</th>\n",
       "      <td>100.000000</td>\n",
       "      <td>100.000000</td>\n",
       "      <td>100.000000</td>\n",
       "      <td>100.00000</td>\n",
       "      <td>100</td>\n",
       "    </tr>\n",
       "    <tr>\n",
       "      <th>unique</th>\n",
       "      <td>NaN</td>\n",
       "      <td>NaN</td>\n",
       "      <td>NaN</td>\n",
       "      <td>NaN</td>\n",
       "      <td>3</td>\n",
       "    </tr>\n",
       "    <tr>\n",
       "      <th>top</th>\n",
       "      <td>NaN</td>\n",
       "      <td>NaN</td>\n",
       "      <td>NaN</td>\n",
       "      <td>NaN</td>\n",
       "      <td>versicolor</td>\n",
       "    </tr>\n",
       "    <tr>\n",
       "      <th>freq</th>\n",
       "      <td>NaN</td>\n",
       "      <td>NaN</td>\n",
       "      <td>NaN</td>\n",
       "      <td>NaN</td>\n",
       "      <td>34</td>\n",
       "    </tr>\n",
       "    <tr>\n",
       "      <th>mean</th>\n",
       "      <td>5.914000</td>\n",
       "      <td>3.041000</td>\n",
       "      <td>3.851000</td>\n",
       "      <td>1.21300</td>\n",
       "      <td>NaN</td>\n",
       "    </tr>\n",
       "    <tr>\n",
       "      <th>std</th>\n",
       "      <td>0.856469</td>\n",
       "      <td>0.439489</td>\n",
       "      <td>1.785378</td>\n",
       "      <td>0.74558</td>\n",
       "      <td>NaN</td>\n",
       "    </tr>\n",
       "    <tr>\n",
       "      <th>min</th>\n",
       "      <td>4.300000</td>\n",
       "      <td>2.000000</td>\n",
       "      <td>1.000000</td>\n",
       "      <td>0.10000</td>\n",
       "      <td>NaN</td>\n",
       "    </tr>\n",
       "    <tr>\n",
       "      <th>25%</th>\n",
       "      <td>5.175000</td>\n",
       "      <td>2.800000</td>\n",
       "      <td>1.600000</td>\n",
       "      <td>0.37500</td>\n",
       "      <td>NaN</td>\n",
       "    </tr>\n",
       "    <tr>\n",
       "      <th>50%</th>\n",
       "      <td>5.850000</td>\n",
       "      <td>3.000000</td>\n",
       "      <td>4.500000</td>\n",
       "      <td>1.40000</td>\n",
       "      <td>NaN</td>\n",
       "    </tr>\n",
       "    <tr>\n",
       "      <th>75%</th>\n",
       "      <td>6.500000</td>\n",
       "      <td>3.300000</td>\n",
       "      <td>5.100000</td>\n",
       "      <td>1.80000</td>\n",
       "      <td>NaN</td>\n",
       "    </tr>\n",
       "    <tr>\n",
       "      <th>max</th>\n",
       "      <td>7.900000</td>\n",
       "      <td>4.400000</td>\n",
       "      <td>6.900000</td>\n",
       "      <td>2.50000</td>\n",
       "      <td>NaN</td>\n",
       "    </tr>\n",
       "  </tbody>\n",
       "</table>\n",
       "</div>"
      ],
      "text/plain": [
       "        sepalLength\\t  sepalWidth  petalLength  petalWidth       class\n",
       "count      100.000000  100.000000   100.000000   100.00000         100\n",
       "unique            NaN         NaN          NaN         NaN           3\n",
       "top               NaN         NaN          NaN         NaN  versicolor\n",
       "freq              NaN         NaN          NaN         NaN          34\n",
       "mean         5.914000    3.041000     3.851000     1.21300         NaN\n",
       "std          0.856469    0.439489     1.785378     0.74558         NaN\n",
       "min          4.300000    2.000000     1.000000     0.10000         NaN\n",
       "25%          5.175000    2.800000     1.600000     0.37500         NaN\n",
       "50%          5.850000    3.000000     4.500000     1.40000         NaN\n",
       "75%          6.500000    3.300000     5.100000     1.80000         NaN\n",
       "max          7.900000    4.400000     6.900000     2.50000         NaN"
      ]
     },
     "execution_count": 25,
     "metadata": {},
     "output_type": "execute_result"
    }
   ],
   "source": [
    "iris.describe(include='all')"
   ]
  },
  {
   "cell_type": "code",
   "execution_count": 26,
   "id": "626572f3",
   "metadata": {},
   "outputs": [
    {
     "data": {
      "text/html": [
       "<div>\n",
       "<style scoped>\n",
       "    .dataframe tbody tr th:only-of-type {\n",
       "        vertical-align: middle;\n",
       "    }\n",
       "\n",
       "    .dataframe tbody tr th {\n",
       "        vertical-align: top;\n",
       "    }\n",
       "\n",
       "    .dataframe thead th {\n",
       "        text-align: right;\n",
       "    }\n",
       "</style>\n",
       "<table border=\"1\" class=\"dataframe\">\n",
       "  <thead>\n",
       "    <tr style=\"text-align: right;\">\n",
       "      <th></th>\n",
       "      <th>sepalLength\\t</th>\n",
       "      <th>sepalWidth</th>\n",
       "      <th>petalLength</th>\n",
       "      <th>petalWidth</th>\n",
       "    </tr>\n",
       "  </thead>\n",
       "  <tbody>\n",
       "    <tr>\n",
       "      <th>0</th>\n",
       "      <td>5.1</td>\n",
       "      <td>3.5</td>\n",
       "      <td>1.4</td>\n",
       "      <td>0.2</td>\n",
       "    </tr>\n",
       "    <tr>\n",
       "      <th>1</th>\n",
       "      <td>4.9</td>\n",
       "      <td>3.0</td>\n",
       "      <td>1.4</td>\n",
       "      <td>0.2</td>\n",
       "    </tr>\n",
       "    <tr>\n",
       "      <th>2</th>\n",
       "      <td>4.7</td>\n",
       "      <td>3.2</td>\n",
       "      <td>1.3</td>\n",
       "      <td>0.2</td>\n",
       "    </tr>\n",
       "    <tr>\n",
       "      <th>3</th>\n",
       "      <td>4.6</td>\n",
       "      <td>3.1</td>\n",
       "      <td>1.5</td>\n",
       "      <td>0.2</td>\n",
       "    </tr>\n",
       "    <tr>\n",
       "      <th>4</th>\n",
       "      <td>5.0</td>\n",
       "      <td>3.6</td>\n",
       "      <td>1.4</td>\n",
       "      <td>0.2</td>\n",
       "    </tr>\n",
       "  </tbody>\n",
       "</table>\n",
       "</div>"
      ],
      "text/plain": [
       "   sepalLength\\t  sepalWidth  petalLength  petalWidth\n",
       "0            5.1         3.5          1.4         0.2\n",
       "1            4.9         3.0          1.4         0.2\n",
       "2            4.7         3.2          1.3         0.2\n",
       "3            4.6         3.1          1.5         0.2\n",
       "4            5.0         3.6          1.4         0.2"
      ]
     },
     "execution_count": 26,
     "metadata": {},
     "output_type": "execute_result"
    }
   ],
   "source": [
    "X=iris.iloc[:,:4]\n",
    "X.head()"
   ]
  },
  {
   "cell_type": "code",
   "execution_count": 27,
   "id": "2422e733",
   "metadata": {},
   "outputs": [
    {
     "data": {
      "text/plain": [
       "0    setosa\n",
       "1    setosa\n",
       "2    setosa\n",
       "3    setosa\n",
       "4    setosa\n",
       "Name: class, dtype: object"
      ]
     },
     "execution_count": 27,
     "metadata": {},
     "output_type": "execute_result"
    }
   ],
   "source": [
    "y=iris.iloc[:,-1]\n",
    "y.head()"
   ]
  },
  {
   "cell_type": "code",
   "execution_count": 28,
   "id": "dcd57845",
   "metadata": {},
   "outputs": [
    {
     "data": {
      "text/plain": [
       "array([[-0.9552017 ,  1.04965641, -1.3797345 , -1.36551809],\n",
       "       [-1.18989499, -0.09376016, -1.3797345 , -1.36551809],\n",
       "       [-1.42458828,  0.36360647, -1.43602722, -1.36551809],\n",
       "       [-1.54193493,  0.13492316, -1.32344179, -1.36551809]])"
      ]
     },
     "execution_count": 28,
     "metadata": {},
     "output_type": "execute_result"
    }
   ],
   "source": [
    "X = preprocessing.StandardScaler().fit_transform(X)\n",
    "X[0:4]"
   ]
  },
  {
   "cell_type": "code",
   "execution_count": 29,
   "id": "39c237d1",
   "metadata": {},
   "outputs": [
    {
     "data": {
      "text/plain": [
       "(30,)"
      ]
     },
     "execution_count": 29,
     "metadata": {},
     "output_type": "execute_result"
    }
   ],
   "source": [
    "from sklearn.model_selection import train_test_split\n",
    "X_train, X_test, y_train, y_test = train_test_split(X, y, test_size=0.3, random_state=1)\n",
    "y_test.shape"
   ]
  },
  {
   "cell_type": "code",
   "execution_count": 30,
   "id": "c5b53128",
   "metadata": {},
   "outputs": [],
   "source": [
    "knnmodel=KNeighborsClassifier(n_neighbors=3)\n",
    "knnmodel.fit(X_train, y_train)\n",
    "y_predict1=knnmodel.predict(X_test)"
   ]
  },
  {
   "cell_type": "code",
   "execution_count": 31,
   "id": "b5185bec",
   "metadata": {},
   "outputs": [],
   "source": [
    "from sklearn.metrics import accuracy_score"
   ]
  },
  {
   "cell_type": "code",
   "execution_count": 32,
   "id": "6f3221b9",
   "metadata": {},
   "outputs": [
    {
     "data": {
      "text/plain": [
       "0.9333333333333333"
      ]
     },
     "execution_count": 32,
     "metadata": {},
     "output_type": "execute_result"
    }
   ],
   "source": [
    "acc=accuracy_score(y_test,y_predict1)\n",
    "acc"
   ]
  },
  {
   "cell_type": "code",
   "execution_count": 33,
   "id": "5054cffe",
   "metadata": {},
   "outputs": [
    {
     "data": {
      "text/plain": [
       "array([[ 6,  0,  0],\n",
       "       [ 0, 12,  1],\n",
       "       [ 0,  1, 10]], dtype=int64)"
      ]
     },
     "execution_count": 33,
     "metadata": {},
     "output_type": "execute_result"
    }
   ],
   "source": [
    "from sklearn.metrics import confusion_matrix\n",
    "cm=confusion_matrix(y_test.values, y_predict1)\n",
    "cm"
   ]
  },
  {
   "cell_type": "code",
   "execution_count": 34,
   "id": "534342c8",
   "metadata": {},
   "outputs": [
    {
     "data": {
      "text/html": [
       "<div>\n",
       "<style scoped>\n",
       "    .dataframe tbody tr th:only-of-type {\n",
       "        vertical-align: middle;\n",
       "    }\n",
       "\n",
       "    .dataframe tbody tr th {\n",
       "        vertical-align: top;\n",
       "    }\n",
       "\n",
       "    .dataframe thead th {\n",
       "        text-align: right;\n",
       "    }\n",
       "</style>\n",
       "<table border=\"1\" class=\"dataframe\">\n",
       "  <thead>\n",
       "    <tr style=\"text-align: right;\">\n",
       "      <th></th>\n",
       "      <th>setosa</th>\n",
       "      <th>versicolor</th>\n",
       "      <th>virginica</th>\n",
       "    </tr>\n",
       "  </thead>\n",
       "  <tbody>\n",
       "    <tr>\n",
       "      <th>setosa</th>\n",
       "      <td>6</td>\n",
       "      <td>0</td>\n",
       "      <td>0</td>\n",
       "    </tr>\n",
       "    <tr>\n",
       "      <th>versicolor</th>\n",
       "      <td>0</td>\n",
       "      <td>12</td>\n",
       "      <td>1</td>\n",
       "    </tr>\n",
       "    <tr>\n",
       "      <th>virginica</th>\n",
       "      <td>0</td>\n",
       "      <td>1</td>\n",
       "      <td>10</td>\n",
       "    </tr>\n",
       "  </tbody>\n",
       "</table>\n",
       "</div>"
      ],
      "text/plain": [
       "            setosa  versicolor  virginica\n",
       "setosa           6           0          0\n",
       "versicolor       0          12          1\n",
       "virginica        0           1         10"
      ]
     },
     "execution_count": 34,
     "metadata": {},
     "output_type": "execute_result"
    }
   ],
   "source": [
    "cm1=pd.DataFrame(data=cm,index=['setosa','versicolor','virginica'],columns=['setosa','versicolor','virginica'])\n",
    "cm1"
   ]
  },
  {
   "cell_type": "code",
   "execution_count": 35,
   "id": "91a0772f",
   "metadata": {},
   "outputs": [],
   "source": [
    "prediction_output=pd.DataFrame(data=[y_test.values,y_predict1],index=['y_test','y_predict1'])"
   ]
  },
  {
   "cell_type": "code",
   "execution_count": 36,
   "id": "487adf11",
   "metadata": {},
   "outputs": [
    {
     "data": {
      "text/html": [
       "<div>\n",
       "<style scoped>\n",
       "    .dataframe tbody tr th:only-of-type {\n",
       "        vertical-align: middle;\n",
       "    }\n",
       "\n",
       "    .dataframe tbody tr th {\n",
       "        vertical-align: top;\n",
       "    }\n",
       "\n",
       "    .dataframe thead th {\n",
       "        text-align: right;\n",
       "    }\n",
       "</style>\n",
       "<table border=\"1\" class=\"dataframe\">\n",
       "  <thead>\n",
       "    <tr style=\"text-align: right;\">\n",
       "      <th></th>\n",
       "      <th>y_test</th>\n",
       "      <th>y_predict1</th>\n",
       "    </tr>\n",
       "  </thead>\n",
       "  <tbody>\n",
       "    <tr>\n",
       "      <th>0</th>\n",
       "      <td>virginica</td>\n",
       "      <td>virginica</td>\n",
       "    </tr>\n",
       "    <tr>\n",
       "      <th>1</th>\n",
       "      <td>virginica</td>\n",
       "      <td>virginica</td>\n",
       "    </tr>\n",
       "    <tr>\n",
       "      <th>2</th>\n",
       "      <td>versicolor</td>\n",
       "      <td>versicolor</td>\n",
       "    </tr>\n",
       "    <tr>\n",
       "      <th>3</th>\n",
       "      <td>virginica</td>\n",
       "      <td>virginica</td>\n",
       "    </tr>\n",
       "    <tr>\n",
       "      <th>4</th>\n",
       "      <td>virginica</td>\n",
       "      <td>versicolor</td>\n",
       "    </tr>\n",
       "    <tr>\n",
       "      <th>5</th>\n",
       "      <td>setosa</td>\n",
       "      <td>setosa</td>\n",
       "    </tr>\n",
       "    <tr>\n",
       "      <th>6</th>\n",
       "      <td>versicolor</td>\n",
       "      <td>versicolor</td>\n",
       "    </tr>\n",
       "    <tr>\n",
       "      <th>7</th>\n",
       "      <td>virginica</td>\n",
       "      <td>virginica</td>\n",
       "    </tr>\n",
       "    <tr>\n",
       "      <th>8</th>\n",
       "      <td>virginica</td>\n",
       "      <td>virginica</td>\n",
       "    </tr>\n",
       "    <tr>\n",
       "      <th>9</th>\n",
       "      <td>versicolor</td>\n",
       "      <td>virginica</td>\n",
       "    </tr>\n",
       "    <tr>\n",
       "      <th>10</th>\n",
       "      <td>virginica</td>\n",
       "      <td>virginica</td>\n",
       "    </tr>\n",
       "    <tr>\n",
       "      <th>11</th>\n",
       "      <td>versicolor</td>\n",
       "      <td>versicolor</td>\n",
       "    </tr>\n",
       "    <tr>\n",
       "      <th>12</th>\n",
       "      <td>versicolor</td>\n",
       "      <td>versicolor</td>\n",
       "    </tr>\n",
       "    <tr>\n",
       "      <th>13</th>\n",
       "      <td>versicolor</td>\n",
       "      <td>versicolor</td>\n",
       "    </tr>\n",
       "    <tr>\n",
       "      <th>14</th>\n",
       "      <td>versicolor</td>\n",
       "      <td>versicolor</td>\n",
       "    </tr>\n",
       "    <tr>\n",
       "      <th>15</th>\n",
       "      <td>versicolor</td>\n",
       "      <td>versicolor</td>\n",
       "    </tr>\n",
       "    <tr>\n",
       "      <th>16</th>\n",
       "      <td>setosa</td>\n",
       "      <td>setosa</td>\n",
       "    </tr>\n",
       "    <tr>\n",
       "      <th>17</th>\n",
       "      <td>versicolor</td>\n",
       "      <td>versicolor</td>\n",
       "    </tr>\n",
       "    <tr>\n",
       "      <th>18</th>\n",
       "      <td>virginica</td>\n",
       "      <td>virginica</td>\n",
       "    </tr>\n",
       "    <tr>\n",
       "      <th>19</th>\n",
       "      <td>setosa</td>\n",
       "      <td>setosa</td>\n",
       "    </tr>\n",
       "    <tr>\n",
       "      <th>20</th>\n",
       "      <td>setosa</td>\n",
       "      <td>setosa</td>\n",
       "    </tr>\n",
       "    <tr>\n",
       "      <th>21</th>\n",
       "      <td>virginica</td>\n",
       "      <td>virginica</td>\n",
       "    </tr>\n",
       "    <tr>\n",
       "      <th>22</th>\n",
       "      <td>virginica</td>\n",
       "      <td>virginica</td>\n",
       "    </tr>\n",
       "    <tr>\n",
       "      <th>23</th>\n",
       "      <td>versicolor</td>\n",
       "      <td>versicolor</td>\n",
       "    </tr>\n",
       "    <tr>\n",
       "      <th>24</th>\n",
       "      <td>setosa</td>\n",
       "      <td>setosa</td>\n",
       "    </tr>\n",
       "    <tr>\n",
       "      <th>25</th>\n",
       "      <td>versicolor</td>\n",
       "      <td>versicolor</td>\n",
       "    </tr>\n",
       "    <tr>\n",
       "      <th>26</th>\n",
       "      <td>virginica</td>\n",
       "      <td>virginica</td>\n",
       "    </tr>\n",
       "    <tr>\n",
       "      <th>27</th>\n",
       "      <td>setosa</td>\n",
       "      <td>setosa</td>\n",
       "    </tr>\n",
       "    <tr>\n",
       "      <th>28</th>\n",
       "      <td>versicolor</td>\n",
       "      <td>versicolor</td>\n",
       "    </tr>\n",
       "    <tr>\n",
       "      <th>29</th>\n",
       "      <td>versicolor</td>\n",
       "      <td>versicolor</td>\n",
       "    </tr>\n",
       "  </tbody>\n",
       "</table>\n",
       "</div>"
      ],
      "text/plain": [
       "        y_test  y_predict1\n",
       "0    virginica   virginica\n",
       "1    virginica   virginica\n",
       "2   versicolor  versicolor\n",
       "3    virginica   virginica\n",
       "4    virginica  versicolor\n",
       "5       setosa      setosa\n",
       "6   versicolor  versicolor\n",
       "7    virginica   virginica\n",
       "8    virginica   virginica\n",
       "9   versicolor   virginica\n",
       "10   virginica   virginica\n",
       "11  versicolor  versicolor\n",
       "12  versicolor  versicolor\n",
       "13  versicolor  versicolor\n",
       "14  versicolor  versicolor\n",
       "15  versicolor  versicolor\n",
       "16      setosa      setosa\n",
       "17  versicolor  versicolor\n",
       "18   virginica   virginica\n",
       "19      setosa      setosa\n",
       "20      setosa      setosa\n",
       "21   virginica   virginica\n",
       "22   virginica   virginica\n",
       "23  versicolor  versicolor\n",
       "24      setosa      setosa\n",
       "25  versicolor  versicolor\n",
       "26   virginica   virginica\n",
       "27      setosa      setosa\n",
       "28  versicolor  versicolor\n",
       "29  versicolor  versicolor"
      ]
     },
     "execution_count": 36,
     "metadata": {},
     "output_type": "execute_result"
    }
   ],
   "source": [
    "prediction_output.transpose()"
   ]
  },
  {
   "cell_type": "code",
   "execution_count": 37,
   "id": "ec77e946",
   "metadata": {},
   "outputs": [
    {
     "data": {
      "text/plain": [
       "versicolor    13\n",
       "virginica     11\n",
       "setosa         6\n",
       "Name: y_test, dtype: int64"
      ]
     },
     "execution_count": 37,
     "metadata": {},
     "output_type": "execute_result"
    }
   ],
   "source": [
    "prediction_output.iloc[0,:].value_counts()"
   ]
  },
  {
   "cell_type": "code",
   "execution_count": 38,
   "id": "97cbd8b4",
   "metadata": {},
   "outputs": [],
   "source": [
    "Ks=21\n",
    "mean_acc=np.zeros((Ks-1))\n",
    "std_acc=np.zeros((Ks-1))"
   ]
  },
  {
   "cell_type": "code",
   "execution_count": 39,
   "id": "d1d0da3a",
   "metadata": {},
   "outputs": [],
   "source": [
    "for n in range(1,Ks):\n",
    "    neigh=KNeighborsClassifier(n_neighbors=n).fit(X_train,y_train)\n",
    "    yhat=neigh.predict(X_test)\n",
    "    mean_acc[n-1]=accuracy_score(y_test,yhat)"
   ]
  },
  {
   "cell_type": "code",
   "execution_count": 40,
   "id": "d8f326f5",
   "metadata": {},
   "outputs": [
    {
     "name": "stdout",
     "output_type": "stream",
     "text": [
      "The best accuracy was with 1.0 with k= 10\n"
     ]
    }
   ],
   "source": [
    "print( \"The best accuracy was with\", mean_acc.max(), \"with k=\", mean_acc.argmax(-1))"
   ]
  },
  {
   "cell_type": "code",
   "execution_count": 41,
   "id": "7d72c3d9",
   "metadata": {},
   "outputs": [
    {
     "data": {
      "image/png": "[encoded data removed]",
      "text/plain": [
       "<Figure size 432x288 with 1 Axes>"
      ]
     },
     "metadata": {
      "needs_background": "light"
     },
     "output_type": "display_data"
    }
   ],
   "source": [
    "plt.plot(range(1,Ks),mean_acc,'g')\n",
    "plt.legend(('Accuracy '))\n",
    "plt.ylabel('Accuracy ')\n",
    "plt.xlabel('Number of neighbors (K)')\n",
    "plt.tight_layout()\n",
    "plt.show()"
   ]
  },
  {
   "cell_type": "markdown",
   "id": "192ef22b",
   "metadata": {},
   "source": [
    "<h2>Question Five</h2>"
   ]
  },
  {
   "cell_type": "code",
   "execution_count": 43,
   "id": "b1507957",
   "metadata": {},
   "outputs": [],
   "source": [
    "import pandas as pd\n",
    "import matplotlib.pyplot as plt\n",
    "import numpy as np\n",
    "import sklearn\n",
    "from sklearn.linear_model import LogisticRegression"
   ]
  },
  {
   "cell_type": "code",
   "execution_count": 44,
   "id": "494bb961",
   "metadata": {},
   "outputs": [
    {
     "name": "stdout",
     "output_type": "stream",
     "text": [
      "{'data': array([[5.1, 3.5, 1.4, 0.2],\n",
      "       [4.9, 3. , 1.4, 0.2],\n",
      "       [4.7, 3.2, 1.3, 0.2],\n",
      "       [4.6, 3.1, 1.5, 0.2],\n",
      "       [5. , 3.6, 1.4, 0.2],\n",
      "       [5.4, 3.9, 1.7, 0.4],\n",
      "       [4.6, 3.4, 1.4, 0.3],\n",
      "       [5. , 3.4, 1.5, 0.2],\n",
      "       [4.4, 2.9, 1.4, 0.2],\n",
      "       [4.9, 3.1, 1.5, 0.1],\n",
      "       [5.4, 3.7, 1.5, 0.2],\n",
      "       [4.8, 3.4, 1.6, 0.2],\n",
      "       [4.8, 3. , 1.4, 0.1],\n",
      "       [4.3, 3. , 1.1, 0.1],\n",
      "       [5.8, 4. , 1.2, 0.2],\n",
      "       [5.7, 4.4, 1.5, 0.4],\n",
      "       [5.4, 3.9, 1.3, 0.4],\n",
      "       [5.1, 3.5, 1.4, 0.3],\n",
      "       [5.7, 3.8, 1.7, 0.3],\n",
      "       [5.1, 3.8, 1.5, 0.3],\n",
      "       [5.4, 3.4, 1.7, 0.2],\n",
      "       [5.1, 3.7, 1.5, 0.4],\n",
      "       [4.6, 3.6, 1. , 0.2],\n",
      "       [5.1, 3.3, 1.7, 0.5],\n",
      "       [4.8, 3.4, 1.9, 0.2],\n",
      "       [5. , 3. , 1.6, 0.2],\n",
      "       [5. , 3.4, 1.6, 0.4],\n",
      "       [5.2, 3.5, 1.5, 0.2],\n",
      "       [5.2, 3.4, 1.4, 0.2],\n",
      "       [4.7, 3.2, 1.6, 0.2],\n",
      "       [4.8, 3.1, 1.6, 0.2],\n",
      "       [5.4, 3.4, 1.5, 0.4],\n",
      "       [5.2, 4.1, 1.5, 0.1],\n",
      "       [5.5, 4.2, 1.4, 0.2],\n",
      "       [4.9, 3.1, 1.5, 0.2],\n",
      "       [5. , 3.2, 1.2, 0.2],\n",
      "       [5.5, 3.5, 1.3, 0.2],\n",
      "       [4.9, 3.6, 1.4, 0.1],\n",
      "       [4.4, 3. , 1.3, 0.2],\n",
      "       [5.1, 3.4, 1.5, 0.2],\n",
      "       [5. , 3.5, 1.3, 0.3],\n",
      "       [4.5, 2.3, 1.3, 0.3],\n",
      "       [4.4, 3.2, 1.3, 0.2],\n",
      "       [5. , 3.5, 1.6, 0.6],\n",
      "       [5.1, 3.8, 1.9, 0.4],\n",
      "       [4.8, 3. , 1.4, 0.3],\n",
      "       [5.1, 3.8, 1.6, 0.2],\n",
      "       [4.6, 3.2, 1.4, 0.2],\n",
      "       [5.3, 3.7, 1.5, 0.2],\n",
      "       [5. , 3.3, 1.4, 0.2],\n",
      "       [7. , 3.2, 4.7, 1.4],\n",
      "       [6.4, 3.2, 4.5, 1.5],\n",
      "       [6.9, 3.1, 4.9, 1.5],\n",
      "       [5.5, 2.3, 4. , 1.3],\n",
      "       [6.5, 2.8, 4.6, 1.5],\n",
      "       [5.7, 2.8, 4.5, 1.3],\n",
      "       [6.3, 3.3, 4.7, 1.6],\n",
      "       [4.9, 2.4, 3.3, 1. ],\n",
      "       [6.6, 2.9, 4.6, 1.3],\n",
      "       [5.2, 2.7, 3.9, 1.4],\n",
      "       [5. , 2. , 3.5, 1. ],\n",
      "       [5.9, 3. , 4.2, 1.5],\n",
      "       [6. , 2.2, 4. , 1. ],\n",
      "       [6.1, 2.9, 4.7, 1.4],\n",
      "       [5.6, 2.9, 3.6, 1.3],\n",
      "       [6.7, 3.1, 4.4, 1.4],\n",
      "       [5.6, 3. , 4.5, 1.5],\n",
      "       [5.8, 2.7, 4.1, 1. ],\n",
      "       [6.2, 2.2, 4.5, 1.5],\n",
      "       [5.6, 2.5, 3.9, 1.1],\n",
      "       [5.9, 3.2, 4.8, 1.8],\n",
      "       [6.1, 2.8, 4. , 1.3],\n",
      "       [6.3, 2.5, 4.9, 1.5],\n",
      "       [6.1, 2.8, 4.7, 1.2],\n",
      "       [6.4, 2.9, 4.3, 1.3],\n",
      "       [6.6, 3. , 4.4, 1.4],\n",
      "       [6.8, 2.8, 4.8, 1.4],\n",
      "       [6.7, 3. , 5. , 1.7],\n",
      "       [6. , 2.9, 4.5, 1.5],\n",
      "       [5.7, 2.6, 3.5, 1. ],\n",
      "       [5.5, 2.4, 3.8, 1.1],\n",
      "       [5.5, 2.4, 3.7, 1. ],\n",
      "       [5.8, 2.7, 3.9, 1.2],\n",
      "       [6. , 2.7, 5.1, 1.6],\n",
      "       [5.4, 3. , 4.5, 1.5],\n",
      "       [6. , 3.4, 4.5, 1.6],\n",
      "       [6.7, 3.1, 4.7, 1.5],\n",
      "       [6.3, 2.3, 4.4, 1.3],\n",
      "       [5.6, 3. , 4.1, 1.3],\n",
      "       [5.5, 2.5, 4. , 1.3],\n",
      "       [5.5, 2.6, 4.4, 1.2],\n",
      "       [6.1, 3. , 4.6, 1.4],\n",
      "       [5.8, 2.6, 4. , 1.2],\n",
      "       [5. , 2.3, 3.3, 1. ],\n",
      "       [5.6, 2.7, 4.2, 1.3],\n",
      "       [5.7, 3. , 4.2, 1.2],\n",
      "       [5.7, 2.9, 4.2, 1.3],\n",
      "       [6.2, 2.9, 4.3, 1.3],\n",
      "       [5.1, 2.5, 3. , 1.1],\n",
      "       [5.7, 2.8, 4.1, 1.3],\n",
      "       [6.3, 3.3, 6. , 2.5],\n",
      "       [5.8, 2.7, 5.1, 1.9],\n",
      "       [7.1, 3. , 5.9, 2.1],\n",
      "       [6.3, 2.9, 5.6, 1.8],\n",
      "       [6.5, 3. , 5.8, 2.2],\n",
      "       [7.6, 3. , 6.6, 2.1],\n",
      "       [4.9, 2.5, 4.5, 1.7],\n",
      "       [7.3, 2.9, 6.3, 1.8],\n",
      "       [6.7, 2.5, 5.8, 1.8],\n",
      "       [7.2, 3.6, 6.1, 2.5],\n",
      "       [6.5, 3.2, 5.1, 2. ],\n",
      "       [6.4, 2.7, 5.3, 1.9],\n",
      "       [6.8, 3. , 5.5, 2.1],\n",
      "       [5.7, 2.5, 5. , 2. ],\n",
      "       [5.8, 2.8, 5.1, 2.4],\n",
      "       [6.4, 3.2, 5.3, 2.3],\n",
      "       [6.5, 3. , 5.5, 1.8],\n",
      "       [7.7, 3.8, 6.7, 2.2],\n",
      "       [7.7, 2.6, 6.9, 2.3],\n",
      "       [6. , 2.2, 5. , 1.5],\n",
      "       [6.9, 3.2, 5.7, 2.3],\n",
      "       [5.6, 2.8, 4.9, 2. ],\n",
      "       [7.7, 2.8, 6.7, 2. ],\n",
      "       [6.3, 2.7, 4.9, 1.8],\n",
      "       [6.7, 3.3, 5.7, 2.1],\n",
      "       [7.2, 3.2, 6. , 1.8],\n",
      "       [6.2, 2.8, 4.8, 1.8],\n",
      "       [6.1, 3. , 4.9, 1.8],\n",
      "       [6.4, 2.8, 5.6, 2.1],\n",
      "       [7.2, 3. , 5.8, 1.6],\n",
      "       [7.4, 2.8, 6.1, 1.9],\n",
      "       [7.9, 3.8, 6.4, 2. ],\n",
      "       [6.4, 2.8, 5.6, 2.2],\n",
      "       [6.3, 2.8, 5.1, 1.5],\n",
      "       [6.1, 2.6, 5.6, 1.4],\n",
      "       [7.7, 3. , 6.1, 2.3],\n",
      "       [6.3, 3.4, 5.6, 2.4],\n",
      "       [6.4, 3.1, 5.5, 1.8],\n",
      "       [6. , 3. , 4.8, 1.8],\n",
      "       [6.9, 3.1, 5.4, 2.1],\n",
      "       [6.7, 3.1, 5.6, 2.4],\n",
      "       [6.9, 3.1, 5.1, 2.3],\n",
      "       [5.8, 2.7, 5.1, 1.9],\n",
      "       [6.8, 3.2, 5.9, 2.3],\n",
      "       [6.7, 3.3, 5.7, 2.5],\n",
      "       [6.7, 3. , 5.2, 2.3],\n",
      "       [6.3, 2.5, 5. , 1.9],\n",
      "       [6.5, 3. , 5.2, 2. ],\n",
      "       [6.2, 3.4, 5.4, 2.3],\n",
      "       [5.9, 3. , 5.1, 1.8]]), 'target': array([0, 0, 0, 0, 0, 0, 0, 0, 0, 0, 0, 0, 0, 0, 0, 0, 0, 0, 0, 0, 0, 0,\n",
      "       0, 0, 0, 0, 0, 0, 0, 0, 0, 0, 0, 0, 0, 0, 0, 0, 0, 0, 0, 0, 0, 0,\n",
      "       0, 0, 0, 0, 0, 0, 1, 1, 1, 1, 1, 1, 1, 1, 1, 1, 1, 1, 1, 1, 1, 1,\n",
      "       1, 1, 1, 1, 1, 1, 1, 1, 1, 1, 1, 1, 1, 1, 1, 1, 1, 1, 1, 1, 1, 1,\n",
      "       1, 1, 1, 1, 1, 1, 1, 1, 1, 1, 1, 1, 2, 2, 2, 2, 2, 2, 2, 2, 2, 2,\n",
      "       2, 2, 2, 2, 2, 2, 2, 2, 2, 2, 2, 2, 2, 2, 2, 2, 2, 2, 2, 2, 2, 2,\n",
      "       2, 2, 2, 2, 2, 2, 2, 2, 2, 2, 2, 2, 2, 2, 2, 2, 2, 2]), 'frame': None, 'target_names': array(['setosa', 'versicolor', 'virginica'], dtype='<U10'), 'DESCR': '.. _iris_dataset:\\n\\nIris plants dataset\\n--------------------\\n\\n**Data Set Characteristics:**\\n\\n    :Number of Instances: 150 (50 in each of three classes)\\n    :Number of Attributes: 4 numeric, predictive attributes and the class\\n    :Attribute Information:\\n        - sepal length in cm\\n        - sepal width in cm\\n        - petal length in cm\\n        - petal width in cm\\n        - class:\\n                - Iris-Setosa\\n                - Iris-Versicolour\\n                - Iris-Virginica\\n                \\n    :Summary Statistics:\\n\\n    ============== ==== ==== ======= ===== ====================\\n                    Min  Max   Mean    SD   Class Correlation\\n    ============== ==== ==== ======= ===== ====================\\n    sepal length:   4.3  7.9   5.84   0.83    0.7826\\n    sepal width:    2.0  4.4   3.05   0.43   -0.4194\\n    petal length:   1.0  6.9   3.76   1.76    0.9490  (high!)\\n    petal width:    0.1  2.5   1.20   0.76    0.9565  (high!)\\n    ============== ==== ==== ======= ===== ====================\\n\\n    :Missing Attribute Values: None\\n    :Class Distribution: 33.3% for each of 3 classes.\\n    :Creator: R.A. Fisher\\n    :Donor: Michael Marshall (MARSHALL%PLU@io.arc.nasa.gov)\\n    :Date: July, 1988\\n\\nThe famous Iris database, first used by Sir R.A. Fisher. The dataset is taken\\nfrom Fisher\\'s paper. Note that it\\'s the same as in R, but not as in the UCI\\nMachine Learning Repository, which has two wrong data points.\\n\\nThis is perhaps the best known database to be found in the\\npattern recognition literature.  Fisher\\'s paper is a classic in the field and\\nis referenced frequently to this day.  (See Duda & Hart, for example.)  The\\ndata set contains 3 classes of 50 instances each, where each class refers to a\\ntype of iris plant.  One class is linearly separable from the other 2; the\\nlatter are NOT linearly separable from each other.\\n\\n.. topic:: References\\n\\n   - Fisher, R.A. \"The use of multiple measurements in taxonomic problems\"\\n     Annual Eugenics, 7, Part II, 179-188 (1936); also in \"Contributions to\\n     Mathematical Statistics\" (John Wiley, NY, 1950).\\n   - Duda, R.O., & Hart, P.E. (1973) Pattern Classification and Scene Analysis.\\n     (Q327.D83) John Wiley & Sons.  ISBN 0-471-22361-1.  See page 218.\\n   - Dasarathy, B.V. (1980) \"Nosing Around the Neighborhood: A New System\\n     Structure and Classification Rule for Recognition in Partially Exposed\\n     Environments\".  IEEE Transactions on Pattern Analysis and Machine\\n     Intelligence, Vol. PAMI-2, No. 1, 67-71.\\n   - Gates, G.W. (1972) \"The Reduced Nearest Neighbor Rule\".  IEEE Transactions\\n     on Information Theory, May 1972, 431-433.\\n   - See also: 1988 MLC Proceedings, 54-64.  Cheeseman et al\"s AUTOCLASS II\\n     conceptual clustering system finds 3 classes in the data.\\n   - Many, many more ...', 'feature_names': ['sepal length (cm)', 'sepal width (cm)', 'petal length (cm)', 'petal width (cm)'], 'filename': 'C:\\\\Users\\\\Gismallah Rasas\\\\anaconda3\\\\lib\\\\site-packages\\\\sklearn\\\\datasets\\\\data\\\\iris.csv'}\n"
     ]
    }
   ],
   "source": [
    "from sklearn.datasets import load_iris\n",
    "iris=load_iris()\n",
    "print(iris)"
   ]
  },
  {
   "cell_type": "code",
   "execution_count": 45,
   "id": "f1734f27",
   "metadata": {},
   "outputs": [
    {
     "data": {
      "text/plain": [
       "dict_keys(['data', 'target', 'frame', 'target_names', 'DESCR', 'feature_names', 'filename'])"
      ]
     },
     "execution_count": 45,
     "metadata": {},
     "output_type": "execute_result"
    }
   ],
   "source": [
    "iris.keys()"
   ]
  },
  {
   "cell_type": "code",
   "execution_count": 46,
   "id": "a90f71b8",
   "metadata": {},
   "outputs": [
    {
     "name": "stdout",
     "output_type": "stream",
     "text": [
      "['setosa' 'versicolor' 'virginica']\n"
     ]
    }
   ],
   "source": [
    "print(iris.target_names)"
   ]
  },
  {
   "cell_type": "code",
   "execution_count": 47,
   "id": "70c3f5c0",
   "metadata": {},
   "outputs": [
    {
     "name": "stdout",
     "output_type": "stream",
     "text": [
      "     0    1    2    3\n",
      "0  5.1  3.5  1.4  0.2\n",
      "1  4.9  3.0  1.4  0.2\n",
      "2  4.7  3.2  1.3  0.2\n",
      "3  4.6  3.1  1.5  0.2\n",
      "4  5.0  3.6  1.4  0.2\n"
     ]
    }
   ],
   "source": [
    "df=pd.DataFrame(iris.data)\n",
    "print(df.head())"
   ]
  },
  {
   "cell_type": "code",
   "execution_count": 48,
   "id": "2fc1d083",
   "metadata": {},
   "outputs": [
    {
     "data": {
      "text/html": [
       "<div>\n",
       "<style scoped>\n",
       "    .dataframe tbody tr th:only-of-type {\n",
       "        vertical-align: middle;\n",
       "    }\n",
       "\n",
       "    .dataframe tbody tr th {\n",
       "        vertical-align: top;\n",
       "    }\n",
       "\n",
       "    .dataframe thead th {\n",
       "        text-align: right;\n",
       "    }\n",
       "</style>\n",
       "<table border=\"1\" class=\"dataframe\">\n",
       "  <thead>\n",
       "    <tr style=\"text-align: right;\">\n",
       "      <th></th>\n",
       "      <th>sepal length (cm)</th>\n",
       "      <th>sepal width (cm)</th>\n",
       "      <th>petal length (cm)</th>\n",
       "      <th>petal width (cm)</th>\n",
       "    </tr>\n",
       "  </thead>\n",
       "  <tbody>\n",
       "    <tr>\n",
       "      <th>0</th>\n",
       "      <td>5.1</td>\n",
       "      <td>3.5</td>\n",
       "      <td>1.4</td>\n",
       "      <td>0.2</td>\n",
       "    </tr>\n",
       "    <tr>\n",
       "      <th>1</th>\n",
       "      <td>4.9</td>\n",
       "      <td>3.0</td>\n",
       "      <td>1.4</td>\n",
       "      <td>0.2</td>\n",
       "    </tr>\n",
       "    <tr>\n",
       "      <th>2</th>\n",
       "      <td>4.7</td>\n",
       "      <td>3.2</td>\n",
       "      <td>1.3</td>\n",
       "      <td>0.2</td>\n",
       "    </tr>\n",
       "    <tr>\n",
       "      <th>3</th>\n",
       "      <td>4.6</td>\n",
       "      <td>3.1</td>\n",
       "      <td>1.5</td>\n",
       "      <td>0.2</td>\n",
       "    </tr>\n",
       "    <tr>\n",
       "      <th>4</th>\n",
       "      <td>5.0</td>\n",
       "      <td>3.6</td>\n",
       "      <td>1.4</td>\n",
       "      <td>0.2</td>\n",
       "    </tr>\n",
       "  </tbody>\n",
       "</table>\n",
       "</div>"
      ],
      "text/plain": [
       "   sepal length (cm)  sepal width (cm)  petal length (cm)  petal width (cm)\n",
       "0                5.1               3.5                1.4               0.2\n",
       "1                4.9               3.0                1.4               0.2\n",
       "2                4.7               3.2                1.3               0.2\n",
       "3                4.6               3.1                1.5               0.2\n",
       "4                5.0               3.6                1.4               0.2"
      ]
     },
     "execution_count": 48,
     "metadata": {},
     "output_type": "execute_result"
    }
   ],
   "source": [
    "df.columns=iris.feature_names\n",
    "df.head()"
   ]
  },
  {
   "cell_type": "code",
   "execution_count": 49,
   "id": "56c2209e",
   "metadata": {},
   "outputs": [
    {
     "name": "stdout",
     "output_type": "stream",
     "text": [
      "<class 'pandas.core.frame.DataFrame'>\n",
      "RangeIndex: 150 entries, 0 to 149\n",
      "Data columns (total 4 columns):\n",
      " #   Column             Non-Null Count  Dtype  \n",
      "---  ------             --------------  -----  \n",
      " 0   sepal length (cm)  150 non-null    float64\n",
      " 1   sepal width (cm)   150 non-null    float64\n",
      " 2   petal length (cm)  150 non-null    float64\n",
      " 3   petal width (cm)   150 non-null    float64\n",
      "dtypes: float64(4)\n",
      "memory usage: 4.8 KB\n"
     ]
    }
   ],
   "source": [
    "df.info()"
   ]
  },
  {
   "cell_type": "code",
   "execution_count": 50,
   "id": "42eee8a0",
   "metadata": {},
   "outputs": [
    {
     "name": "stdout",
     "output_type": "stream",
     "text": [
      "(150, 4)\n",
      "(150,)\n"
     ]
    }
   ],
   "source": [
    "X=iris.data\n",
    "Y=iris.target\n",
    "print(X.shape)\n",
    "print(Y.shape)"
   ]
  },
  {
   "cell_type": "code",
   "execution_count": 51,
   "id": "61d71103",
   "metadata": {},
   "outputs": [],
   "source": [
    "X_train,X_test,Y_train,Y_test=sklearn.model_selection.train_test_split(X,Y,test_size=0.25,random_state=2)"
   ]
  },
  {
   "cell_type": "code",
   "execution_count": 52,
   "id": "6fedad0e",
   "metadata": {},
   "outputs": [
    {
     "data": {
      "text/plain": [
       "LogisticRegression(random_state=0)"
      ]
     },
     "execution_count": 52,
     "metadata": {},
     "output_type": "execute_result"
    }
   ],
   "source": [
    "lorg=LogisticRegression(random_state=0)\n",
    "lorg.fit(X_train,Y_train)"
   ]
  },
  {
   "cell_type": "code",
   "execution_count": 53,
   "id": "88be8f9b",
   "metadata": {},
   "outputs": [
    {
     "name": "stdout",
     "output_type": "stream",
     "text": [
      "[0 0 2 0 0 2 0 2 2 0 0 0 0 0 1 1 0 1 2 1 2 1 2 1 1 0 0 2 0 2 2 0 1 2 1 0 2\n",
      " 1]\n"
     ]
    }
   ],
   "source": [
    "Y_pred=lorg.predict(X_test)\n",
    "print(Y_pred)\n"
   ]
  },
  {
   "cell_type": "code",
   "execution_count": 54,
   "id": "9cf139a4",
   "metadata": {},
   "outputs": [
    {
     "data": {
      "text/plain": [
       "array([[16,  0,  0],\n",
       "       [ 0, 10,  1],\n",
       "       [ 0,  0, 11]], dtype=int64)"
      ]
     },
     "execution_count": 54,
     "metadata": {},
     "output_type": "execute_result"
    }
   ],
   "source": [
    "from sklearn.metrics import confusion_matrix\n",
    "cm=confusion_matrix(Y_test,Y_pred)\n",
    "cm"
   ]
  },
  {
   "cell_type": "code",
   "execution_count": 55,
   "id": "f660ec21",
   "metadata": {},
   "outputs": [
    {
     "name": "stdout",
     "output_type": "stream",
     "text": [
      "1.0\n"
     ]
    }
   ],
   "source": [
    "from sklearn.metrics import accuracy_score\n",
    "print(accuracy_score(Y_test,Y_test))"
   ]
  },
  {
   "cell_type": "markdown",
   "id": "ead10bd5",
   "metadata": {},
   "source": [
    "<h2>Question Four</h2>"
   ]
  },
  {
   "cell_type": "code",
   "execution_count": null,
   "id": "71c1d49e",
   "metadata": {},
   "outputs": [],
   "source": [
    "import pandas as pd\n",
    "import numpy as np\n",
    "import matplotlib.pyplot as plt"
   ]
  },
  {
   "cell_type": "code",
   "execution_count": null,
   "id": "29218894",
   "metadata": {},
   "outputs": [],
   "source": [
    "iris_df = pd.read_csv('iris.csv')\n",
    "iris_df.tail()\n",
    "iris_df.shape\n",
    "iris_df.size\n",
    "iris_df.count()\n",
    "iris_df['sepalWidth'].value_counts()"
   ]
  },
  {
   "cell_type": "code",
   "execution_count": null,
   "id": "9f891b1f",
   "metadata": {},
   "outputs": [],
   "source": [
    "benign_df = iris_df[iris_df'class]==3.0][0:200]\n",
    "malignant_df = iris_df[iris_df'class]==2.8][0:200]\n",
    "\n",
    "axes = benign_df.plot(kind='scatter', x='sepalWidth', y='petalWidth', color='blue', label='Benign')\n",
    "\n",
    "                       "
   ]
  },
  {
   "cell_type": "code",
   "execution_count": null,
   "id": "41768a0b",
   "metadata": {},
   "outputs": [],
   "source": [
    "iris_df = pd.read_csv('iris.csv')\n",
    "iris_df.tail()\n",
    "iris_df.shape\n",
    "iris_df.size\n",
    "iris_df.count() \n",
    "iris_df['class'].value_counts()"
   ]
  },
  {
   "cell_type": "markdown",
   "id": "69c950a3",
   "metadata": {},
   "source": [
    "<h2>Question One</h2>"
   ]
  },
  {
   "cell_type": "code",
   "execution_count": 4,
   "id": "663d244c",
   "metadata": {},
   "outputs": [],
   "source": [
    "import pandas as pd \n",
    "import numpy as np \n",
    "import seaborn as sns\n",
    "import matplotlib.pyplot as plt "
   ]
  },
  {
   "cell_type": "code",
   "execution_count": 5,
   "id": "45ed9afe",
   "metadata": {},
   "outputs": [
    {
     "data": {
      "text/html": [
       "<div>\n",
       "<style scoped>\n",
       "    .dataframe tbody tr th:only-of-type {\n",
       "        vertical-align: middle;\n",
       "    }\n",
       "\n",
       "    .dataframe tbody tr th {\n",
       "        vertical-align: top;\n",
       "    }\n",
       "\n",
       "    .dataframe thead th {\n",
       "        text-align: right;\n",
       "    }\n",
       "</style>\n",
       "<table border=\"1\" class=\"dataframe\">\n",
       "  <thead>\n",
       "    <tr style=\"text-align: right;\">\n",
       "      <th></th>\n",
       "      <th>Date_reported</th>\n",
       "      <th>Country_code</th>\n",
       "      <th>Country</th>\n",
       "      <th>WHO_region</th>\n",
       "      <th>New_cases</th>\n",
       "      <th>Cumulative_cases</th>\n",
       "      <th>New_deaths</th>\n",
       "      <th>Cumulative_deaths</th>\n",
       "    </tr>\n",
       "  </thead>\n",
       "  <tbody>\n",
       "    <tr>\n",
       "      <th>0</th>\n",
       "      <td>03/01/2020</td>\n",
       "      <td>AF</td>\n",
       "      <td>Afghanistan</td>\n",
       "      <td>EMRO</td>\n",
       "      <td>0</td>\n",
       "      <td>0</td>\n",
       "      <td>0</td>\n",
       "      <td>0</td>\n",
       "    </tr>\n",
       "    <tr>\n",
       "      <th>1</th>\n",
       "      <td>04/01/2020</td>\n",
       "      <td>AF</td>\n",
       "      <td>Afghanistan</td>\n",
       "      <td>EMRO</td>\n",
       "      <td>0</td>\n",
       "      <td>0</td>\n",
       "      <td>0</td>\n",
       "      <td>0</td>\n",
       "    </tr>\n",
       "    <tr>\n",
       "      <th>2</th>\n",
       "      <td>05/01/2020</td>\n",
       "      <td>AF</td>\n",
       "      <td>Afghanistan</td>\n",
       "      <td>EMRO</td>\n",
       "      <td>0</td>\n",
       "      <td>0</td>\n",
       "      <td>0</td>\n",
       "      <td>0</td>\n",
       "    </tr>\n",
       "    <tr>\n",
       "      <th>3</th>\n",
       "      <td>06/01/2020</td>\n",
       "      <td>AF</td>\n",
       "      <td>Afghanistan</td>\n",
       "      <td>EMRO</td>\n",
       "      <td>0</td>\n",
       "      <td>0</td>\n",
       "      <td>0</td>\n",
       "      <td>0</td>\n",
       "    </tr>\n",
       "    <tr>\n",
       "      <th>4</th>\n",
       "      <td>07/01/2020</td>\n",
       "      <td>AF</td>\n",
       "      <td>Afghanistan</td>\n",
       "      <td>EMRO</td>\n",
       "      <td>0</td>\n",
       "      <td>0</td>\n",
       "      <td>0</td>\n",
       "      <td>0</td>\n",
       "    </tr>\n",
       "  </tbody>\n",
       "</table>\n",
       "</div>"
      ],
      "text/plain": [
       "  Date_reported Country_code      Country WHO_region  New_cases  \\\n",
       "0    03/01/2020           AF  Afghanistan       EMRO          0   \n",
       "1    04/01/2020           AF  Afghanistan       EMRO          0   \n",
       "2    05/01/2020           AF  Afghanistan       EMRO          0   \n",
       "3    06/01/2020           AF  Afghanistan       EMRO          0   \n",
       "4    07/01/2020           AF  Afghanistan       EMRO          0   \n",
       "\n",
       "   Cumulative_cases  New_deaths  Cumulative_deaths  \n",
       "0                 0           0                  0  \n",
       "1                 0           0                  0  \n",
       "2                 0           0                  0  \n",
       "3                 0           0                  0  \n",
       "4                 0           0                  0  "
      ]
     },
     "execution_count": 5,
     "metadata": {},
     "output_type": "execute_result"
    }
   ],
   "source": [
    "covid=pd.read_csv('covid.csv')\n",
    "covid.head(5)"
   ]
  },
  {
   "cell_type": "code",
   "execution_count": 6,
   "id": "f7481c84",
   "metadata": {},
   "outputs": [
    {
     "data": {
      "text/html": [
       "<div>\n",
       "<style scoped>\n",
       "    .dataframe tbody tr th:only-of-type {\n",
       "        vertical-align: middle;\n",
       "    }\n",
       "\n",
       "    .dataframe tbody tr th {\n",
       "        vertical-align: top;\n",
       "    }\n",
       "\n",
       "    .dataframe thead th {\n",
       "        text-align: right;\n",
       "    }\n",
       "</style>\n",
       "<table border=\"1\" class=\"dataframe\">\n",
       "  <thead>\n",
       "    <tr style=\"text-align: right;\">\n",
       "      <th></th>\n",
       "      <th>Date_reported</th>\n",
       "      <th>Country_code</th>\n",
       "      <th>Country</th>\n",
       "      <th>WHO_region</th>\n",
       "      <th>New_cases</th>\n",
       "      <th>Cumulative_cases</th>\n",
       "      <th>New_deaths</th>\n",
       "      <th>Cumulative_deaths</th>\n",
       "    </tr>\n",
       "  </thead>\n",
       "  <tbody>\n",
       "    <tr>\n",
       "      <th>167314</th>\n",
       "      <td>01/12/2021</td>\n",
       "      <td>ZW</td>\n",
       "      <td>Zimbabwe</td>\n",
       "      <td>AFRO</td>\n",
       "      <td>426</td>\n",
       "      <td>134652</td>\n",
       "      <td>1</td>\n",
       "      <td>4707</td>\n",
       "    </tr>\n",
       "    <tr>\n",
       "      <th>167315</th>\n",
       "      <td>02/12/2021</td>\n",
       "      <td>ZW</td>\n",
       "      <td>Zimbabwe</td>\n",
       "      <td>AFRO</td>\n",
       "      <td>685</td>\n",
       "      <td>135337</td>\n",
       "      <td>0</td>\n",
       "      <td>4707</td>\n",
       "    </tr>\n",
       "    <tr>\n",
       "      <th>167316</th>\n",
       "      <td>03/12/2021</td>\n",
       "      <td>ZW</td>\n",
       "      <td>Zimbabwe</td>\n",
       "      <td>AFRO</td>\n",
       "      <td>1042</td>\n",
       "      <td>136379</td>\n",
       "      <td>0</td>\n",
       "      <td>4707</td>\n",
       "    </tr>\n",
       "    <tr>\n",
       "      <th>167317</th>\n",
       "      <td>04/12/2021</td>\n",
       "      <td>ZW</td>\n",
       "      <td>Zimbabwe</td>\n",
       "      <td>AFRO</td>\n",
       "      <td>1062</td>\n",
       "      <td>137441</td>\n",
       "      <td>1</td>\n",
       "      <td>4708</td>\n",
       "    </tr>\n",
       "    <tr>\n",
       "      <th>167318</th>\n",
       "      <td>05/12/2021</td>\n",
       "      <td>ZW</td>\n",
       "      <td>Zimbabwe</td>\n",
       "      <td>AFRO</td>\n",
       "      <td>1082</td>\n",
       "      <td>138523</td>\n",
       "      <td>1</td>\n",
       "      <td>4709</td>\n",
       "    </tr>\n",
       "    <tr>\n",
       "      <th>167319</th>\n",
       "      <td>06/12/2021</td>\n",
       "      <td>ZW</td>\n",
       "      <td>Zimbabwe</td>\n",
       "      <td>AFRO</td>\n",
       "      <td>523</td>\n",
       "      <td>139046</td>\n",
       "      <td>1</td>\n",
       "      <td>4710</td>\n",
       "    </tr>\n",
       "    <tr>\n",
       "      <th>167320</th>\n",
       "      <td>07/12/2021</td>\n",
       "      <td>ZW</td>\n",
       "      <td>Zimbabwe</td>\n",
       "      <td>AFRO</td>\n",
       "      <td>0</td>\n",
       "      <td>139046</td>\n",
       "      <td>0</td>\n",
       "      <td>4710</td>\n",
       "    </tr>\n",
       "    <tr>\n",
       "      <th>167321</th>\n",
       "      <td>08/12/2021</td>\n",
       "      <td>ZW</td>\n",
       "      <td>Zimbabwe</td>\n",
       "      <td>AFRO</td>\n",
       "      <td>6586</td>\n",
       "      <td>145632</td>\n",
       "      <td>8</td>\n",
       "      <td>4718</td>\n",
       "    </tr>\n",
       "  </tbody>\n",
       "</table>\n",
       "</div>"
      ],
      "text/plain": [
       "       Date_reported Country_code   Country WHO_region  New_cases  \\\n",
       "167314    01/12/2021           ZW  Zimbabwe       AFRO        426   \n",
       "167315    02/12/2021           ZW  Zimbabwe       AFRO        685   \n",
       "167316    03/12/2021           ZW  Zimbabwe       AFRO       1042   \n",
       "167317    04/12/2021           ZW  Zimbabwe       AFRO       1062   \n",
       "167318    05/12/2021           ZW  Zimbabwe       AFRO       1082   \n",
       "167319    06/12/2021           ZW  Zimbabwe       AFRO        523   \n",
       "167320    07/12/2021           ZW  Zimbabwe       AFRO          0   \n",
       "167321    08/12/2021           ZW  Zimbabwe       AFRO       6586   \n",
       "\n",
       "        Cumulative_cases  New_deaths  Cumulative_deaths  \n",
       "167314            134652           1               4707  \n",
       "167315            135337           0               4707  \n",
       "167316            136379           0               4707  \n",
       "167317            137441           1               4708  \n",
       "167318            138523           1               4709  \n",
       "167319            139046           1               4710  \n",
       "167320            139046           0               4710  \n",
       "167321            145632           8               4718  "
      ]
     },
     "execution_count": 6,
     "metadata": {},
     "output_type": "execute_result"
    }
   ],
   "source": [
    "covid=pd.read_csv('covid.csv')\n",
    "covid.tail(8)"
   ]
  },
  {
   "cell_type": "code",
   "execution_count": 7,
   "id": "e23b82bc",
   "metadata": {},
   "outputs": [
    {
     "name": "stdout",
     "output_type": "stream",
     "text": [
      "       Date_reported Country_code      Country WHO_region  New_cases  \\\n",
      "0         03/01/2020           AF  Afghanistan       EMRO          0   \n",
      "1         04/01/2020           AF  Afghanistan       EMRO          0   \n",
      "2         05/01/2020           AF  Afghanistan       EMRO          0   \n",
      "3         06/01/2020           AF  Afghanistan       EMRO          0   \n",
      "4         07/01/2020           AF  Afghanistan       EMRO          0   \n",
      "...              ...          ...          ...        ...        ...   \n",
      "167317    04/12/2021           ZW     Zimbabwe       AFRO       1062   \n",
      "167318    05/12/2021           ZW     Zimbabwe       AFRO       1082   \n",
      "167319    06/12/2021           ZW     Zimbabwe       AFRO        523   \n",
      "167320    07/12/2021           ZW     Zimbabwe       AFRO          0   \n",
      "167321    08/12/2021           ZW     Zimbabwe       AFRO       6586   \n",
      "\n",
      "        Cumulative_cases  New_deaths  Cumulative_deaths  \n",
      "0                      0           0                  0  \n",
      "1                      0           0                  0  \n",
      "2                      0           0                  0  \n",
      "3                      0           0                  0  \n",
      "4                      0           0                  0  \n",
      "...                  ...         ...                ...  \n",
      "167317            137441           1               4708  \n",
      "167318            138523           1               4709  \n",
      "167319            139046           1               4710  \n",
      "167320            139046           0               4710  \n",
      "167321            145632           8               4718  \n",
      "\n",
      "[167322 rows x 8 columns]\n"
     ]
    }
   ],
   "source": [
    "print(covid)"
   ]
  },
  {
   "cell_type": "code",
   "execution_count": 8,
   "id": "62fbe217",
   "metadata": {},
   "outputs": [],
   "source": [
    "covid['Cumulative_cases'] = covid['Cumulative_cases'].fillna(covid['Cumulative_cases'].mean())"
   ]
  },
  {
   "cell_type": "code",
   "execution_count": 11,
   "id": "ae24c237",
   "metadata": {},
   "outputs": [
    {
     "name": "stdout",
     "output_type": "stream",
     "text": [
      "       Date_reported Country_code      Country WHO_region  New_cases  \\\n",
      "0         03/01/2020           AF  Afghanistan       EMRO          0   \n",
      "1         04/01/2020           AF  Afghanistan       EMRO          0   \n",
      "2         05/01/2020           AF  Afghanistan       EMRO          0   \n",
      "3         06/01/2020           AF  Afghanistan       EMRO          0   \n",
      "4         07/01/2020           AF  Afghanistan       EMRO          0   \n",
      "...              ...          ...          ...        ...        ...   \n",
      "167317    04/12/2021           ZW     Zimbabwe       AFRO       1062   \n",
      "167318    05/12/2021           ZW     Zimbabwe       AFRO       1082   \n",
      "167319    06/12/2021           ZW     Zimbabwe       AFRO        523   \n",
      "167320    07/12/2021           ZW     Zimbabwe       AFRO          0   \n",
      "167321    08/12/2021           ZW     Zimbabwe       AFRO       6586   \n",
      "\n",
      "        Cumulative_cases  New_deaths  Cumulative_deaths  \n",
      "0                      0           0                  0  \n",
      "1                      0           0                  0  \n",
      "2                      0           0                  0  \n",
      "3                      0           0                  0  \n",
      "4                      0           0                  0  \n",
      "...                  ...         ...                ...  \n",
      "167317            137441           1               4708  \n",
      "167318            138523           1               4709  \n",
      "167319            139046           1               4710  \n",
      "167320            139046           0               4710  \n",
      "167321            145632           8               4718  \n",
      "\n",
      "[167322 rows x 8 columns]\n"
     ]
    }
   ],
   "source": [
    "print(covid)"
   ]
  },
  {
   "cell_type": "code",
   "execution_count": 12,
   "id": "ddbba472",
   "metadata": {},
   "outputs": [],
   "source": [
    "covid['Cumulative_deaths'] = covid['Cumulative_deaths'].fillna(covid['Cumulative_deaths'].mean())"
   ]
  },
  {
   "cell_type": "code",
   "execution_count": 13,
   "id": "7729db9b",
   "metadata": {},
   "outputs": [
    {
     "name": "stdout",
     "output_type": "stream",
     "text": [
      "<class 'pandas.core.frame.DataFrame'>\n",
      "RangeIndex: 167322 entries, 0 to 167321\n",
      "Data columns (total 8 columns):\n",
      " #   Column             Non-Null Count   Dtype \n",
      "---  ------             --------------   ----- \n",
      " 0   Date_reported      167322 non-null  object\n",
      " 1   Country_code       166616 non-null  object\n",
      " 2   Country            167322 non-null  object\n",
      " 3   WHO_region         167322 non-null  object\n",
      " 4   New_cases          167322 non-null  int64 \n",
      " 5   Cumulative_cases   167322 non-null  int64 \n",
      " 6   New_deaths         167322 non-null  int64 \n",
      " 7   Cumulative_deaths  167322 non-null  int64 \n",
      "dtypes: int64(4), object(4)\n",
      "memory usage: 10.2+ MB\n"
     ]
    },
    {
     "data": {
      "text/plain": [
       "<seaborn.axisgrid.PairGrid at 0x1d99faacc10>"
      ]
     },
     "execution_count": 13,
     "metadata": {},
     "output_type": "execute_result"
    },
    {
     "data": {
      "image/png": "[encoded data removed]",
      "text/plain": [
       "<Figure size 720x720 with 20 Axes>"
      ]
     },
     "metadata": {
      "needs_background": "light"
     },
     "output_type": "display_data"
    }
   ],
   "source": [
    "covid.head()\n",
    "covid.info()\n",
    "covid.describe()\n",
    "covid.columns\n",
    "sns.pairplot(covid)"
   ]
  },
  {
   "cell_type": "code",
   "execution_count": null,
   "id": "7db686d5",
   "metadata": {},
   "outputs": [],
   "source": [
    "X = covid[[‘Date_reported’, ‘Cumulative_deaths’]]\n",
    "y = covid[‘New_cases’]\n",
    "X[‘Date_reported’] = pd.to_datetime(X[‘Date’], format=’%d-%m-%y’)"
   ]
  },
  {
   "cell_type": "code",
   "execution_count": null,
   "id": "abcf436c",
   "metadata": {},
   "outputs": [],
   "source": []
  }
 ],
 "metadata": {
  "kernelspec": {
   "display_name": "Python 3",
   "language": "python",
   "name": "python3"
  },
  "language_info": {
   "codemirror_mode": {
    "name": "ipython",
    "version": 3
   },
   "file_extension": ".py",
   "mimetype": "text/x-python",
   "name": "python",
   "nbconvert_exporter": "python",
   "pygments_lexer": "ipython3",
   "version": "3.8.8"
  }
 },
 "nbformat": 4,
 "nbformat_minor": 5
}
