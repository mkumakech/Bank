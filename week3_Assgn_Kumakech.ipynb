{
 "cells": [
  {
   "cell_type": "markdown",
   "metadata": {},
   "source": [
    "<H1>  Michael  Kumakech Jupyter Notebook on IBM Data Science Experience</H1>"
   ]
  },
  {
   "cell_type": "markdown",
   "metadata": {},
   "source": [
    "<Strong> Michael Kumakech</Strong>\n",
    "<br> Cisco System Instructor - Makerere University"
   ]
  },
  {
   "cell_type": "markdown",
   "metadata": {},
   "source": [
    "<I> I am interested in data science because I need the knowledge, approaches and methodology which may help me  work on my PhD thesis faster and also get to use the collaboration platform of IBM. </I>"
   ]
  },
  {
   "cell_type": "markdown",
   "metadata": {},
   "source": [
    "<H3> # This code will compute the sequare of Five </H3>"
   ]
  },
  {
   "cell_type": "code",
   "execution_count": 1,
   "metadata": {
    "collapsed": false
   },
   "outputs": [
    {
     "data": {
      "text/plain": [
       "25"
      ]
     },
     "execution_count": 1,
     "metadata": {},
     "output_type": "execute_result"
    }
   ],
   "source": [
    "5**2\n"
   ]
  },
  {
   "cell_type": "markdown",
   "metadata": {},
   "source": [
    "At my undergraduate I majored in Computer Science and miniored in Mathematics. Thus, I like the following:\n",
    "<hr>\n",
    "<ul style=\"list-style-type:circle;\">\n",
    "<li> Algorithms Development </li><li> Machine Learning</li> <li> Statistics</li> <li> Networking and</li> <li> Problem Solving activity </li>\n",
    "    <hr>\n",
    "    Thus, I completed my <mark> MSC in Data Communication and Software Engineering </mark> and now working on proposal for online <mark> PhD in Data Science </mark> under <strike> Coursera </strike> <a href = \"https://www.coursera.org\"> as soon as possible.\n",
    "    "
   ]
  },
  {
   "cell_type": "code",
   "execution_count": null,
   "metadata": {
    "collapsed": true
   },
   "outputs": [],
   "source": []
  }
 ],
 "metadata": {
  "kernelspec": {
   "display_name": "Python 3",
   "language": "python",
   "name": "python3"
  },
  "language_info": {
   "codemirror_mode": {
    "name": "ipython",
    "version": 3
   },
   "file_extension": ".py",
   "mimetype": "text/x-python",
   "name": "python",
   "nbconvert_exporter": "python",
   "pygments_lexer": "ipython3",
   "version": "3.5.2"
  },
  "widgets": {
   "state": {},
   "version": "1.1.2"
  }
 },
 "nbformat": 4,
 "nbformat_minor": 4
}
