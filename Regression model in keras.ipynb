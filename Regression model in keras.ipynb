{
 "cells": [
  {
   "cell_type": "code",
   "execution_count": 1,
   "id": "831a3a33",
   "metadata": {},
   "outputs": [
    {
     "name": "stderr",
     "output_type": "stream",
     "text": [
      "Using TensorFlow backend.\n",
      "/home/jupyterlab/conda/envs/python/lib/python3.7/site-packages/tensorflow/python/framework/dtypes.py:516: FutureWarning: Passing (type, 1) or '1type' as a synonym of type is deprecated; in a future version of numpy, it will be understood as (type, (1,)) / '(1,)type'.\n",
      "  _np_qint8 = np.dtype([(\"qint8\", np.int8, 1)])\n",
      "/home/jupyterlab/conda/envs/python/lib/python3.7/site-packages/tensorflow/python/framework/dtypes.py:517: FutureWarning: Passing (type, 1) or '1type' as a synonym of type is deprecated; in a future version of numpy, it will be understood as (type, (1,)) / '(1,)type'.\n",
      "  _np_quint8 = np.dtype([(\"quint8\", np.uint8, 1)])\n",
      "/home/jupyterlab/conda/envs/python/lib/python3.7/site-packages/tensorflow/python/framework/dtypes.py:518: FutureWarning: Passing (type, 1) or '1type' as a synonym of type is deprecated; in a future version of numpy, it will be understood as (type, (1,)) / '(1,)type'.\n",
      "  _np_qint16 = np.dtype([(\"qint16\", np.int16, 1)])\n",
      "/home/jupyterlab/conda/envs/python/lib/python3.7/site-packages/tensorflow/python/framework/dtypes.py:519: FutureWarning: Passing (type, 1) or '1type' as a synonym of type is deprecated; in a future version of numpy, it will be understood as (type, (1,)) / '(1,)type'.\n",
      "  _np_quint16 = np.dtype([(\"quint16\", np.uint16, 1)])\n",
      "/home/jupyterlab/conda/envs/python/lib/python3.7/site-packages/tensorflow/python/framework/dtypes.py:520: FutureWarning: Passing (type, 1) or '1type' as a synonym of type is deprecated; in a future version of numpy, it will be understood as (type, (1,)) / '(1,)type'.\n",
      "  _np_qint32 = np.dtype([(\"qint32\", np.int32, 1)])\n",
      "/home/jupyterlab/conda/envs/python/lib/python3.7/site-packages/tensorflow/python/framework/dtypes.py:525: FutureWarning: Passing (type, 1) or '1type' as a synonym of type is deprecated; in a future version of numpy, it will be understood as (type, (1,)) / '(1,)type'.\n",
      "  np_resource = np.dtype([(\"resource\", np.ubyte, 1)])\n",
      "/home/jupyterlab/conda/envs/python/lib/python3.7/site-packages/tensorboard/compat/tensorflow_stub/dtypes.py:541: FutureWarning: Passing (type, 1) or '1type' as a synonym of type is deprecated; in a future version of numpy, it will be understood as (type, (1,)) / '(1,)type'.\n",
      "  _np_qint8 = np.dtype([(\"qint8\", np.int8, 1)])\n",
      "/home/jupyterlab/conda/envs/python/lib/python3.7/site-packages/tensorboard/compat/tensorflow_stub/dtypes.py:542: FutureWarning: Passing (type, 1) or '1type' as a synonym of type is deprecated; in a future version of numpy, it will be understood as (type, (1,)) / '(1,)type'.\n",
      "  _np_quint8 = np.dtype([(\"quint8\", np.uint8, 1)])\n",
      "/home/jupyterlab/conda/envs/python/lib/python3.7/site-packages/tensorboard/compat/tensorflow_stub/dtypes.py:543: FutureWarning: Passing (type, 1) or '1type' as a synonym of type is deprecated; in a future version of numpy, it will be understood as (type, (1,)) / '(1,)type'.\n",
      "  _np_qint16 = np.dtype([(\"qint16\", np.int16, 1)])\n",
      "/home/jupyterlab/conda/envs/python/lib/python3.7/site-packages/tensorboard/compat/tensorflow_stub/dtypes.py:544: FutureWarning: Passing (type, 1) or '1type' as a synonym of type is deprecated; in a future version of numpy, it will be understood as (type, (1,)) / '(1,)type'.\n",
      "  _np_quint16 = np.dtype([(\"quint16\", np.uint16, 1)])\n",
      "/home/jupyterlab/conda/envs/python/lib/python3.7/site-packages/tensorboard/compat/tensorflow_stub/dtypes.py:545: FutureWarning: Passing (type, 1) or '1type' as a synonym of type is deprecated; in a future version of numpy, it will be understood as (type, (1,)) / '(1,)type'.\n",
      "  _np_qint32 = np.dtype([(\"qint32\", np.int32, 1)])\n",
      "/home/jupyterlab/conda/envs/python/lib/python3.7/site-packages/tensorboard/compat/tensorflow_stub/dtypes.py:550: FutureWarning: Passing (type, 1) or '1type' as a synonym of type is deprecated; in a future version of numpy, it will be understood as (type, (1,)) / '(1,)type'.\n",
      "  np_resource = np.dtype([(\"resource\", np.ubyte, 1)])\n",
      "/home/jupyterlab/conda/envs/python/lib/python3.7/site-packages/sklearn/utils/validation.py:37: DeprecationWarning: distutils Version classes are deprecated. Use packaging.version instead.\n",
      "  LARGE_SPARSE_SUPPORTED = LooseVersion(scipy_version) >= '0.14.0'\n"
     ]
    }
   ],
   "source": [
    "import numpy as np\n",
    "import pandas as pd\n",
    "from keras.models import Sequential\n",
    "from keras.layers import Dense\n",
    "from sklearn.model_selection import train_test_split\n",
    "from sklearn.metrics import mean_squared_error"
   ]
  },
  {
   "cell_type": "code",
   "execution_count": 3,
   "id": "936920b4",
   "metadata": {},
   "outputs": [
    {
     "data": {
      "text/html": [
       "<div>\n",
       "<style scoped>\n",
       "    .dataframe tbody tr th:only-of-type {\n",
       "        vertical-align: middle;\n",
       "    }\n",
       "\n",
       "    .dataframe tbody tr th {\n",
       "        vertical-align: top;\n",
       "    }\n",
       "\n",
       "    .dataframe thead th {\n",
       "        text-align: right;\n",
       "    }\n",
       "</style>\n",
       "<table border=\"1\" class=\"dataframe\">\n",
       "  <thead>\n",
       "    <tr style=\"text-align: right;\">\n",
       "      <th></th>\n",
       "      <th>Cement</th>\n",
       "      <th>Blast Furnace Slag</th>\n",
       "      <th>Fly Ash</th>\n",
       "      <th>Water</th>\n",
       "      <th>Superplasticizer</th>\n",
       "      <th>Coarse Aggregate</th>\n",
       "      <th>Fine Aggregate</th>\n",
       "      <th>Age</th>\n",
       "      <th>Strength</th>\n",
       "    </tr>\n",
       "  </thead>\n",
       "  <tbody>\n",
       "    <tr>\n",
       "      <th>0</th>\n",
       "      <td>540.0</td>\n",
       "      <td>0.0</td>\n",
       "      <td>0.0</td>\n",
       "      <td>162.0</td>\n",
       "      <td>2.5</td>\n",
       "      <td>1040.0</td>\n",
       "      <td>676.0</td>\n",
       "      <td>28</td>\n",
       "      <td>79.99</td>\n",
       "    </tr>\n",
       "    <tr>\n",
       "      <th>1</th>\n",
       "      <td>540.0</td>\n",
       "      <td>0.0</td>\n",
       "      <td>0.0</td>\n",
       "      <td>162.0</td>\n",
       "      <td>2.5</td>\n",
       "      <td>1055.0</td>\n",
       "      <td>676.0</td>\n",
       "      <td>28</td>\n",
       "      <td>61.89</td>\n",
       "    </tr>\n",
       "    <tr>\n",
       "      <th>2</th>\n",
       "      <td>332.5</td>\n",
       "      <td>142.5</td>\n",
       "      <td>0.0</td>\n",
       "      <td>228.0</td>\n",
       "      <td>0.0</td>\n",
       "      <td>932.0</td>\n",
       "      <td>594.0</td>\n",
       "      <td>270</td>\n",
       "      <td>40.27</td>\n",
       "    </tr>\n",
       "    <tr>\n",
       "      <th>3</th>\n",
       "      <td>332.5</td>\n",
       "      <td>142.5</td>\n",
       "      <td>0.0</td>\n",
       "      <td>228.0</td>\n",
       "      <td>0.0</td>\n",
       "      <td>932.0</td>\n",
       "      <td>594.0</td>\n",
       "      <td>365</td>\n",
       "      <td>41.05</td>\n",
       "    </tr>\n",
       "    <tr>\n",
       "      <th>4</th>\n",
       "      <td>198.6</td>\n",
       "      <td>132.4</td>\n",
       "      <td>0.0</td>\n",
       "      <td>192.0</td>\n",
       "      <td>0.0</td>\n",
       "      <td>978.4</td>\n",
       "      <td>825.5</td>\n",
       "      <td>360</td>\n",
       "      <td>44.30</td>\n",
       "    </tr>\n",
       "  </tbody>\n",
       "</table>\n",
       "</div>"
      ],
      "text/plain": [
       "   Cement  Blast Furnace Slag  Fly Ash  Water  Superplasticizer  \\\n",
       "0   540.0                 0.0      0.0  162.0               2.5   \n",
       "1   540.0                 0.0      0.0  162.0               2.5   \n",
       "2   332.5               142.5      0.0  228.0               0.0   \n",
       "3   332.5               142.5      0.0  228.0               0.0   \n",
       "4   198.6               132.4      0.0  192.0               0.0   \n",
       "\n",
       "   Coarse Aggregate  Fine Aggregate  Age  Strength  \n",
       "0            1040.0           676.0   28     79.99  \n",
       "1            1055.0           676.0   28     61.89  \n",
       "2             932.0           594.0  270     40.27  \n",
       "3             932.0           594.0  365     41.05  \n",
       "4             978.4           825.5  360     44.30  "
      ]
     },
     "execution_count": 3,
     "metadata": {},
     "output_type": "execute_result"
    }
   ],
   "source": [
    "concrete_dataset = pd.read_csv('https://cocl.us/concrete_data')\n",
    "concrete_dataset.head()"
   ]
  },
  {
   "cell_type": "code",
   "execution_count": 4,
   "id": "3c4c456e-c115-4ba1-9dfe-5eebe1846e90",
   "metadata": {},
   "outputs": [],
   "source": [
    "concrete_data_columns = concrete_dataset.columns\n",
    "\n",
    "predictors = concrete_dataset[concrete_data_columns[concrete_data_columns != 'Strength']] # all columns except Strength\n",
    "target = concrete_dataset['Strength'] # Strength column"
   ]
  },
  {
   "cell_type": "code",
   "execution_count": 5,
   "id": "0dc7f15a-2593-4424-8538-a2b89741e6c9",
   "metadata": {},
   "outputs": [
    {
     "data": {
      "text/plain": [
       "8"
      ]
     },
     "execution_count": 5,
     "metadata": {},
     "output_type": "execute_result"
    }
   ],
   "source": [
    "n_cols = predictors.shape[1] # number of predictors\n",
    "n_cols"
   ]
  },
  {
   "cell_type": "code",
   "execution_count": 6,
   "id": "cbb9024a-cfe1-4bbc-a4ad-d1a0a28cca3f",
   "metadata": {},
   "outputs": [],
   "source": [
    "def regression_model():\n",
    "    # create model\n",
    "    model = Sequential()\n",
    "    model.add(Dense(10, activation='relu', input_shape=(n_cols,)))\n",
    "    model.add(Dense(1))\n",
    "    \n",
    "    # compile model\n",
    "    model.compile(optimizer='adam', loss='mean_squared_error')\n",
    "    return model"
   ]
  },
  {
   "cell_type": "code",
   "execution_count": 7,
   "id": "41fd66a2-7d2e-49a8-93e8-c9aa23705f3f",
   "metadata": {},
   "outputs": [],
   "source": [
    "X_train, X_test, y_train, y_test = train_test_split(predictors, target, test_size=0.3, random_state=42)"
   ]
  },
  {
   "cell_type": "code",
   "execution_count": 8,
   "id": "9b0af223-f3ae-4130-833c-060fdd1301c9",
   "metadata": {},
   "outputs": [
    {
     "name": "stdout",
     "output_type": "stream",
     "text": [
      "WARNING:tensorflow:From /home/jupyterlab/conda/envs/python/lib/python3.7/site-packages/keras/backend/tensorflow_backend.py:68: The name tf.get_default_graph is deprecated. Please use tf.compat.v1.get_default_graph instead.\n",
      "\n",
      "WARNING:tensorflow:From /home/jupyterlab/conda/envs/python/lib/python3.7/site-packages/keras/backend/tensorflow_backend.py:508: The name tf.placeholder is deprecated. Please use tf.compat.v1.placeholder instead.\n",
      "\n",
      "WARNING:tensorflow:From /home/jupyterlab/conda/envs/python/lib/python3.7/site-packages/keras/backend/tensorflow_backend.py:3837: The name tf.random_uniform is deprecated. Please use tf.random.uniform instead.\n",
      "\n",
      "WARNING:tensorflow:From /home/jupyterlab/conda/envs/python/lib/python3.7/site-packages/keras/optimizers.py:757: The name tf.train.Optimizer is deprecated. Please use tf.compat.v1.train.Optimizer instead.\n",
      "\n"
     ]
    }
   ],
   "source": [
    "model = regression_model()"
   ]
  },
  {
   "cell_type": "code",
   "execution_count": 9,
   "id": "7f727269-84ec-4b0d-aa4f-e6a6d18bc76e",
   "metadata": {},
   "outputs": [
    {
     "name": "stdout",
     "output_type": "stream",
     "text": [
      "WARNING:tensorflow:From /home/jupyterlab/conda/envs/python/lib/python3.7/site-packages/keras/backend/tensorflow_backend.py:977: The name tf.assign_add is deprecated. Please use tf.compat.v1.assign_add instead.\n",
      "\n",
      "WARNING:tensorflow:From /home/jupyterlab/conda/envs/python/lib/python3.7/site-packages/keras/backend/tensorflow_backend.py:964: The name tf.assign is deprecated. Please use tf.compat.v1.assign instead.\n",
      "\n",
      "Epoch 1/50\n",
      " 32/721 [>.............................] - ETA: 4s - loss: 2753.9561"
     ]
    },
    {
     "name": "stderr",
     "output_type": "stream",
     "text": [
      "2022-03-19 07:31:12.593868: I tensorflow/core/platform/cpu_feature_guard.cc:142] Your CPU supports instructions that this TensorFlow binary was not compiled to use: SSE4.1 SSE4.2 AVX AVX2 AVX512F FMA\n",
      "2022-03-19 07:31:12.598543: I tensorflow/core/platform/profile_utils/cpu_utils.cc:94] CPU Frequency: 2394305000 Hz\n",
      "2022-03-19 07:31:12.598982: I tensorflow/compiler/xla/service/service.cc:168] XLA service 0x559a6eec2280 executing computations on platform Host. Devices:\n",
      "2022-03-19 07:31:12.599013: I tensorflow/compiler/xla/service/service.cc:175]   StreamExecutor device (0): <undefined>, <undefined>\n",
      "2022-03-19 07:31:12.687773: W tensorflow/compiler/jit/mark_for_compilation_pass.cc:1412] (One-time warning): Not using XLA:CPU for cluster because envvar TF_XLA_FLAGS=--tf_xla_cpu_global_jit was not set.  If you want XLA:CPU, either set that envvar, or use experimental_jit_scope to enable XLA:CPU.  To confirm that XLA is active, pass --vmodule=xla_compilation_cache=1 (as a proper command-line flag, not via TF_XLA_FLAGS) or set the envvar XLA_FLAGS=--xla_hlo_profile.\n"
     ]
    },
    {
     "name": "stdout",
     "output_type": "stream",
     "text": [
      "721/721 [==============================] - 0s 347us/step - loss: 2852.1900\n",
      "Epoch 2/50\n",
      "721/721 [==============================] - 0s 85us/step - loss: 1971.2988\n",
      "Epoch 3/50\n",
      "721/721 [==============================] - 0s 82us/step - loss: 1386.4578\n",
      "Epoch 4/50\n",
      "721/721 [==============================] - 0s 81us/step - loss: 997.6117\n",
      "Epoch 5/50\n",
      "721/721 [==============================] - 0s 78us/step - loss: 773.2185\n",
      "Epoch 6/50\n",
      "721/721 [==============================] - 0s 62us/step - loss: 663.6769\n",
      "Epoch 7/50\n",
      "721/721 [==============================] - 0s 53us/step - loss: 553.5964\n",
      "Epoch 8/50\n",
      "721/721 [==============================] - 0s 56us/step - loss: 480.9870\n",
      "Epoch 9/50\n",
      "721/721 [==============================] - 0s 53us/step - loss: 423.8152\n",
      "Epoch 10/50\n",
      "721/721 [==============================] - 0s 51us/step - loss: 379.9123\n",
      "Epoch 11/50\n",
      "721/721 [==============================] - 0s 53us/step - loss: 346.9958\n",
      "Epoch 12/50\n",
      "721/721 [==============================] - 0s 52us/step - loss: 315.1853\n",
      "Epoch 13/50\n",
      "721/721 [==============================] - 0s 41us/step - loss: 292.7280\n",
      "Epoch 14/50\n",
      "721/721 [==============================] - 0s 50us/step - loss: 273.4564\n",
      "Epoch 15/50\n",
      "721/721 [==============================] - 0s 50us/step - loss: 250.4843\n",
      "Epoch 16/50\n",
      "721/721 [==============================] - 0s 52us/step - loss: 234.4347\n",
      "Epoch 17/50\n",
      "721/721 [==============================] - 0s 51us/step - loss: 223.2206\n",
      "Epoch 18/50\n",
      "721/721 [==============================] - 0s 39us/step - loss: 210.5290\n",
      "Epoch 19/50\n",
      "721/721 [==============================] - 0s 48us/step - loss: 201.3166\n",
      "Epoch 20/50\n",
      "721/721 [==============================] - 0s 48us/step - loss: 191.6263\n",
      "Epoch 21/50\n",
      "721/721 [==============================] - 0s 41us/step - loss: 183.4167\n",
      "Epoch 22/50\n",
      "721/721 [==============================] - 0s 48us/step - loss: 175.4352\n",
      "Epoch 23/50\n",
      "721/721 [==============================] - 0s 50us/step - loss: 168.1234\n",
      "Epoch 24/50\n",
      "721/721 [==============================] - 0s 41us/step - loss: 159.8389\n",
      "Epoch 25/50\n",
      "721/721 [==============================] - 0s 47us/step - loss: 160.0663\n",
      "Epoch 26/50\n",
      "721/721 [==============================] - 0s 49us/step - loss: 150.6051\n",
      "Epoch 27/50\n",
      "721/721 [==============================] - 0s 38us/step - loss: 146.1335\n",
      "Epoch 28/50\n",
      "721/721 [==============================] - 0s 47us/step - loss: 141.4545\n",
      "Epoch 29/50\n",
      "721/721 [==============================] - 0s 51us/step - loss: 138.0806\n",
      "Epoch 30/50\n",
      "721/721 [==============================] - 0s 43us/step - loss: 134.8352\n",
      "Epoch 31/50\n",
      "721/721 [==============================] - 0s 41us/step - loss: 132.8472\n",
      "Epoch 32/50\n",
      "721/721 [==============================] - 0s 51us/step - loss: 130.2098\n",
      "Epoch 33/50\n",
      "721/721 [==============================] - 0s 48us/step - loss: 126.9011\n",
      "Epoch 34/50\n",
      "721/721 [==============================] - 0s 52us/step - loss: 125.7618\n",
      "Epoch 35/50\n",
      "721/721 [==============================] - 0s 39us/step - loss: 124.3447\n",
      "Epoch 36/50\n",
      "721/721 [==============================] - 0s 49us/step - loss: 123.0757\n",
      "Epoch 37/50\n",
      "721/721 [==============================] - 0s 48us/step - loss: 121.5449\n",
      "Epoch 38/50\n",
      "721/721 [==============================] - 0s 39us/step - loss: 122.3412\n",
      "Epoch 39/50\n",
      "721/721 [==============================] - 0s 47us/step - loss: 118.2807\n",
      "Epoch 40/50\n",
      "721/721 [==============================] - 0s 50us/step - loss: 122.0070\n",
      "Epoch 41/50\n",
      "721/721 [==============================] - 0s 37us/step - loss: 118.3906\n",
      "Epoch 42/50\n",
      "721/721 [==============================] - 0s 46us/step - loss: 116.2899\n",
      "Epoch 43/50\n",
      "721/721 [==============================] - 0s 39us/step - loss: 116.0562\n",
      "Epoch 44/50\n",
      "721/721 [==============================] - 0s 38us/step - loss: 114.5740\n",
      "Epoch 45/50\n",
      "721/721 [==============================] - 0s 50us/step - loss: 115.4104\n",
      "Epoch 46/50\n",
      "721/721 [==============================] - 0s 52us/step - loss: 114.6155\n",
      "Epoch 47/50\n",
      "721/721 [==============================] - 0s 38us/step - loss: 114.7378\n",
      "Epoch 48/50\n",
      "721/721 [==============================] - 0s 49us/step - loss: 119.1025\n",
      "Epoch 49/50\n",
      "721/721 [==============================] - 0s 49us/step - loss: 115.1361\n",
      "Epoch 50/50\n",
      "721/721 [==============================] - 0s 37us/step - loss: 113.9328\n"
     ]
    },
    {
     "data": {
      "text/plain": [
       "<keras.callbacks.History at 0x7fc3ff298a90>"
      ]
     },
     "execution_count": 9,
     "metadata": {},
     "output_type": "execute_result"
    }
   ],
   "source": [
    "epochs = 50\n",
    "model.fit(X_train, y_train, epochs=epochs, verbose=1)"
   ]
  },
  {
   "cell_type": "code",
   "execution_count": 10,
   "id": "2fb9ffb3-0e42-4c06-9896-2d4591a357fd",
   "metadata": {},
   "outputs": [
    {
     "name": "stdout",
     "output_type": "stream",
     "text": [
      "_________________________________________________________________\n",
      "Layer (type)                 Output Shape              Param #   \n",
      "=================================================================\n",
      "dense_1 (Dense)              (None, 10)                90        \n",
      "_________________________________________________________________\n",
      "dense_2 (Dense)              (None, 1)                 11        \n",
      "=================================================================\n",
      "Total params: 101\n",
      "Trainable params: 101\n",
      "Non-trainable params: 0\n",
      "_________________________________________________________________\n"
     ]
    }
   ],
   "source": [
    "model.summary()"
   ]
  },
  {
   "cell_type": "code",
   "execution_count": 11,
   "id": "1e9c601a-6275-46a1-b242-021db175f260",
   "metadata": {},
   "outputs": [
    {
     "name": "stdout",
     "output_type": "stream",
     "text": [
      "309/309 [==============================] - 0s 66us/step\n"
     ]
    },
    {
     "data": {
      "text/plain": [
       "107.80150982014185"
      ]
     },
     "execution_count": 11,
     "metadata": {},
     "output_type": "execute_result"
    }
   ],
   "source": [
    "loss_val = model.evaluate(X_test, y_test)\n",
    "y_pred = model.predict(X_test)\n",
    "loss_val"
   ]
  },
  {
   "cell_type": "code",
   "execution_count": 12,
   "id": "bc607e28-d7b5-42cb-af0c-d00c9b5e8e18",
   "metadata": {},
   "outputs": [
    {
     "name": "stdout",
     "output_type": "stream",
     "text": [
      "107.8015088458154 0.0\n"
     ]
    }
   ],
   "source": [
    "mean_square_error = mean_squared_error(y_test, y_pred)\n",
    "mean = np.mean(mean_square_error)\n",
    "standard_deviation = np.std(mean_square_error)\n",
    "print(mean, standard_deviation)"
   ]
  },
  {
   "cell_type": "code",
   "execution_count": 13,
   "id": "325bc499-279c-469c-a356-a0a12b02a33a",
   "metadata": {},
   "outputs": [
    {
     "name": "stdout",
     "output_type": "stream",
     "text": [
      "Mean Sqr Err 1: 92.12096405029297\n",
      "Mean Sqr Err 2: 119.29151726386308\n",
      "Mean Sqr Err 3: 109.16357397184403\n",
      "Mean Sqr Err 4: 125.98004463961209\n",
      "Mean Sqr Err 5: 120.35100192468143\n",
      "Mean Sqr Err 6: 107.69350616060028\n",
      "Mean Sqr Err 7: 135.7746758815926\n",
      "Mean Sqr Err 8: 100.44401619426641\n",
      "Mean Sqr Err 9: 119.74642909769102\n",
      "Mean Sqr Err 10: 110.22977464793183\n",
      "Mean Sqr Err 11: 102.88693469396301\n",
      "Mean Sqr Err 12: 102.23658152459895\n",
      "Mean Sqr Err 13: 114.62916367416629\n",
      "Mean Sqr Err 14: 117.28134451560604\n",
      "Mean Sqr Err 15: 110.31126193938518\n",
      "Mean Sqr Err 16: 105.31982384839104\n",
      "Mean Sqr Err 17: 102.95316423335893\n",
      "Mean Sqr Err 18: 97.41286154935275\n",
      "Mean Sqr Err 19: 95.6267256011469\n",
      "Mean Sqr Err 20: 112.92915255352132\n",
      "Mean Sqr Err 21: 98.91869830776572\n",
      "Mean Sqr Err 22: 101.86003330070224\n",
      "Mean Sqr Err 23: 108.19968841453972\n",
      "Mean Sqr Err 24: 102.54998599055516\n",
      "Mean Sqr Err 25: 107.22793714899846\n",
      "Mean Sqr Err 26: 98.96794103727372\n",
      "Mean Sqr Err 27: 106.53775725627023\n",
      "Mean Sqr Err 28: 79.22167393459085\n",
      "Mean Sqr Err 29: 63.05068952443145\n",
      "Mean Sqr Err 30: 52.81625267448549\n",
      "Mean Sqr Err 31: 50.0489554544097\n",
      "Mean Sqr Err 32: 41.58061796021693\n",
      "Mean Sqr Err 33: 47.718110587604606\n",
      "Mean Sqr Err 34: 48.58575869069516\n",
      "Mean Sqr Err 35: 47.33926431106518\n",
      "Mean Sqr Err 36: 53.73952943375967\n",
      "Mean Sqr Err 37: 56.37219450620386\n",
      "Mean Sqr Err 38: 50.61825867686843\n",
      "Mean Sqr Err 39: 44.89813687963393\n",
      "Mean Sqr Err 40: 41.990741198888486\n",
      "Mean Sqr Err 41: 50.90243469781474\n",
      "Mean Sqr Err 42: 48.36935737140742\n",
      "Mean Sqr Err 43: 46.206651138256284\n",
      "Mean Sqr Err 44: 51.775885770236016\n",
      "Mean Sqr Err 45: 50.949363165302955\n",
      "Mean Sqr Err 46: 52.231589456206386\n",
      "Mean Sqr Err 47: 48.55156789242643\n",
      "Mean Sqr Err 48: 48.486405702856366\n",
      "Mean Sqr Err 49: 49.053534936750594\n",
      "Mean Sqr Err 50: 48.899481578938016\n",
      "\n",
      "\n",
      "Below is the mean and std dev 50 mean squared errors without normalized data. Total number of epochs for each training is: 50\n",
      "\n",
      "Mean: 82.00101917025029\n",
      "Standard Deviation: 29.911510681469135\n"
     ]
    }
   ],
   "source": [
    "total_mean_squared_errors = 50\n",
    "epochs = 50\n",
    "mean_squared_errors = []\n",
    "for i in range(0, total_mean_squared_errors):\n",
    "    X_train, X_test, y_train, y_test = train_test_split(predictors, target, test_size=0.3, random_state=i)\n",
    "    model.fit(X_train, y_train, epochs=epochs, verbose=0)\n",
    "    MSE = model.evaluate(X_test, y_test, verbose=0)\n",
    "    print(\"Mean Sqr Err \"+str(i+1)+\": \"+str(MSE))\n",
    "    y_pred = model.predict(X_test)\n",
    "    mean_square_error = mean_squared_error(y_test, y_pred)\n",
    "    mean_squared_errors.append(mean_square_error)\n",
    "\n",
    "mean_squared_errors = np.array(mean_squared_errors)\n",
    "mean = np.mean(mean_squared_errors)\n",
    "standard_deviation = np.std(mean_squared_errors)\n",
    "\n",
    "print('\\n')\n",
    "print(\"Below is the mean and std dev \" +str(total_mean_squared_errors) + \" mean squared errors without normalized data. Total number of epochs for each training is: \" +str(epochs) + \"\\n\")\n",
    "print(\"Mean: \"+str(mean))\n",
    "print(\"Standard Deviation: \"+str(standard_deviation))"
   ]
  },
  {
   "cell_type": "code",
   "execution_count": null,
   "id": "8c32966c-c38b-419f-b84c-4c1a0f9579c7",
   "metadata": {},
   "outputs": [],
   "source": []
  }
 ],
 "metadata": {
  "kernelspec": {
   "display_name": "Python",
   "language": "python",
   "name": "conda-env-python-py"
  },
  "language_info": {
   "codemirror_mode": {
    "name": "ipython",
    "version": 3
   },
   "file_extension": ".py",
   "mimetype": "text/x-python",
   "name": "python",
   "nbconvert_exporter": "python",
   "pygments_lexer": "ipython3",
   "version": "3.7.12"
  }
 },
 "nbformat": 4,
 "nbformat_minor": 5
}
