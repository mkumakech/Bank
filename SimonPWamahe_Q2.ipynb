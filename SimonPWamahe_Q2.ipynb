{
  "metadata": {
    "orig_nbformat": 4,
    "language_info": {
      "name": "python",
      "version": "3.7.8",
      "mimetype": "text/x-python",
      "codemirror_mode": {
        "name": "ipython",
        "version": 3
      },
      "pygments_lexer": "ipython3",
      "nbconvert_exporter": "python",
      "file_extension": ".py"
    },
    "kernelspec": {
      "name": "python3",
      "display_name": "Python 3",
      "language": "python"
    },
    "colab": {
      "name": "SimonPWamahe-Q2.ipynb",
      "provenance": []
    }
  },
  "nbformat_minor": 5,
  "nbformat": 4,
  "cells": [
    {
      "cell_type": "markdown",
      "source": [
        "<h2>Question Tree: Use Decision Trees Classifier to model the data set classifying and evaluation of classes of iris</h2>"
      ],
      "metadata": {
        "id": "777a4324-b3a3-478a-a61b-0cb6e0309ebe"
      },
      "id": "777a4324-b3a3-478a-a61b-0cb6e0309ebe"
    },
    {
      "cell_type": "markdown",
      "source": [
        "<b>By: Simon Peter Wamahe</b>"
      ],
      "metadata": {
        "id": "bee8265c-387c-45ab-a7fd-2e280ef9fe21"
      },
      "id": "bee8265c-387c-45ab-a7fd-2e280ef9fe21"
    },
    {
      "cell_type": "markdown",
      "source": [
        "<b>SEP21/COMP/703U</b>"
      ],
      "metadata": {
        "id": "b666b0df-bef5-4c2e-923b-b38d8fb658fd"
      },
      "id": "b666b0df-bef5-4c2e-923b-b38d8fb658fd"
    },
    {
      "cell_type": "code",
      "source": [
        "#Import main libraries to be used\n",
        "import numpy as np\n",
        "import pandas as pd\n",
        "from sklearn.tree import DecisionTreeClassifier"
      ],
      "metadata": {
        "trusted": true,
        "id": "d57fd662-39b4-46df-8d65-24397ed90ae1"
      },
      "execution_count": 3,
      "outputs": [],
      "id": "d57fd662-39b4-46df-8d65-24397ed90ae1"
    },
    {
      "cell_type": "markdown",
      "source": [
        "Downloading the dataset"
      ],
      "metadata": {
        "id": "94fab1e6-3734-463e-a825-006557b773c6"
      },
      "id": "94fab1e6-3734-463e-a825-006557b773c6"
    },
    {
      "cell_type": "code",
      "source": [
        "!wget -O iris.csv https://raw.githubusercontent.com/mkumakech/students/main/iris.csv"
      ],
      "metadata": {
        "trusted": true,
        "colab": {
          "base_uri": "https://localhost:8080/"
        },
        "id": "f0146bd6-63a7-4a4b-91c5-95f56916a98b",
        "outputId": "98d0d784-f939-46d0-a93e-9ba649723c9e"
      },
      "execution_count": 4,
      "outputs": [
        {
          "output_type": "stream",
          "name": "stdout",
          "text": [
            "--2021-12-09 18:34:49--  https://raw.githubusercontent.com/mkumakech/students/main/iris.csv\n",
            "Resolving raw.githubusercontent.com (raw.githubusercontent.com)... 185.199.111.133, 185.199.108.133, 185.199.110.133, ...\n",
            "Connecting to raw.githubusercontent.com (raw.githubusercontent.com)|185.199.111.133|:443... connected.\n",
            "HTTP request sent, awaiting response... 200 OK\n",
            "Length: 2597 (2.5K) [text/plain]\n",
            "Saving to: ‘iris.csv’\n",
            "\n",
            "\riris.csv              0%[                    ]       0  --.-KB/s               \riris.csv            100%[===================>]   2.54K  --.-KB/s    in 0s      \n",
            "\n",
            "2021-12-09 18:34:49 (28.5 MB/s) - ‘iris.csv’ saved [2597/2597]\n",
            "\n"
          ]
        }
      ],
      "id": "f0146bd6-63a7-4a4b-91c5-95f56916a98b"
    },
    {
      "cell_type": "code",
      "source": [
        "df = pd.read_csv('iris.csv')\n",
        "df.head()"
      ],
      "metadata": {
        "trusted": true,
        "colab": {
          "base_uri": "https://localhost:8080/",
          "height": 206
        },
        "id": "d9ca25c7-8d75-43d9-a0e9-b419587660df",
        "outputId": "eacac9bd-c506-4813-8443-94411ebc5b27"
      },
      "execution_count": 5,
      "outputs": [
        {
          "output_type": "execute_result",
          "data": {
            "text/html": [
              "<div>\n",
              "<style scoped>\n",
              "    .dataframe tbody tr th:only-of-type {\n",
              "        vertical-align: middle;\n",
              "    }\n",
              "\n",
              "    .dataframe tbody tr th {\n",
              "        vertical-align: top;\n",
              "    }\n",
              "\n",
              "    .dataframe thead th {\n",
              "        text-align: right;\n",
              "    }\n",
              "</style>\n",
              "<table border=\"1\" class=\"dataframe\">\n",
              "  <thead>\n",
              "    <tr style=\"text-align: right;\">\n",
              "      <th></th>\n",
              "      <th>sepalLength</th>\n",
              "      <th>sepalWidth</th>\n",
              "      <th>petalLength</th>\n",
              "      <th>petalWidth</th>\n",
              "      <th>class</th>\n",
              "    </tr>\n",
              "  </thead>\n",
              "  <tbody>\n",
              "    <tr>\n",
              "      <th>0</th>\n",
              "      <td>5.1</td>\n",
              "      <td>3.5</td>\n",
              "      <td>1.4</td>\n",
              "      <td>0.2</td>\n",
              "      <td>setosa</td>\n",
              "    </tr>\n",
              "    <tr>\n",
              "      <th>1</th>\n",
              "      <td>4.9</td>\n",
              "      <td>3.0</td>\n",
              "      <td>1.4</td>\n",
              "      <td>0.2</td>\n",
              "      <td>setosa</td>\n",
              "    </tr>\n",
              "    <tr>\n",
              "      <th>2</th>\n",
              "      <td>4.7</td>\n",
              "      <td>3.2</td>\n",
              "      <td>1.3</td>\n",
              "      <td>0.2</td>\n",
              "      <td>setosa</td>\n",
              "    </tr>\n",
              "    <tr>\n",
              "      <th>3</th>\n",
              "      <td>4.6</td>\n",
              "      <td>3.1</td>\n",
              "      <td>1.5</td>\n",
              "      <td>0.2</td>\n",
              "      <td>setosa</td>\n",
              "    </tr>\n",
              "    <tr>\n",
              "      <th>4</th>\n",
              "      <td>5.0</td>\n",
              "      <td>3.6</td>\n",
              "      <td>1.4</td>\n",
              "      <td>0.2</td>\n",
              "      <td>setosa</td>\n",
              "    </tr>\n",
              "  </tbody>\n",
              "</table>\n",
              "</div>"
            ],
            "text/plain": [
              "   sepalLength  sepalWidth  petalLength  petalWidth   class\n",
              "0          5.1         3.5          1.4         0.2  setosa\n",
              "1          4.9         3.0          1.4         0.2  setosa\n",
              "2          4.7         3.2          1.3         0.2  setosa\n",
              "3          4.6         3.1          1.5         0.2  setosa\n",
              "4          5.0         3.6          1.4         0.2  setosa"
            ]
          },
          "metadata": {},
          "execution_count": 5
        }
      ],
      "id": "d9ca25c7-8d75-43d9-a0e9-b419587660df"
    },
    {
      "cell_type": "code",
      "source": [
        "df.tail()"
      ],
      "metadata": {
        "trusted": true,
        "colab": {
          "base_uri": "https://localhost:8080/",
          "height": 206
        },
        "id": "f70db073-0ae6-4496-8427-2238c23814b2",
        "outputId": "c218a4e9-2d29-4f6b-b8f3-b0604c4db82e"
      },
      "execution_count": 6,
      "outputs": [
        {
          "output_type": "execute_result",
          "data": {
            "text/html": [
              "<div>\n",
              "<style scoped>\n",
              "    .dataframe tbody tr th:only-of-type {\n",
              "        vertical-align: middle;\n",
              "    }\n",
              "\n",
              "    .dataframe tbody tr th {\n",
              "        vertical-align: top;\n",
              "    }\n",
              "\n",
              "    .dataframe thead th {\n",
              "        text-align: right;\n",
              "    }\n",
              "</style>\n",
              "<table border=\"1\" class=\"dataframe\">\n",
              "  <thead>\n",
              "    <tr style=\"text-align: right;\">\n",
              "      <th></th>\n",
              "      <th>sepalLength</th>\n",
              "      <th>sepalWidth</th>\n",
              "      <th>petalLength</th>\n",
              "      <th>petalWidth</th>\n",
              "      <th>class</th>\n",
              "    </tr>\n",
              "  </thead>\n",
              "  <tbody>\n",
              "    <tr>\n",
              "      <th>95</th>\n",
              "      <td>7.2</td>\n",
              "      <td>3.0</td>\n",
              "      <td>5.8</td>\n",
              "      <td>1.6</td>\n",
              "      <td>virginica</td>\n",
              "    </tr>\n",
              "    <tr>\n",
              "      <th>96</th>\n",
              "      <td>7.4</td>\n",
              "      <td>2.8</td>\n",
              "      <td>6.1</td>\n",
              "      <td>1.9</td>\n",
              "      <td>virginica</td>\n",
              "    </tr>\n",
              "    <tr>\n",
              "      <th>97</th>\n",
              "      <td>7.9</td>\n",
              "      <td>3.8</td>\n",
              "      <td>6.4</td>\n",
              "      <td>2.0</td>\n",
              "      <td>virginica</td>\n",
              "    </tr>\n",
              "    <tr>\n",
              "      <th>98</th>\n",
              "      <td>6.4</td>\n",
              "      <td>2.8</td>\n",
              "      <td>5.6</td>\n",
              "      <td>2.2</td>\n",
              "      <td>virginica</td>\n",
              "    </tr>\n",
              "    <tr>\n",
              "      <th>99</th>\n",
              "      <td>6.3</td>\n",
              "      <td>2.8</td>\n",
              "      <td>5.1</td>\n",
              "      <td>1.5</td>\n",
              "      <td>virginica</td>\n",
              "    </tr>\n",
              "  </tbody>\n",
              "</table>\n",
              "</div>"
            ],
            "text/plain": [
              "    sepalLength  sepalWidth  petalLength  petalWidth      class\n",
              "95          7.2         3.0          5.8         1.6  virginica\n",
              "96          7.4         2.8          6.1         1.9  virginica\n",
              "97          7.9         3.8          6.4         2.0  virginica\n",
              "98          6.4         2.8          5.6         2.2  virginica\n",
              "99          6.3         2.8          5.1         1.5  virginica"
            ]
          },
          "metadata": {},
          "execution_count": 6
        }
      ],
      "id": "f70db073-0ae6-4496-8427-2238c23814b2"
    },
    {
      "cell_type": "markdown",
      "source": [
        "<b>a) </b>Generating the decision trees figure"
      ],
      "metadata": {
        "id": "ffe8c096-837d-4b50-9b5f-0091b55669fa"
      },
      "id": "ffe8c096-837d-4b50-9b5f-0091b55669fa"
    },
    {
      "cell_type": "code",
      "source": [
        "X = df[[\"sepalLength\", \"sepalWidth\", \"petalLength\", \"petalWidth\"]].values\n",
        "X[0:5]"
      ],
      "metadata": {
        "trusted": true,
        "colab": {
          "base_uri": "https://localhost:8080/"
        },
        "id": "027754bc-18b2-4ed9-b404-bb4259cae4ad",
        "outputId": "0ef56d85-1380-4e09-df35-0578f57e59f9"
      },
      "execution_count": 7,
      "outputs": [
        {
          "output_type": "execute_result",
          "data": {
            "text/plain": [
              "array([[5.1, 3.5, 1.4, 0.2],\n",
              "       [4.9, 3. , 1.4, 0.2],\n",
              "       [4.7, 3.2, 1.3, 0.2],\n",
              "       [4.6, 3.1, 1.5, 0.2],\n",
              "       [5. , 3.6, 1.4, 0.2]])"
            ]
          },
          "metadata": {},
          "execution_count": 7
        }
      ],
      "id": "027754bc-18b2-4ed9-b404-bb4259cae4ad"
    },
    {
      "cell_type": "code",
      "source": [
        "y = df[\"class\"].values\n",
        "y[0:5]"
      ],
      "metadata": {
        "trusted": true,
        "colab": {
          "base_uri": "https://localhost:8080/"
        },
        "id": "13aeab7c-561f-4440-8575-cfb42dca4c68",
        "outputId": "a67ca635-d353-482f-d15f-ddb24aaf3810"
      },
      "execution_count": 8,
      "outputs": [
        {
          "output_type": "execute_result",
          "data": {
            "text/plain": [
              "array(['setosa', 'setosa', 'setosa', 'setosa', 'setosa'], dtype=object)"
            ]
          },
          "metadata": {},
          "execution_count": 8
        }
      ],
      "id": "13aeab7c-561f-4440-8575-cfb42dca4c68"
    },
    {
      "cell_type": "markdown",
      "source": [
        "Setting up the decision tree"
      ],
      "metadata": {
        "id": "df343dc6-285e-44f5-b5f2-14d35887262a"
      },
      "id": "df343dc6-285e-44f5-b5f2-14d35887262a"
    },
    {
      "cell_type": "code",
      "source": [
        "from sklearn.model_selection import train_test_split"
      ],
      "metadata": {
        "trusted": true,
        "id": "6b0ed159-53bc-4fd2-874c-32d5783992a0"
      },
      "execution_count": 9,
      "outputs": [],
      "id": "6b0ed159-53bc-4fd2-874c-32d5783992a0"
    },
    {
      "cell_type": "code",
      "source": [
        "X_trainset, X_testset, y_trainset, y_testset = train_test_split( X, y, test_size=0.3, random_state=3)"
      ],
      "metadata": {
        "trusted": true,
        "id": "cf295a4a-7522-454d-89c7-fcbc3a2c6228"
      },
      "execution_count": 10,
      "outputs": [],
      "id": "cf295a4a-7522-454d-89c7-fcbc3a2c6228"
    },
    {
      "cell_type": "markdown",
      "source": [
        "Create entropy"
      ],
      "metadata": {
        "id": "81fa58aa-b01f-4525-86a2-bfa58be080fa"
      },
      "id": "81fa58aa-b01f-4525-86a2-bfa58be080fa"
    },
    {
      "cell_type": "code",
      "source": [
        "irisTree = DecisionTreeClassifier(criterion=\"entropy\", max_depth = 4)\n",
        "irisTree"
      ],
      "metadata": {
        "trusted": true,
        "colab": {
          "base_uri": "https://localhost:8080/"
        },
        "id": "9bd8e0b5-c14d-42e2-84ae-de14be5dcff1",
        "outputId": "76980e52-a48b-45d4-d9e2-bdbaf2008a86"
      },
      "execution_count": 11,
      "outputs": [
        {
          "output_type": "execute_result",
          "data": {
            "text/plain": [
              "DecisionTreeClassifier(class_weight=None, criterion='entropy', max_depth=4,\n",
              "            max_features=None, max_leaf_nodes=None,\n",
              "            min_impurity_decrease=0.0, min_impurity_split=None,\n",
              "            min_samples_leaf=1, min_samples_split=2,\n",
              "            min_weight_fraction_leaf=0.0, presort=False, random_state=None,\n",
              "            splitter='best')"
            ]
          },
          "metadata": {},
          "execution_count": 11
        }
      ],
      "id": "9bd8e0b5-c14d-42e2-84ae-de14be5dcff1"
    },
    {
      "cell_type": "markdown",
      "source": [
        "Fitting the data"
      ],
      "metadata": {
        "id": "e63da055-a7ed-46b8-92f8-a9bf84932be4"
      },
      "id": "e63da055-a7ed-46b8-92f8-a9bf84932be4"
    },
    {
      "cell_type": "code",
      "source": [
        "irisTree.fit(X_trainset, y_trainset)"
      ],
      "metadata": {
        "trusted": true,
        "colab": {
          "base_uri": "https://localhost:8080/"
        },
        "id": "c6cfd7db-698b-49c9-a212-acfd4e676d45",
        "outputId": "92164c38-76e0-4031-eb5d-ec1575fef6c0"
      },
      "execution_count": 12,
      "outputs": [
        {
          "output_type": "execute_result",
          "data": {
            "text/plain": [
              "DecisionTreeClassifier(class_weight=None, criterion='entropy', max_depth=4,\n",
              "            max_features=None, max_leaf_nodes=None,\n",
              "            min_impurity_decrease=0.0, min_impurity_split=None,\n",
              "            min_samples_leaf=1, min_samples_split=2,\n",
              "            min_weight_fraction_leaf=0.0, presort=False, random_state=None,\n",
              "            splitter='best')"
            ]
          },
          "metadata": {},
          "execution_count": 12
        }
      ],
      "id": "c6cfd7db-698b-49c9-a212-acfd4e676d45"
    },
    {
      "cell_type": "markdown",
      "source": [
        "Predicting"
      ],
      "metadata": {
        "id": "5cfdc2b3-89af-4e2f-9d08-952460296618"
      },
      "id": "5cfdc2b3-89af-4e2f-9d08-952460296618"
    },
    {
      "cell_type": "code",
      "source": [
        "predictTree = irisTree.predict(X_trainset)"
      ],
      "metadata": {
        "trusted": true,
        "id": "ad40005b-362e-4084-81ea-52ebe65ad05d"
      },
      "execution_count": 13,
      "outputs": [],
      "id": "ad40005b-362e-4084-81ea-52ebe65ad05d"
    },
    {
      "cell_type": "code",
      "source": [
        "print (predictTree [0:5])\n",
        "print (y_testset [0:5])"
      ],
      "metadata": {
        "trusted": true,
        "colab": {
          "base_uri": "https://localhost:8080/"
        },
        "id": "2388859a-8bc5-4006-8bc7-fa244ba7e07b",
        "outputId": "cab6de03-ba8a-472a-90f6-c3be73ea518e"
      },
      "execution_count": 14,
      "outputs": [
        {
          "output_type": "stream",
          "name": "stdout",
          "text": [
            "['setosa' 'setosa' 'setosa' 'setosa' 'virginica']\n",
            "['virginica' 'virginica' 'setosa' 'versicolor' 'virginica']\n"
          ]
        }
      ],
      "id": "2388859a-8bc5-4006-8bc7-fa244ba7e07b"
    },
    {
      "cell_type": "markdown",
      "source": [
        "Visualising the tree"
      ],
      "metadata": {
        "id": "aedc7527-4e64-4a06-b58e-c80602ee765d"
      },
      "id": "aedc7527-4e64-4a06-b58e-c80602ee765d"
    },
    {
      "cell_type": "code",
      "source": [
        "from sklearn.externals.six import StringIO\n",
        "import matplotlib.pyplot as plt\n",
        "import pydotplus\n",
        "import graphviz\n",
        "import matplotlib.image as mpimg\n",
        "from sklearn import tree\n",
        "%matplotlib inline "
      ],
      "metadata": {
        "trusted": true,
        "id": "145d43a9-d78b-4cdc-9787-5dd167e46367"
      },
      "execution_count": 17,
      "outputs": [],
      "id": "145d43a9-d78b-4cdc-9787-5dd167e46367"
    },
    {
      "cell_type": "code",
      "source": [
        "dot_data = StringIO()\n",
        "filename = \"irisTree.png\"\n",
        "featureNames = df.columns[0:4]\n",
        "targetNames = df[\"class\"].unique().tolist()\n",
        "out = tree.export_graphviz(irisTree, feature_names=featureNames, out_file=dot_data, class_names= np.unique(y_trainset), filled=True, special_characters=True,rotate=False)  \n",
        "graph = pydotplus.graph_from_dot_data(dot_data.getvalue())  \n",
        "graph.write_png(filename)\n",
        "img = mpimg.imread(filename)\n",
        "plt.figure(figsize=(10, 20))\n",
        "plt.imshow(img,interpolation='nearest')"
      ],
      "metadata": {
        "trusted": true,
        "colab": {
          "base_uri": "https://localhost:8080/",
          "height": 641
        },
        "id": "3c5a3273-91dc-4532-93dd-6e474d889484",
        "outputId": "a6040ac6-e61e-4320-8f52-74a5155d2df1"
      },
      "execution_count": 21,
      "outputs": [
        {
          "output_type": "execute_result",
          "data": {
            "text/plain": [
              "<matplotlib.image.AxesImage at 0x7f287d9205d0>"
            ]
          },
          "metadata": {},
          "execution_count": 21
        },
        {
          "output_type": "display_data",
          "data": {
            "image/png": "[encoded data removed]",
            "text/plain": [
              "<Figure size 720x1440 with 1 Axes>"
            ]
          },
          "metadata": {
            "needs_background": "light"
          }
        }
      ],
      "id": "3c5a3273-91dc-4532-93dd-6e474d889484"
    },
    {
      "cell_type": "markdown",
      "source": [
        "<b>b)\t</b>Evaluate the decision Trees classifier using Jaccard index, F1-scores, and log loss metrics"
      ],
      "metadata": {
        "id": "i1LKtkOef9uX"
      },
      "id": "i1LKtkOef9uX"
    },
    {
      "cell_type": "code",
      "source": [
        "!pip install scipy\n"
      ],
      "metadata": {
        "colab": {
          "base_uri": "https://localhost:8080/"
        },
        "id": "y4KoNBZvizrj",
        "outputId": "09699ebe-1a2f-46ce-fd0b-9794020a7da4"
      },
      "id": "y4KoNBZvizrj",
      "execution_count": 24,
      "outputs": [
        {
          "output_type": "stream",
          "name": "stdout",
          "text": [
            "Requirement already satisfied: scipy in /usr/local/lib/python3.7/dist-packages (1.4.1)\n",
            "Requirement already satisfied: numpy>=1.13.3 in /usr/local/lib/python3.7/dist-packages (from scipy) (1.19.5)\n"
          ]
        }
      ]
    },
    {
      "cell_type": "code",
      "source": [
        "from sklearn import metrics\n",
        "from sklearn.metrics import confusion_matrix, classification_report\n",
        "from sklearn.metrics import jaccard_score\n",
        "from sklearn.metrics import f1_score\n",
        "from sklearn.metrics import log_loss"
      ],
      "metadata": {
        "colab": {
          "base_uri": "https://localhost:8080/",
          "height": 374
        },
        "id": "rDrt8BfuhuTM",
        "outputId": "996553e3-661b-4fa0-9632-342131c0c30e"
      },
      "id": "rDrt8BfuhuTM",
      "execution_count": 29,
      "outputs": [
        {
          "output_type": "error",
          "ename": "ImportError",
          "evalue": "ignored",
          "traceback": [
            "\u001b[0;31m---------------------------------------------------------------------------\u001b[0m",
            "\u001b[0;31mImportError\u001b[0m                               Traceback (most recent call last)",
            "\u001b[0;32m<ipython-input-29-dcb8f214a2c1>\u001b[0m in \u001b[0;36m<module>\u001b[0;34m()\u001b[0m\n\u001b[1;32m      1\u001b[0m \u001b[0;32mfrom\u001b[0m \u001b[0msklearn\u001b[0m \u001b[0;32mimport\u001b[0m \u001b[0mmetrics\u001b[0m\u001b[0;34m\u001b[0m\u001b[0;34m\u001b[0m\u001b[0m\n\u001b[1;32m      2\u001b[0m \u001b[0;32mfrom\u001b[0m \u001b[0msklearn\u001b[0m\u001b[0;34m.\u001b[0m\u001b[0mmetrics\u001b[0m \u001b[0;32mimport\u001b[0m \u001b[0mconfusion_matrix\u001b[0m\u001b[0;34m,\u001b[0m \u001b[0mclassification_report\u001b[0m\u001b[0;34m\u001b[0m\u001b[0;34m\u001b[0m\u001b[0m\n\u001b[0;32m----> 3\u001b[0;31m \u001b[0;32mfrom\u001b[0m \u001b[0msklearn\u001b[0m\u001b[0;34m.\u001b[0m\u001b[0mmetrics\u001b[0m \u001b[0;32mimport\u001b[0m \u001b[0mjaccard_score\u001b[0m\u001b[0;34m\u001b[0m\u001b[0;34m\u001b[0m\u001b[0m\n\u001b[0m\u001b[1;32m      4\u001b[0m \u001b[0;32mfrom\u001b[0m \u001b[0msklearn\u001b[0m\u001b[0;34m.\u001b[0m\u001b[0mmetrics\u001b[0m \u001b[0;32mimport\u001b[0m \u001b[0mf1_score\u001b[0m\u001b[0;34m\u001b[0m\u001b[0;34m\u001b[0m\u001b[0m\n\u001b[1;32m      5\u001b[0m \u001b[0;32mfrom\u001b[0m \u001b[0msklearn\u001b[0m\u001b[0;34m.\u001b[0m\u001b[0mmetrics\u001b[0m \u001b[0;32mimport\u001b[0m \u001b[0mlog_loss\u001b[0m\u001b[0;34m\u001b[0m\u001b[0;34m\u001b[0m\u001b[0m\n",
            "\u001b[0;31mImportError\u001b[0m: cannot import name 'jaccard_score' from 'sklearn.metrics' (/usr/local/lib/python3.7/dist-packages/sklearn/metrics/__init__.py)",
            "",
            "\u001b[0;31m---------------------------------------------------------------------------\u001b[0;32m\nNOTE: If your import is failing due to a missing package, you can\nmanually install dependencies using either !pip or !apt.\n\nTo view examples of installing some common dependencies, click the\n\"Open Examples\" button below.\n\u001b[0;31m---------------------------------------------------------------------------\u001b[0m\n"
          ],
          "errorDetails": {
            "actions": [
              {
                "action": "open_url",
                "actionText": "Open Examples",
                "url": "/notebooks/snippets/importing_libraries.ipynb"
              }
            ]
          }
        }
      ]
    }
  ]
}