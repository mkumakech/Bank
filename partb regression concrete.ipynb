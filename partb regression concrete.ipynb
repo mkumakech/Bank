{
 "cells": [
  {
   "cell_type": "code",
   "execution_count": 1,
   "id": "e31f2d7c",
   "metadata": {},
   "outputs": [
    {
     "name": "stderr",
     "output_type": "stream",
     "text": [
      "Using TensorFlow backend.\n",
      "/home/jupyterlab/conda/envs/python/lib/python3.7/site-packages/tensorflow/python/framework/dtypes.py:516: FutureWarning: Passing (type, 1) or '1type' as a synonym of type is deprecated; in a future version of numpy, it will be understood as (type, (1,)) / '(1,)type'.\n",
      "  _np_qint8 = np.dtype([(\"qint8\", np.int8, 1)])\n",
      "/home/jupyterlab/conda/envs/python/lib/python3.7/site-packages/tensorflow/python/framework/dtypes.py:517: FutureWarning: Passing (type, 1) or '1type' as a synonym of type is deprecated; in a future version of numpy, it will be understood as (type, (1,)) / '(1,)type'.\n",
      "  _np_quint8 = np.dtype([(\"quint8\", np.uint8, 1)])\n",
      "/home/jupyterlab/conda/envs/python/lib/python3.7/site-packages/tensorflow/python/framework/dtypes.py:518: FutureWarning: Passing (type, 1) or '1type' as a synonym of type is deprecated; in a future version of numpy, it will be understood as (type, (1,)) / '(1,)type'.\n",
      "  _np_qint16 = np.dtype([(\"qint16\", np.int16, 1)])\n",
      "/home/jupyterlab/conda/envs/python/lib/python3.7/site-packages/tensorflow/python/framework/dtypes.py:519: FutureWarning: Passing (type, 1) or '1type' as a synonym of type is deprecated; in a future version of numpy, it will be understood as (type, (1,)) / '(1,)type'.\n",
      "  _np_quint16 = np.dtype([(\"quint16\", np.uint16, 1)])\n",
      "/home/jupyterlab/conda/envs/python/lib/python3.7/site-packages/tensorflow/python/framework/dtypes.py:520: FutureWarning: Passing (type, 1) or '1type' as a synonym of type is deprecated; in a future version of numpy, it will be understood as (type, (1,)) / '(1,)type'.\n",
      "  _np_qint32 = np.dtype([(\"qint32\", np.int32, 1)])\n",
      "/home/jupyterlab/conda/envs/python/lib/python3.7/site-packages/tensorflow/python/framework/dtypes.py:525: FutureWarning: Passing (type, 1) or '1type' as a synonym of type is deprecated; in a future version of numpy, it will be understood as (type, (1,)) / '(1,)type'.\n",
      "  np_resource = np.dtype([(\"resource\", np.ubyte, 1)])\n",
      "/home/jupyterlab/conda/envs/python/lib/python3.7/site-packages/tensorboard/compat/tensorflow_stub/dtypes.py:541: FutureWarning: Passing (type, 1) or '1type' as a synonym of type is deprecated; in a future version of numpy, it will be understood as (type, (1,)) / '(1,)type'.\n",
      "  _np_qint8 = np.dtype([(\"qint8\", np.int8, 1)])\n",
      "/home/jupyterlab/conda/envs/python/lib/python3.7/site-packages/tensorboard/compat/tensorflow_stub/dtypes.py:542: FutureWarning: Passing (type, 1) or '1type' as a synonym of type is deprecated; in a future version of numpy, it will be understood as (type, (1,)) / '(1,)type'.\n",
      "  _np_quint8 = np.dtype([(\"quint8\", np.uint8, 1)])\n",
      "/home/jupyterlab/conda/envs/python/lib/python3.7/site-packages/tensorboard/compat/tensorflow_stub/dtypes.py:543: FutureWarning: Passing (type, 1) or '1type' as a synonym of type is deprecated; in a future version of numpy, it will be understood as (type, (1,)) / '(1,)type'.\n",
      "  _np_qint16 = np.dtype([(\"qint16\", np.int16, 1)])\n",
      "/home/jupyterlab/conda/envs/python/lib/python3.7/site-packages/tensorboard/compat/tensorflow_stub/dtypes.py:544: FutureWarning: Passing (type, 1) or '1type' as a synonym of type is deprecated; in a future version of numpy, it will be understood as (type, (1,)) / '(1,)type'.\n",
      "  _np_quint16 = np.dtype([(\"quint16\", np.uint16, 1)])\n",
      "/home/jupyterlab/conda/envs/python/lib/python3.7/site-packages/tensorboard/compat/tensorflow_stub/dtypes.py:545: FutureWarning: Passing (type, 1) or '1type' as a synonym of type is deprecated; in a future version of numpy, it will be understood as (type, (1,)) / '(1,)type'.\n",
      "  _np_qint32 = np.dtype([(\"qint32\", np.int32, 1)])\n",
      "/home/jupyterlab/conda/envs/python/lib/python3.7/site-packages/tensorboard/compat/tensorflow_stub/dtypes.py:550: FutureWarning: Passing (type, 1) or '1type' as a synonym of type is deprecated; in a future version of numpy, it will be understood as (type, (1,)) / '(1,)type'.\n",
      "  np_resource = np.dtype([(\"resource\", np.ubyte, 1)])\n",
      "/home/jupyterlab/conda/envs/python/lib/python3.7/site-packages/sklearn/utils/validation.py:37: DeprecationWarning: distutils Version classes are deprecated. Use packaging.version instead.\n",
      "  LARGE_SPARSE_SUPPORTED = LooseVersion(scipy_version) >= '0.14.0'\n"
     ]
    }
   ],
   "source": [
    "import numpy as np\n",
    "import pandas as pd\n",
    "from keras.models import Sequential\n",
    "from keras.layers import Dense\n",
    "from sklearn.model_selection import train_test_split\n",
    "from sklearn.metrics import mean_squared_error"
   ]
  },
  {
   "cell_type": "code",
   "execution_count": 2,
   "id": "fcbeb8bf",
   "metadata": {},
   "outputs": [
    {
     "data": {
      "text/html": [
       "<div>\n",
       "<style scoped>\n",
       "    .dataframe tbody tr th:only-of-type {\n",
       "        vertical-align: middle;\n",
       "    }\n",
       "\n",
       "    .dataframe tbody tr th {\n",
       "        vertical-align: top;\n",
       "    }\n",
       "\n",
       "    .dataframe thead th {\n",
       "        text-align: right;\n",
       "    }\n",
       "</style>\n",
       "<table border=\"1\" class=\"dataframe\">\n",
       "  <thead>\n",
       "    <tr style=\"text-align: right;\">\n",
       "      <th></th>\n",
       "      <th>Cement</th>\n",
       "      <th>Blast Furnace Slag</th>\n",
       "      <th>Fly Ash</th>\n",
       "      <th>Water</th>\n",
       "      <th>Superplasticizer</th>\n",
       "      <th>Coarse Aggregate</th>\n",
       "      <th>Fine Aggregate</th>\n",
       "      <th>Age</th>\n",
       "      <th>Strength</th>\n",
       "    </tr>\n",
       "  </thead>\n",
       "  <tbody>\n",
       "    <tr>\n",
       "      <th>0</th>\n",
       "      <td>540.0</td>\n",
       "      <td>0.0</td>\n",
       "      <td>0.0</td>\n",
       "      <td>162.0</td>\n",
       "      <td>2.5</td>\n",
       "      <td>1040.0</td>\n",
       "      <td>676.0</td>\n",
       "      <td>28</td>\n",
       "      <td>79.99</td>\n",
       "    </tr>\n",
       "    <tr>\n",
       "      <th>1</th>\n",
       "      <td>540.0</td>\n",
       "      <td>0.0</td>\n",
       "      <td>0.0</td>\n",
       "      <td>162.0</td>\n",
       "      <td>2.5</td>\n",
       "      <td>1055.0</td>\n",
       "      <td>676.0</td>\n",
       "      <td>28</td>\n",
       "      <td>61.89</td>\n",
       "    </tr>\n",
       "    <tr>\n",
       "      <th>2</th>\n",
       "      <td>332.5</td>\n",
       "      <td>142.5</td>\n",
       "      <td>0.0</td>\n",
       "      <td>228.0</td>\n",
       "      <td>0.0</td>\n",
       "      <td>932.0</td>\n",
       "      <td>594.0</td>\n",
       "      <td>270</td>\n",
       "      <td>40.27</td>\n",
       "    </tr>\n",
       "    <tr>\n",
       "      <th>3</th>\n",
       "      <td>332.5</td>\n",
       "      <td>142.5</td>\n",
       "      <td>0.0</td>\n",
       "      <td>228.0</td>\n",
       "      <td>0.0</td>\n",
       "      <td>932.0</td>\n",
       "      <td>594.0</td>\n",
       "      <td>365</td>\n",
       "      <td>41.05</td>\n",
       "    </tr>\n",
       "    <tr>\n",
       "      <th>4</th>\n",
       "      <td>198.6</td>\n",
       "      <td>132.4</td>\n",
       "      <td>0.0</td>\n",
       "      <td>192.0</td>\n",
       "      <td>0.0</td>\n",
       "      <td>978.4</td>\n",
       "      <td>825.5</td>\n",
       "      <td>360</td>\n",
       "      <td>44.30</td>\n",
       "    </tr>\n",
       "  </tbody>\n",
       "</table>\n",
       "</div>"
      ],
      "text/plain": [
       "   Cement  Blast Furnace Slag  Fly Ash  Water  Superplasticizer  \\\n",
       "0   540.0                 0.0      0.0  162.0               2.5   \n",
       "1   540.0                 0.0      0.0  162.0               2.5   \n",
       "2   332.5               142.5      0.0  228.0               0.0   \n",
       "3   332.5               142.5      0.0  228.0               0.0   \n",
       "4   198.6               132.4      0.0  192.0               0.0   \n",
       "\n",
       "   Coarse Aggregate  Fine Aggregate  Age  Strength  \n",
       "0            1040.0           676.0   28     79.99  \n",
       "1            1055.0           676.0   28     61.89  \n",
       "2             932.0           594.0  270     40.27  \n",
       "3             932.0           594.0  365     41.05  \n",
       "4             978.4           825.5  360     44.30  "
      ]
     },
     "execution_count": 2,
     "metadata": {},
     "output_type": "execute_result"
    }
   ],
   "source": [
    "concrete_dataset = pd.read_csv('https://cocl.us/concrete_data')\n",
    "concrete_dataset.head()"
   ]
  },
  {
   "cell_type": "code",
   "execution_count": 3,
   "id": "257f3710",
   "metadata": {},
   "outputs": [],
   "source": [
    "concrete_data_columns = concrete_dataset.columns\n",
    "\n",
    "predictors = concrete_dataset[concrete_data_columns[concrete_data_columns != 'Strength']] # all columns except Strength\n",
    "target = concrete_dataset['Strength'] # Strength column"
   ]
  },
  {
   "cell_type": "code",
   "execution_count": 19,
   "id": "75c9126f-192a-4049-b927-95f817c0d4b3",
   "metadata": {},
   "outputs": [
    {
     "data": {
      "text/html": [
       "<div>\n",
       "<style scoped>\n",
       "    .dataframe tbody tr th:only-of-type {\n",
       "        vertical-align: middle;\n",
       "    }\n",
       "\n",
       "    .dataframe tbody tr th {\n",
       "        vertical-align: top;\n",
       "    }\n",
       "\n",
       "    .dataframe thead th {\n",
       "        text-align: right;\n",
       "    }\n",
       "</style>\n",
       "<table border=\"1\" class=\"dataframe\">\n",
       "  <thead>\n",
       "    <tr style=\"text-align: right;\">\n",
       "      <th></th>\n",
       "      <th>Cement</th>\n",
       "      <th>Blast Furnace Slag</th>\n",
       "      <th>Fly Ash</th>\n",
       "      <th>Water</th>\n",
       "      <th>Superplasticizer</th>\n",
       "      <th>Coarse Aggregate</th>\n",
       "      <th>Fine Aggregate</th>\n",
       "      <th>Age</th>\n",
       "    </tr>\n",
       "  </thead>\n",
       "  <tbody>\n",
       "    <tr>\n",
       "      <th>0</th>\n",
       "      <td>2.476712</td>\n",
       "      <td>-0.856472</td>\n",
       "      <td>-0.846733</td>\n",
       "      <td>-0.916319</td>\n",
       "      <td>-0.620147</td>\n",
       "      <td>0.862735</td>\n",
       "      <td>-1.217079</td>\n",
       "      <td>-0.279597</td>\n",
       "    </tr>\n",
       "    <tr>\n",
       "      <th>1</th>\n",
       "      <td>2.476712</td>\n",
       "      <td>-0.856472</td>\n",
       "      <td>-0.846733</td>\n",
       "      <td>-0.916319</td>\n",
       "      <td>-0.620147</td>\n",
       "      <td>1.055651</td>\n",
       "      <td>-1.217079</td>\n",
       "      <td>-0.279597</td>\n",
       "    </tr>\n",
       "    <tr>\n",
       "      <th>2</th>\n",
       "      <td>0.491187</td>\n",
       "      <td>0.795140</td>\n",
       "      <td>-0.846733</td>\n",
       "      <td>2.174405</td>\n",
       "      <td>-1.038638</td>\n",
       "      <td>-0.526262</td>\n",
       "      <td>-2.239829</td>\n",
       "      <td>3.551340</td>\n",
       "    </tr>\n",
       "    <tr>\n",
       "      <th>3</th>\n",
       "      <td>0.491187</td>\n",
       "      <td>0.795140</td>\n",
       "      <td>-0.846733</td>\n",
       "      <td>2.174405</td>\n",
       "      <td>-1.038638</td>\n",
       "      <td>-0.526262</td>\n",
       "      <td>-2.239829</td>\n",
       "      <td>5.055221</td>\n",
       "    </tr>\n",
       "    <tr>\n",
       "      <th>4</th>\n",
       "      <td>-0.790075</td>\n",
       "      <td>0.678079</td>\n",
       "      <td>-0.846733</td>\n",
       "      <td>0.488555</td>\n",
       "      <td>-1.038638</td>\n",
       "      <td>0.070492</td>\n",
       "      <td>0.647569</td>\n",
       "      <td>4.976069</td>\n",
       "    </tr>\n",
       "  </tbody>\n",
       "</table>\n",
       "</div>"
      ],
      "text/plain": [
       "     Cement  Blast Furnace Slag   Fly Ash     Water  Superplasticizer  \\\n",
       "0  2.476712           -0.856472 -0.846733 -0.916319         -0.620147   \n",
       "1  2.476712           -0.856472 -0.846733 -0.916319         -0.620147   \n",
       "2  0.491187            0.795140 -0.846733  2.174405         -1.038638   \n",
       "3  0.491187            0.795140 -0.846733  2.174405         -1.038638   \n",
       "4 -0.790075            0.678079 -0.846733  0.488555         -1.038638   \n",
       "\n",
       "   Coarse Aggregate  Fine Aggregate       Age  \n",
       "0          0.862735       -1.217079 -0.279597  \n",
       "1          1.055651       -1.217079 -0.279597  \n",
       "2         -0.526262       -2.239829  3.551340  \n",
       "3         -0.526262       -2.239829  5.055221  \n",
       "4          0.070492        0.647569  4.976069  "
      ]
     },
     "execution_count": 19,
     "metadata": {},
     "output_type": "execute_result"
    }
   ],
   "source": [
    "predictors_norm = (predictors - predictors.mean()) / predictors.std()\n",
    "predictors_norm.head()"
   ]
  },
  {
   "cell_type": "code",
   "execution_count": 20,
   "id": "de7d79b5",
   "metadata": {},
   "outputs": [
    {
     "data": {
      "text/plain": [
       "8"
      ]
     },
     "execution_count": 20,
     "metadata": {},
     "output_type": "execute_result"
    }
   ],
   "source": [
    "n_cols = predictors_norm.shape[1] # number of predictors\n",
    "n_cols"
   ]
  },
  {
   "cell_type": "code",
   "execution_count": 21,
   "id": "c06c6cfc-78d2-4ae8-b80c-ea834846d9e9",
   "metadata": {},
   "outputs": [],
   "source": [
    "def regression_model():\n",
    "    # create model\n",
    "    model = Sequential()\n",
    "    model.add(Dense(10, activation='relu', input_shape=(n_cols,)))\n",
    "    model.add(Dense(1))\n",
    "    \n",
    "    # compile model\n",
    "    model.compile(optimizer='adam', loss='mean_squared_error')\n",
    "    return model"
   ]
  },
  {
   "cell_type": "code",
   "execution_count": 22,
   "id": "1071fa0f-4e2f-4c95-853a-727c577b81ca",
   "metadata": {},
   "outputs": [],
   "source": [
    "X_train, X_test, y_train, y_test = train_test_split(predictors_norm, target, test_size=0.3, random_state=42)"
   ]
  },
  {
   "cell_type": "code",
   "execution_count": 23,
   "id": "66f9be14",
   "metadata": {},
   "outputs": [],
   "source": [
    "model = regression_model()"
   ]
  },
  {
   "cell_type": "code",
   "execution_count": 24,
   "id": "c504a0d5",
   "metadata": {},
   "outputs": [
    {
     "name": "stdout",
     "output_type": "stream",
     "text": [
      "Epoch 1/50\n",
      "721/721 [==============================] - 0s 262us/step - loss: 1549.4572\n",
      "Epoch 2/50\n",
      "721/721 [==============================] - 0s 85us/step - loss: 1535.1622\n",
      "Epoch 3/50\n",
      "721/721 [==============================] - 0s 84us/step - loss: 1520.5816\n",
      "Epoch 4/50\n",
      "721/721 [==============================] - 0s 83us/step - loss: 1504.9961\n",
      "Epoch 5/50\n",
      "721/721 [==============================] - 0s 77us/step - loss: 1488.1100\n",
      "Epoch 6/50\n",
      "721/721 [==============================] - 0s 57us/step - loss: 1469.6659\n",
      "Epoch 7/50\n",
      "721/721 [==============================] - 0s 56us/step - loss: 1449.4600\n",
      "Epoch 8/50\n",
      "721/721 [==============================] - 0s 54us/step - loss: 1427.4806\n",
      "Epoch 9/50\n",
      "721/721 [==============================] - 0s 56us/step - loss: 1403.6645\n",
      "Epoch 10/50\n",
      "721/721 [==============================] - 0s 52us/step - loss: 1377.5069\n",
      "Epoch 11/50\n",
      "721/721 [==============================] - 0s 54us/step - loss: 1349.8812\n",
      "Epoch 12/50\n",
      "721/721 [==============================] - 0s 56us/step - loss: 1319.8003\n",
      "Epoch 13/50\n",
      "721/721 [==============================] - 0s 55us/step - loss: 1288.1259\n",
      "Epoch 14/50\n",
      "721/721 [==============================] - 0s 55us/step - loss: 1254.8603\n",
      "Epoch 15/50\n",
      "721/721 [==============================] - 0s 57us/step - loss: 1220.4612\n",
      "Epoch 16/50\n",
      "721/721 [==============================] - 0s 55us/step - loss: 1183.3074\n",
      "Epoch 17/50\n",
      "721/721 [==============================] - 0s 56us/step - loss: 1146.3616\n",
      "Epoch 18/50\n",
      "721/721 [==============================] - 0s 54us/step - loss: 1107.6425\n",
      "Epoch 19/50\n",
      "721/721 [==============================] - 0s 56us/step - loss: 1068.2140\n",
      "Epoch 20/50\n",
      "721/721 [==============================] - 0s 55us/step - loss: 1028.8223\n",
      "Epoch 21/50\n",
      "721/721 [==============================] - 0s 56us/step - loss: 988.6060\n",
      "Epoch 22/50\n",
      "721/721 [==============================] - 0s 52us/step - loss: 948.0447\n",
      "Epoch 23/50\n",
      "721/721 [==============================] - 0s 56us/step - loss: 907.9399\n",
      "Epoch 24/50\n",
      "721/721 [==============================] - 0s 40us/step - loss: 868.5676\n",
      "Epoch 25/50\n",
      "721/721 [==============================] - 0s 56us/step - loss: 828.7320\n",
      "Epoch 26/50\n",
      "721/721 [==============================] - 0s 51us/step - loss: 790.6507\n",
      "Epoch 27/50\n",
      "721/721 [==============================] - 0s 52us/step - loss: 752.3091\n",
      "Epoch 28/50\n",
      "721/721 [==============================] - 0s 48us/step - loss: 715.9161\n",
      "Epoch 29/50\n",
      "721/721 [==============================] - 0s 39us/step - loss: 679.6026\n",
      "Epoch 30/50\n",
      "721/721 [==============================] - 0s 52us/step - loss: 645.5409\n",
      "Epoch 31/50\n",
      "721/721 [==============================] - 0s 47us/step - loss: 612.1768\n",
      "Epoch 32/50\n",
      "721/721 [==============================] - 0s 41us/step - loss: 580.9655\n",
      "Epoch 33/50\n",
      "721/721 [==============================] - 0s 41us/step - loss: 550.5756\n",
      "Epoch 34/50\n",
      "721/721 [==============================] - 0s 47us/step - loss: 522.0994\n",
      "Epoch 35/50\n",
      "721/721 [==============================] - 0s 39us/step - loss: 495.1365\n",
      "Epoch 36/50\n",
      "721/721 [==============================] - 0s 47us/step - loss: 470.1596\n",
      "Epoch 37/50\n",
      "721/721 [==============================] - 0s 47us/step - loss: 446.3303\n",
      "Epoch 38/50\n",
      "721/721 [==============================] - 0s 35us/step - loss: 424.1782\n",
      "Epoch 39/50\n",
      "721/721 [==============================] - 0s 50us/step - loss: 403.8618\n",
      "Epoch 40/50\n",
      "721/721 [==============================] - 0s 49us/step - loss: 384.5401\n",
      "Epoch 41/50\n",
      "721/721 [==============================] - 0s 38us/step - loss: 366.9668\n",
      "Epoch 42/50\n",
      "721/721 [==============================] - 0s 51us/step - loss: 350.3041\n",
      "Epoch 43/50\n",
      "721/721 [==============================] - 0s 50us/step - loss: 335.3396\n",
      "Epoch 44/50\n",
      "721/721 [==============================] - 0s 52us/step - loss: 320.8947\n",
      "Epoch 45/50\n",
      "721/721 [==============================] - 0s 42us/step - loss: 308.3843\n",
      "Epoch 46/50\n",
      "721/721 [==============================] - 0s 48us/step - loss: 296.3709\n",
      "Epoch 47/50\n",
      "721/721 [==============================] - 0s 49us/step - loss: 285.5935\n",
      "Epoch 48/50\n",
      "721/721 [==============================] - 0s 39us/step - loss: 275.5718\n",
      "Epoch 49/50\n",
      "721/721 [==============================] - 0s 47us/step - loss: 266.0159\n",
      "Epoch 50/50\n",
      "721/721 [==============================] - 0s 47us/step - loss: 257.5143\n"
     ]
    },
    {
     "data": {
      "text/plain": [
       "<keras.callbacks.History at 0x7fce687b0c90>"
      ]
     },
     "execution_count": 24,
     "metadata": {},
     "output_type": "execute_result"
    }
   ],
   "source": [
    "epochs = 50\n",
    "model.fit(X_train, y_train, epochs=epochs, verbose=1)"
   ]
  },
  {
   "cell_type": "code",
   "execution_count": 25,
   "id": "9c3a3caa-161e-4e32-a05d-02d3e3e93e4f",
   "metadata": {},
   "outputs": [
    {
     "name": "stdout",
     "output_type": "stream",
     "text": [
      "_________________________________________________________________\n",
      "Layer (type)                 Output Shape              Param #   \n",
      "=================================================================\n",
      "dense_3 (Dense)              (None, 10)                90        \n",
      "_________________________________________________________________\n",
      "dense_4 (Dense)              (None, 1)                 11        \n",
      "=================================================================\n",
      "Total params: 101\n",
      "Trainable params: 101\n",
      "Non-trainable params: 0\n",
      "_________________________________________________________________\n"
     ]
    }
   ],
   "source": [
    "model.summary()"
   ]
  },
  {
   "cell_type": "code",
   "execution_count": 26,
   "id": "2d7d7b87-236a-4f16-85c9-d8f030e9d210",
   "metadata": {},
   "outputs": [
    {
     "name": "stdout",
     "output_type": "stream",
     "text": [
      "309/309 [==============================] - 0s 104us/step\n"
     ]
    },
    {
     "data": {
      "text/plain": [
       "251.4110738513539"
      ]
     },
     "execution_count": 26,
     "metadata": {},
     "output_type": "execute_result"
    }
   ],
   "source": [
    "loss_val = model.evaluate(X_test, y_test)\n",
    "y_pred = model.predict(X_test)\n",
    "loss_val"
   ]
  },
  {
   "cell_type": "code",
   "execution_count": 27,
   "id": "ab526579-6e5f-45b3-a894-dda9fe3fffb4",
   "metadata": {},
   "outputs": [
    {
     "name": "stdout",
     "output_type": "stream",
     "text": [
      "251.41107581171372 0.0\n"
     ]
    }
   ],
   "source": [
    "mean_square_error = mean_squared_error(y_test, y_pred)\n",
    "mean = np.mean(mean_square_error)\n",
    "standard_deviation = np.std(mean_square_error)\n",
    "print(mean, standard_deviation)"
   ]
  },
  {
   "cell_type": "code",
   "execution_count": 28,
   "id": "77f7c934-eec6-4943-b366-033e60d2d8fc",
   "metadata": {},
   "outputs": [
    {
     "name": "stdout",
     "output_type": "stream",
     "text": [
      "Mean Sqr Err 1: 30684.335709951458\n",
      "Mean Sqr Err 2: 5316.27310881877\n",
      "Mean Sqr Err 3: 1898.2897388248382\n",
      "Mean Sqr Err 4: 749.9049741874621\n",
      "Mean Sqr Err 5: 344.5534633401914\n",
      "Mean Sqr Err 6: 240.53473325068896\n",
      "Mean Sqr Err 7: 213.86212276717993\n",
      "Mean Sqr Err 8: 138.82419001014486\n",
      "Mean Sqr Err 9: 129.4856607875392\n",
      "Mean Sqr Err 10: 115.46403345398147\n",
      "Mean Sqr Err 11: 103.93495832523482\n",
      "Mean Sqr Err 12: 100.7324509605235\n",
      "Mean Sqr Err 13: 117.57747852609381\n",
      "Mean Sqr Err 14: 124.20750397617377\n",
      "Mean Sqr Err 15: 110.02967515963952\n",
      "Mean Sqr Err 16: 111.85861465305958\n",
      "Mean Sqr Err 17: 110.53150772045345\n",
      "Mean Sqr Err 18: 96.33291811156042\n",
      "Mean Sqr Err 19: 106.65099272990304\n",
      "Mean Sqr Err 20: 128.9620449720463\n",
      "Mean Sqr Err 21: 114.7692642952632\n",
      "Mean Sqr Err 22: 107.78967774030075\n",
      "Mean Sqr Err 23: 109.06058141714547\n",
      "Mean Sqr Err 24: 103.9418918399749\n",
      "Mean Sqr Err 25: 123.47289530436198\n",
      "Mean Sqr Err 26: 100.02430497944162\n",
      "Mean Sqr Err 27: 125.70855828936432\n",
      "Mean Sqr Err 28: 115.99425193021213\n",
      "Mean Sqr Err 29: 110.30110598073422\n",
      "Mean Sqr Err 30: 112.6492402160052\n",
      "Mean Sqr Err 31: 132.46455630206754\n",
      "Mean Sqr Err 32: 108.67708058033175\n",
      "Mean Sqr Err 33: 102.90619301410169\n",
      "Mean Sqr Err 34: 108.77875827431293\n",
      "Mean Sqr Err 35: 131.62151773693492\n",
      "Mean Sqr Err 36: 136.2598639923392\n",
      "Mean Sqr Err 37: 131.65088172097808\n",
      "Mean Sqr Err 38: 128.2081150684542\n",
      "Mean Sqr Err 39: 113.8442778849679\n",
      "Mean Sqr Err 40: 116.71625017579706\n",
      "Mean Sqr Err 41: 121.70653030247364\n",
      "Mean Sqr Err 42: 112.10181962787912\n",
      "Mean Sqr Err 43: 110.20428237174322\n",
      "Mean Sqr Err 44: 113.85579607324692\n",
      "Mean Sqr Err 45: 128.5780144355058\n",
      "Mean Sqr Err 46: 125.57293614754785\n",
      "Mean Sqr Err 47: 131.29745142668196\n",
      "Mean Sqr Err 48: 125.6321696556116\n",
      "Mean Sqr Err 49: 106.7729360092805\n",
      "Mean Sqr Err 50: 119.38133615043171\n",
      "\n",
      "\n",
      "Below is the mean and std dev 50 mean squared errors with normalized data. Total number of epochs for each training is: 50\n",
      "\n",
      "Mean: 889.4457227918858\n",
      "Standard Deviation: 4324.848373255015\n"
     ]
    }
   ],
   "source": [
    "total_mean_squared_errors = 50\n",
    "epochs = 50\n",
    "mean_squared_errors = []\n",
    "for i in range(0, total_mean_squared_errors):\n",
    "    X_train, X_test, y_train, y_test = train_test_split(predictors, target, test_size=0.3, random_state=i)\n",
    "    model.fit(X_train, y_train, epochs=epochs, verbose=0)\n",
    "    MSE = model.evaluate(X_test, y_test, verbose=0)\n",
    "    print(\"Mean Sqr Err \"+str(i+1)+\": \"+str(MSE))\n",
    "    y_pred = model.predict(X_test)\n",
    "    mean_square_error = mean_squared_error(y_test, y_pred)\n",
    "    mean_squared_errors.append(mean_square_error)\n",
    "\n",
    "mean_squared_errors = np.array(mean_squared_errors)\n",
    "mean = np.mean(mean_squared_errors)\n",
    "standard_deviation = np.std(mean_squared_errors)\n",
    "\n",
    "print('\\n')\n",
    "print(\"Below is the mean and std dev \" +str(total_mean_squared_errors) + \" mean squared errors with normalized data. Total number of epochs for each training is: \" +str(epochs) + \"\\n\")\n",
    "print(\"Mean: \"+str(mean))\n",
    "print(\"Standard Deviation: \"+str(standard_deviation))"
   ]
  },
  {
   "cell_type": "code",
   "execution_count": null,
   "id": "92290947-79f4-44ef-9f52-8ede41d38ba5",
   "metadata": {},
   "outputs": [],
   "source": []
  },
  {
   "cell_type": "code",
   "execution_count": null,
   "id": "d384ef54-751f-4166-83ab-823b667bcfa9",
   "metadata": {},
   "outputs": [],
   "source": []
  }
 ],
 "metadata": {
  "kernelspec": {
   "display_name": "Python",
   "language": "python",
   "name": "conda-env-python-py"
  },
  "language_info": {
   "codemirror_mode": {
    "name": "ipython",
    "version": 3
   },
   "file_extension": ".py",
   "mimetype": "text/x-python",
   "name": "python",
   "nbconvert_exporter": "python",
   "pygments_lexer": "ipython3",
   "version": "3.7.12"
  }
 },
 "nbformat": 4,
 "nbformat_minor": 5
}
